{
 "cells": [
  {
   "cell_type": "code",
   "execution_count": 1,
   "metadata": {},
   "outputs": [],
   "source": [
    "import cv2\n",
    "import numpy as np\n",
    "import os"
   ]
  },
  {
   "cell_type": "code",
   "execution_count": 2,
   "metadata": {},
   "outputs": [],
   "source": [
    "from pyimagesearch.preprocessing import SimplePreprocessor\n",
    "from pyimagesearch.datasets import SimpleDatasetLoader"
   ]
  },
  {
   "cell_type": "code",
   "execution_count": 3,
   "metadata": {},
   "outputs": [],
   "source": [
    "from imutils import paths"
   ]
  },
  {
   "cell_type": "code",
   "execution_count": null,
   "metadata": {},
   "outputs": [],
   "source": [
    "imagePaths = list(paths.list_images(args[\"dataset\"]))"
   ]
  },
  {
   "cell_type": "code",
   "execution_count": 7,
   "metadata": {},
   "outputs": [],
   "source": [
    "data, labels = [], []\n",
    "\n",
    "dataset = '../../SolutionDL4CV/SB_code/datasets/animals'\n",
    "img_paths = list(paths.list_images(dataset))\n",
    "\n",
    "for (i, imagePath) in enumerate(img_paths):\n",
    "    # load the image and extract the class label assuming\n",
    "    # that our path has the following format:\n",
    "    # /path/to/dataset/{class}/{image}.jpg\n",
    "    image = cv2.imread(imagePath)\n",
    "    label = imagePath.split(os.path.sep)[-2]"
   ]
  },
  {
   "cell_type": "code",
   "execution_count": 1,
   "metadata": {},
   "outputs": [],
   "source": [
    "from sklearn.neighbors import KNeighborsClassifier\n",
    "from sklearn.preprocessing import LabelEncoder\n",
    "from sklearn.model_selection import train_test_split\n",
    "from sklearn.metrics import classification_report\n",
    "from pyimagesearch.preprocessing import SimplePreprocessor\n",
    "from pyimagesearch.datasets import SimpleDatasetLoader\n",
    "from imutils import paths\n",
    "import argparse"
   ]
  },
  {
   "cell_type": "code",
   "execution_count": 2,
   "metadata": {},
   "outputs": [],
   "source": [
    "ap = argparse.ArgumentParser()\n",
    "ap.add_argument('-d', '--dataset', required=True, help='path to input dataset')\n",
    "ap.add_argument('-k', '--neighbors', type='int', default=1, help='# of nearest neighbors for classification')\n",
    "ap.add_argument('-j', '--jobs', type='int', default=-1, help='# of jobs for k-NN distance (-1 uses all available cores)')\n",
    "args = vars(ap.parse_args())"
   ]
  },
  {
   "cell_type": "code",
   "execution_count": 6,
   "metadata": {},
   "outputs": [
    {
     "name": "stdout",
     "output_type": "stream",
     "text": [
      "[INFO] loading images...\n"
     ]
    }
   ],
   "source": [
    "args = {}\n",
    "args['dataset'] = '../../SolutionDL4CV/SB_code/datasets/animals'\n",
    "print('[INFO] loading images...')\n",
    "img_paths = list(paths.list_images(args['dataset']))\n",
    "\n",
    "sp = SimplePreprocessor(32, 32)\n",
    "sdl = SimpleDatasetLoader(preprocessors=[sp])"
   ]
  },
  {
   "cell_type": "code",
   "execution_count": 7,
   "metadata": {},
   "outputs": [
    {
     "name": "stdout",
     "output_type": "stream",
     "text": [
      "[INFO] processed 500/3000\n",
      "[INFO] processed 1000/3000\n",
      "[INFO] processed 1500/3000\n",
      "[INFO] processed 2000/3000\n",
      "[INFO] processed 2500/3000\n",
      "[INFO] processed 3000/3000\n"
     ]
    }
   ],
   "source": [
    "data, labels = sdl.load(img_paths, verbose=500)"
   ]
  },
  {
   "cell_type": "code",
   "execution_count": 9,
   "metadata": {},
   "outputs": [
    {
     "data": {
      "text/plain": [
       "(3000, 3072)"
      ]
     },
     "execution_count": 9,
     "metadata": {},
     "output_type": "execute_result"
    }
   ],
   "source": [
    "# data = data.reshape((data.shape[0], 3072))\n",
    "data = data.reshape((len(data), -1))\n",
    "data.shape"
   ]
  },
  {
   "cell_type": "code",
   "execution_count": 12,
   "metadata": {},
   "outputs": [
    {
     "name": "stdout",
     "output_type": "stream",
     "text": [
      "[INFO] features matrix: 9.0MB\n"
     ]
    }
   ],
   "source": [
    "print(\"[INFO] features matrix: {:.1f}MB\".format(data.nbytes / (1024 * 1000.0)))"
   ]
  },
  {
   "cell_type": "code",
   "execution_count": 16,
   "metadata": {},
   "outputs": [],
   "source": [
    "le = LabelEncoder()\n",
    "labels = le.fit_transform(labels)"
   ]
  },
  {
   "cell_type": "code",
   "execution_count": 18,
   "metadata": {},
   "outputs": [],
   "source": [
    "X_train, X_test, y_train, y_test = train_test_split(data, labels, test_size=0.25, random_state=42)"
   ]
  },
  {
   "cell_type": "code",
   "execution_count": 19,
   "metadata": {},
   "outputs": [
    {
     "name": "stdout",
     "output_type": "stream",
     "text": [
      "             precision    recall  f1-score   support\n",
      "\n",
      "       cats       0.41      0.58      0.48       262\n",
      "       dogs       0.41      0.58      0.48       262\n",
      "      panda       0.41      0.58      0.48       262\n",
      "\n",
      "avg / total       0.54      0.44      0.44    750000\n",
      "\n"
     ]
    },
    {
     "name": "stderr",
     "output_type": "stream",
     "text": [
      "D:\\Anaconda\\envs\\py36\\lib\\site-packages\\sklearn\\metrics\\classification.py:1428: UserWarning: labels size, 3000, does not match size of target_names, 3\n",
      "  .format(len(labels), len(target_names))\n"
     ]
    }
   ],
   "source": [
    "model = KNeighborsClassifier(n_neighbors=3, n_jobs=-1)\n",
    "model.fit(X_train, y_train)\n",
    "print(classification_report(y_test, model.predict(X_test), labels=labels, target_names=le.classes_))"
   ]
  },
  {
   "cell_type": "code",
   "execution_count": null,
   "metadata": {},
   "outputs": [],
   "source": []
  }
 ],
 "metadata": {
  "kernelspec": {
   "display_name": "Python [conda env:py36]",
   "language": "python",
   "name": "conda-env-py36-py"
  },
  "language_info": {
   "codemirror_mode": {
    "name": "ipython",
    "version": 3
   },
   "file_extension": ".py",
   "mimetype": "text/x-python",
   "name": "python",
   "nbconvert_exporter": "python",
   "pygments_lexer": "ipython3",
   "version": "3.6.3"
  }
 },
 "nbformat": 4,
 "nbformat_minor": 2
}
