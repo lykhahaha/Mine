{
 "cells": [
  {
   "cell_type": "markdown",
   "metadata": {},
   "source": [
    "# Building your Deep Neural Network: Step by Step\n",
    "\n",
    "**Notation**:\n",
    "- Superscript $[l]$ denotes a quantity associated with the $l^{th}$ layer. \n",
    "    - Example: $a^{[L]}$ is the $L^{th}$ layer activation. $W^{[L]}$ and $b^{[L]}$ are the $L^{th}$ layer parameters.\n",
    "- Superscript $(i)$ denotes a quantity associated with the $i^{th}$ example. \n",
    "    - Example: $x^{(i)}$ is the $i^{th}$ training example.\n",
    "- Lowerscript $i$ denotes the $i^{th}$ entry of a vector.\n",
    "    - Example: $a^{[l]}_i$ denotes the $i^{th}$ entry of the $l^{th}$ layer's activations).\n",
    "    \n",
    "**initialize_parameters_deep(layer_dims) --> L_layer_forward(X, parameters)  -->  Compute-cost  -->L_layer_backward(A_last, Y, caches) --> Update-params**\n",
    "\n",
    "linear_forward(A_prev, W, b) -->  activation(A_prev, W, b, activation) -->  **L_layer_forward(X, parameters)**\n",
    "\n",
    "linear_backward(E, cache) --> linear_activation_backward(dA, cache, activation) --> **L_layer_backward(A_last, Y, caches)**\n",
    "\n",
    "```python\n",
    "def L_layer_model(X, Y, layers_dims, learning_rate=.0075, num_iterations=3000, print_every=500):\n",
    "    \"\"\"\n",
    "    Implement L layers neural network\n",
    "    \n",
    "    Arguments:\n",
    "    X -- input data (n_x, m)\n",
    "    Y -- ground truth 0 for non-cat and 1 for cat (n_y, m)\n",
    "    layers_dims -- dimensions of layers (n_x, n_h, n_y)\n",
    "    num_iterations -- number of iterations of optimization loops\n",
    "    print_every -- number of iterations the cost will be printed\n",
    "    \n",
    "    Returns:\n",
    "    parameters -- dictionary contains all weights and biases\n",
    "    \"\"\"\n",
    "    np.random.seed(2)\n",
    "    costs = []\n",
    "    m = X.shape[1]\n",
    "    \n",
    "    # Initialize the parameters\n",
    "    parameters = initialize_parameters_deep(layers_dims)\n",
    "    \n",
    "    # Loop (gradient descent)\n",
    "    for i in range(num_iterations):\n",
    "        # Forward propagation: [Linear -> relu] * (L-1) -> Linear -> sigmoid\n",
    "        A_last, caches = L_model_forward(X, parameters)\n",
    "        \n",
    "        #Compute cost\n",
    "        cost = compute_cost(A_last, Y)\n",
    "        \n",
    "        # Backward Propagation\n",
    "        grads = L_model_backward(A_last, Y, caches)\n",
    "        \n",
    "        # Update parameters\n",
    "        parameters = update_parameters(parameters, grads, learning_rate)\n",
    "        \n",
    "        if print_every != None and (i+1)%print_every==0:\n",
    "            costs.append(cost)\n",
    "            print('Cost after', i+1, 'iterations is', cost)\n",
    "            \n",
    "    plt.plot(costs)\n",
    "    plt.xlabel('iterations(per hundreds)')\n",
    "    plt.ylabel('cost')\n",
    "    plt.title('Learning rate = ' + str(learning_rate))\n",
    "    \n",
    "    return parameters\n",
    "```"
   ]
  },
  {
   "cell_type": "markdown",
   "metadata": {},
   "source": [
    "# 1. Packages"
   ]
  },
  {
   "cell_type": "code",
   "execution_count": 1,
   "metadata": {},
   "outputs": [],
   "source": [
    "import warnings\n",
    "def ignore_warn(*args, **kwargs):\n",
    "    pass\n",
    "warnings.warn = ignore_warn\n",
    "\n",
    "import numpy as np\n",
    "import matplotlib.pyplot as plt\n",
    "import h5py\n",
    "from testCases_v4 import *\n",
    "from dnn_utils_v2 import sigmoid, sigmoid_backward, relu, relu_backward\n",
    "\n",
    "%matplotlib inline\n",
    "plt.rcParams['figure.figsize']=(5, 4)\n",
    "plt.rcParams['image.interpolation'] = 'nearest'\n",
    "plt.rcParams['image.cmap'] = 'gray'\n",
    "\n",
    "%load_ext autoreload\n",
    "%autoreload 2\n",
    "\n",
    "np.random.seed(1)"
   ]
  },
  {
   "cell_type": "markdown",
   "metadata": {},
   "source": [
    "# 2. Initialization for L-layer"
   ]
  },
  {
   "cell_type": "code",
   "execution_count": 2,
   "metadata": {},
   "outputs": [],
   "source": [
    "def initialize_parameters_deep(layer_dims):\n",
    "    \"\"\"\n",
    "    Arguments:\n",
    "    layer_dims -- list contains the dimensions of each layer in the network\n",
    "    \n",
    "    Returns:\n",
    "    parameters -- dictionary contains all weights and biases:\n",
    "                    W_l -- shape(layer_dims[l], layer_dims[l-1])\n",
    "                    b_l -- shape(layer_dims[l], 1)\n",
    "    \"\"\"\n",
    "    np.random.seed(3)\n",
    "    parameters = {}\n",
    "    L = len(layer_dims)\n",
    "    \n",
    "    for i in range(1, L):\n",
    "        parameters['W'+str(i)] = np.random.randn(layer_dims[i], layer_dims[i-1])*0.01\n",
    "        parameters['b'+str(i)] = np.zeros((layer_dims[i], 1), dtype=np.float32)\n",
    "        \n",
    "    return parameters"
   ]
  },
  {
   "cell_type": "code",
   "execution_count": 3,
   "metadata": {},
   "outputs": [
    {
     "name": "stdout",
     "output_type": "stream",
     "text": [
      "W1 = [[ 0.01788628  0.0043651   0.00096497 -0.01863493 -0.00277388]\n",
      " [-0.00354759 -0.00082741 -0.00627001 -0.00043818 -0.00477218]\n",
      " [-0.01313865  0.00884622  0.00881318  0.01709573  0.00050034]\n",
      " [-0.00404677 -0.0054536  -0.01546477  0.00982367 -0.01101068]]\n",
      "b1 = [[0.]\n",
      " [0.]\n",
      " [0.]\n",
      " [0.]]\n",
      "W2 = [[-0.01185047 -0.0020565   0.01486148  0.00236716]\n",
      " [-0.01023785 -0.00712993  0.00625245 -0.00160513]\n",
      " [-0.00768836 -0.00230031  0.00745056  0.01976111]]\n",
      "b2 = [[0.]\n",
      " [0.]\n",
      " [0.]]\n"
     ]
    }
   ],
   "source": [
    "parameters = initialize_parameters_deep([5,4,3])\n",
    "print(\"W1 = \" + str(parameters[\"W1\"]))\n",
    "print(\"b1 = \" + str(parameters[\"b1\"]))\n",
    "print(\"W2 = \" + str(parameters[\"W2\"]))\n",
    "print(\"b2 = \" + str(parameters[\"b2\"]))"
   ]
  },
  {
   "cell_type": "markdown",
   "metadata": {},
   "source": [
    "# 3. Forward propagation\n",
    "## 3.1 Linear Forward"
   ]
  },
  {
   "cell_type": "code",
   "execution_count": 4,
   "metadata": {},
   "outputs": [],
   "source": [
    "def linear_forward(A_prev, W, b):\n",
    "    \"\"\"\n",
    "    Implement linear part in forward propagation process\n",
    "    Arguments:\n",
    "    A_prev -- activations of previous layer, shape(previous layer dimension, m)\n",
    "    W -- weight, shape(current layer dimension, previous layer dimension)\n",
    "    b -- bias, shape(current layer dimension, 1)\n",
    "    \n",
    "    Returns:\n",
    "    Z -- input of activation\n",
    "    cache -- tuple contains A_prev, W, b\n",
    "    \"\"\"\n",
    "    Z = np.dot(W, A_prev) + b\n",
    "    cache = (A_prev, W, b)\n",
    "    \n",
    "    return Z, cache"
   ]
  },
  {
   "cell_type": "code",
   "execution_count": 5,
   "metadata": {},
   "outputs": [
    {
     "name": "stdout",
     "output_type": "stream",
     "text": [
      "Z = [[ 3.26295337 -1.23429987]]\n"
     ]
    }
   ],
   "source": [
    "A, W, b = linear_forward_test_case()\n",
    "\n",
    "Z, linear_cache = linear_forward(A, W, b)\n",
    "print(\"Z = \" + str(Z))"
   ]
  },
  {
   "cell_type": "markdown",
   "metadata": {},
   "source": [
    "## 3.2 Activation"
   ]
  },
  {
   "cell_type": "code",
   "execution_count": 6,
   "metadata": {},
   "outputs": [],
   "source": [
    "def activation(A_prev, W, b, activation):\n",
    "    \"\"\"\n",
    "    Implement the sigmoid or relu\n",
    "    \n",
    "    Arguments:\n",
    "    A_prev -- activations of previous layer, shape(previous layer dimension, m)\n",
    "    W -- weight, shape(current layer dimension, previous layer dimension)\n",
    "    b -- bias, shape(current layer dimension, 1)\n",
    "    activation: store as string (\"sigmoid\" or \"relu\")\n",
    "    \n",
    "    Returns:\n",
    "    A -- activation value\n",
    "    cache -- tuple contains linear_cache which is output of linear_forward and Z implemented by pre-defined function \"sigmoid\" and \"relu\"\n",
    "    \"\"\"\n",
    "    Z, linear_cache = linear_forward(A_prev, W, b)\n",
    "    if activation == 'sigmoid':\n",
    "        A, Z = sigmoid(Z) # quite absurd but sigmoid is pre-defined function\n",
    "    elif activation == 'relu':\n",
    "        A, Z = relu(Z)\n",
    "        \n",
    "    cache = (linear_cache, Z)\n",
    "    return A, cache"
   ]
  },
  {
   "cell_type": "code",
   "execution_count": 7,
   "metadata": {},
   "outputs": [
    {
     "name": "stdout",
     "output_type": "stream",
     "text": [
      "With sigmoid: A = [[0.96890023 0.11013289]]\n",
      "With ReLU: A = [[3.43896131 0.        ]]\n"
     ]
    }
   ],
   "source": [
    "A_prev, W, b = linear_activation_forward_test_case()\n",
    "\n",
    "A, linear_activation_cache = activation(A_prev, W, b, activation = \"sigmoid\")\n",
    "print(\"With sigmoid: A = \" + str(A))\n",
    "\n",
    "A, linear_activation_cache = activation(A_prev, W, b, activation = \"relu\")\n",
    "print(\"With ReLU: A = \" + str(A))"
   ]
  },
  {
   "cell_type": "markdown",
   "metadata": {},
   "source": [
    "# 3.3. L-layer forward"
   ]
  },
  {
   "cell_type": "code",
   "execution_count": 8,
   "metadata": {},
   "outputs": [],
   "source": [
    "def L_layer_forward(X, parameters):\n",
    "    \"\"\"\n",
    "    Implement forward propagation at first L-1 layers and last L layer\n",
    "    \n",
    "    Arguments:\n",
    "    X -- input data (input feafures size, m)\n",
    "    parameters -- ouput of initialize_parameters_deep\n",
    "    \n",
    "    Returns:\n",
    "    A_last -- last activation values in deep neural networks\n",
    "    caches -- list contains cache which is output of activation function\n",
    "    \"\"\"\n",
    "    caches = []\n",
    "    A = X\n",
    "    L = len(parameters)//2\n",
    "    \n",
    "    # relu activation for first L-1 layers\n",
    "    for l in range(1, L):\n",
    "        A_prev = A\n",
    "        A, cache = activation(A_prev, parameters['W'+str(l)], parameters['b'+str(l)], activation='relu')\n",
    "        caches.append(cache)\n",
    "        \n",
    "    # sigmoid for last layer\n",
    "    A_last, cache = activation(A, parameters['W'+str(L)], parameters['b'+str(L)], activation='sigmoid')\n",
    "    caches.append(cache)\n",
    "    \n",
    "    return A_last, caches"
   ]
  },
  {
   "cell_type": "code",
   "execution_count": 9,
   "metadata": {},
   "outputs": [
    {
     "name": "stdout",
     "output_type": "stream",
     "text": [
      "AL = [[0.17007265 0.2524272 ]]\n",
      "Length of caches list = 2\n"
     ]
    }
   ],
   "source": [
    "X, parameters = L_model_forward_test_case()\n",
    "A_last, caches = L_layer_forward(X, parameters)\n",
    "print(\"AL = \" + str(A_last))\n",
    "print(\"Length of caches list = \" + str(len(caches)))"
   ]
  },
  {
   "cell_type": "markdown",
   "metadata": {},
   "source": [
    "# 4. Cost function"
   ]
  },
  {
   "cell_type": "code",
   "execution_count": 10,
   "metadata": {},
   "outputs": [],
   "source": [
    "def compute_cost(A_last, Y):\n",
    "    \"\"\"\n",
    "    Compute the negative log-likelihood cost\n",
    "    Arguments:\n",
    "    A_last -- the output of forward propagation function\n",
    "    Y -- the ground truth\n",
    "    Returns:\n",
    "    Return the cost value\n",
    "    \"\"\"\n",
    "    return -np.mean(Y*np.log(A_last) + (1-Y)*np.log(1-A_last))"
   ]
  },
  {
   "cell_type": "code",
   "execution_count": 11,
   "metadata": {},
   "outputs": [
    {
     "name": "stdout",
     "output_type": "stream",
     "text": [
      "cost = 0.414931599615397\n"
     ]
    }
   ],
   "source": [
    "Y, A_last = compute_cost_test_case()\n",
    "\n",
    "print(\"cost = \" + str(compute_cost(A_last, Y)))"
   ]
  },
  {
   "cell_type": "markdown",
   "metadata": {},
   "source": [
    "# 5. Backward propagation\n",
    "## 5.1. Linear backward"
   ]
  },
  {
   "cell_type": "code",
   "execution_count": 30,
   "metadata": {},
   "outputs": [],
   "source": [
    "def linear_backward(E, cache):\n",
    "    \"\"\"\n",
    "    Implement the linear part in backward propagation\n",
    "    \n",
    "    Arguments:\n",
    "    E -- E part in layer l\n",
    "    cache -- contains A_prev, W, b\n",
    "    \n",
    "    Returns:\n",
    "    dA_prev -- weight at next layer * E at next layer, prepare for previous layer\n",
    "    dW -- gradient of weight, same shape with W\n",
    "    db -- gradient of bias, same shape with b\n",
    "    \"\"\"\n",
    "    A_prev, W, b = cache\n",
    "    m = A_prev.shape[1]\n",
    "    \n",
    "    dW = 1/m * np.dot(E, A_prev.T)\n",
    "    db = 1/m * np.sum(E, axis=1, keepdims=True)\n",
    "    dA_prev = np.dot(W.T, E)\n",
    "    \n",
    "    assert (dA_prev.shape == A_prev.shape)\n",
    "    assert (dW.shape == W.shape)\n",
    "    \n",
    "    return dA_prev, dW, db"
   ]
  },
  {
   "cell_type": "code",
   "execution_count": 31,
   "metadata": {},
   "outputs": [
    {
     "name": "stdout",
     "output_type": "stream",
     "text": [
      "dA_prev = [[ 0.51822968 -0.19517421]\n",
      " [-0.40506361  0.15255393]\n",
      " [ 2.37496825 -0.89445391]]\n",
      "dW = [[-0.10076895  1.40685096  1.64992505]]\n",
      "db = [[0.50629448]]\n"
     ]
    }
   ],
   "source": [
    "E, linear_cache = linear_backward_test_case()\n",
    "\n",
    "dA_prev, dW, db = linear_backward(E, linear_cache)\n",
    "print (\"dA_prev = \"+ str(dA_prev))\n",
    "print (\"dW = \" + str(dW))\n",
    "print (\"db = \" + str(db))"
   ]
  },
  {
   "cell_type": "markdown",
   "metadata": {},
   "source": [
    "## 5.2. Linear-Activation backward"
   ]
  },
  {
   "cell_type": "code",
   "execution_count": 32,
   "metadata": {},
   "outputs": [],
   "source": [
    "def linear_activation_backward(dA, cache, activation):\n",
    "    \"\"\"\n",
    "    Calculate E in linear_backward function\n",
    "    \n",
    "    Arguments:\n",
    "    dA -- dA_prev in linear_backward function but when calculating dA_prev in prev layer, it becomes dA\n",
    "    cache -- output in activation function\n",
    "    activation -- string \"sigmoid\" or \"relu\"\n",
    "    \n",
    "    Returns:\n",
    "    Same output with linear_backward function\n",
    "    \"\"\"\n",
    "    linear_cache, Z = cache\n",
    "    \n",
    "    if activation == 'relu':\n",
    "        E = relu_backward(dA, Z)\n",
    "        \n",
    "    elif activation == 'sigmoid':\n",
    "        E = sigmoid_backward(dA, Z)\n",
    "        \n",
    "    dA_prev, dW, db = linear_backward(E, linear_cache)\n",
    "    return dA_prev, dW, db"
   ]
  },
  {
   "cell_type": "code",
   "execution_count": 33,
   "metadata": {},
   "outputs": [
    {
     "name": "stdout",
     "output_type": "stream",
     "text": [
      "sigmoid:\n",
      "dA_prev = [[ 0.11017994  0.01105339]\n",
      " [ 0.09466817  0.00949723]\n",
      " [-0.05743092 -0.00576154]]\n",
      "dW = [[ 0.10266786  0.09778551 -0.01968084]]\n",
      "db = [[-0.05729622]]\n",
      "\n",
      "relu:\n",
      "dA_prev = [[ 0.44090989 -0.        ]\n",
      " [ 0.37883606 -0.        ]\n",
      " [-0.2298228   0.        ]]\n",
      "dW = [[ 0.44513824  0.37371418 -0.10478989]]\n",
      "db = [[-0.20837892]]\n"
     ]
    }
   ],
   "source": [
    "A_last, linear_activation_cache = linear_activation_backward_test_case()\n",
    "\n",
    "dA_prev, dW, db = linear_activation_backward(A_last, linear_activation_cache, activation = \"sigmoid\")\n",
    "print (\"sigmoid:\")\n",
    "print (\"dA_prev = \"+ str(dA_prev))\n",
    "print (\"dW = \" + str(dW))\n",
    "print (\"db = \" + str(db) + \"\\n\")\n",
    "\n",
    "dA_prev, dW, db = linear_activation_backward(A_last, linear_activation_cache, activation = \"relu\")\n",
    "print (\"relu:\")\n",
    "print (\"dA_prev = \"+ str(dA_prev))\n",
    "print (\"dW = \" + str(dW))\n",
    "print (\"db = \" + str(db))"
   ]
  },
  {
   "cell_type": "markdown",
   "metadata": {},
   "source": [
    "## 5.3. L-layer backward"
   ]
  },
  {
   "cell_type": "code",
   "execution_count": 36,
   "metadata": {},
   "outputs": [],
   "source": [
    "def L_layer_backward(A_last, Y, caches):\n",
    "    \"\"\"\n",
    "    Implement forward propagation at first L-1 layers and last L layer\n",
    "    \n",
    "    Arguments:\n",
    "    A_last -- last activation vector (1, m)\n",
    "    Y -- ground truth (1, m)\n",
    "    caches -- output of L_layer_forward\n",
    "    \n",
    "    Returns:\n",
    "    grads -- dictinary contains dA, dW and db for all layer\n",
    "    \"\"\"\n",
    "    grads = {}\n",
    "    m = A_last.shape[1]\n",
    "    L = len(caches)\n",
    "    Y = Y.reshape(A_last.shape)\n",
    "    \n",
    "    dA_last = - (np.divide(Y, A_last) - np.divide(1-Y, 1-A_last))\n",
    "    current_cache = caches[-1]\n",
    "    \n",
    "    grads['dA'+str(L-1)], grads['dW'+str(L)], grads['db'+str(L)] = linear_activation_backward(dA_last, current_cache, activation='sigmoid')\n",
    "    \n",
    "    for l in reversed(range(L-1)):\n",
    "        current_cache = caches[l]\n",
    "        grads['dA'+str(l)], grads['dW'+str(l+1)], grads['db'+str(l+1)] = linear_activation_backward(grads['dA'+str(l+1)], current_cache, activation='relu')\n",
    "        \n",
    "    return grads"
   ]
  },
  {
   "cell_type": "code",
   "execution_count": 37,
   "metadata": {},
   "outputs": [
    {
     "name": "stdout",
     "output_type": "stream",
     "text": [
      "dW1 = [[-inf -inf -inf -inf]\n",
      " [  0.   0.   0.   0.]\n",
      " [-inf -inf -inf -inf]]\n",
      "db1 = [[inf]\n",
      " [ 0.]\n",
      " [inf]]\n",
      "dA1 = [[ inf  inf]\n",
      " [-inf -inf]\n",
      " [ inf  inf]]\n"
     ]
    },
    {
     "name": "stderr",
     "output_type": "stream",
     "text": [
      "D:\\Anaconda\\envs\\py36\\lib\\site-packages\\ipykernel\\__main__.py:18: RuntimeWarning: divide by zero encountered in true_divide\n"
     ]
    }
   ],
   "source": [
    "Y_assess, AL, caches = L_model_backward_test_case()\n",
    "grads = L_layer_backward(AL, Y_assess, caches)\n",
    "print (\"dW1 = \"+ str(grads[\"dW1\"]))\n",
    "print (\"db1 = \"+ str(grads[\"db1\"]))\n",
    "print (\"dA1 = \"+ str(grads[\"dA1\"]))"
   ]
  },
  {
   "cell_type": "markdown",
   "metadata": {},
   "source": [
    "## 5.4. Update parameter"
   ]
  },
  {
   "cell_type": "code",
   "execution_count": 42,
   "metadata": {},
   "outputs": [],
   "source": [
    "def update_parameter(parameters, grads, learning_rate):\n",
    "    \"\"\"\n",
    "    Update parameters uisng gradient descent\n",
    "    \n",
    "    Arguments:\n",
    "    parameters -- dictionary contains all the parameters\n",
    "    grads -- output of L_layer_backward\n",
    "    \n",
    "    Returns:\n",
    "    parameters -- dictionary contains updated parameters\n",
    "    \"\"\"\n",
    "    L = len(parameters)//2\n",
    "    for l in range(1, L+1):\n",
    "        parameters['W'+str(l)] -= learning_rate*grads['dW'+str(l)]\n",
    "        parameters['b'+str(l)] -= learning_rate*grads['db'+str(l)]\n",
    "        \n",
    "    return parameters"
   ]
  },
  {
   "cell_type": "code",
   "execution_count": 43,
   "metadata": {},
   "outputs": [],
   "source": [
    "def predict(X, y, parameters):\n",
    "    \"\"\"\n",
    "    This function is used to predict the results of a  L-layer neural network.\n",
    "    \n",
    "    Arguments:\n",
    "    X -- data set of examples you would like to label\n",
    "    parameters -- parameters of the trained model\n",
    "    \n",
    "    Returns:\n",
    "    p -- predictions for the given dataset X\n",
    "    \"\"\"\n",
    "    \n",
    "    m = X.shape[1]\n",
    "    n = len(parameters) // 2 # number of layers in the neural network\n",
    "    p = np.zeros((1,m))\n",
    "    \n",
    "    # Forward propagation\n",
    "    probas, caches = L_model_forward(X, parameters)\n",
    "\n",
    "    \n",
    "    # convert probas to 0/1 predictions\n",
    "    for i in range(0, probas.shape[1]):\n",
    "        if probas[0,i] > 0.5:\n",
    "            p[0,i] = 1\n",
    "        else:\n",
    "            p[0,i] = 0\n",
    "    \n",
    "    #print results\n",
    "    #print (\"predictions: \" + str(p))\n",
    "    #print (\"true labels: \" + str(y))\n",
    "    print(\"Accuracy: \"  + str(np.sum((p == y)/m)))\n",
    "        \n",
    "    return p"
   ]
  },
  {
   "cell_type": "code",
   "execution_count": null,
   "metadata": {},
   "outputs": [],
   "source": []
  }
 ],
 "metadata": {
  "kernelspec": {
   "display_name": "Python [conda env:py36]",
   "language": "python",
   "name": "conda-env-py36-py"
  },
  "language_info": {
   "codemirror_mode": {
    "name": "ipython",
    "version": 3
   },
   "file_extension": ".py",
   "mimetype": "text/x-python",
   "name": "python",
   "nbconvert_exporter": "python",
   "pygments_lexer": "ipython3",
   "version": "3.6.3"
  }
 },
 "nbformat": 4,
 "nbformat_minor": 2
}
