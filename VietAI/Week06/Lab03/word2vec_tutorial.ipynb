{
 "cells": [
  {
   "cell_type": "markdown",
   "metadata": {},
   "source": [
    "Để chạy được tutorial này, chúng ta cần phải cài đặt thư viện GenSim.\n",
    "Để cài bằng Anaconda ta sử dụng lệnh sau:\n",
    "\n",
    "$ conda install -c anaconda gensim\n",
    "\n",
    "Sau đó import các thư viện cần thiết như sau:"
   ]
  },
  {
   "cell_type": "code",
   "execution_count": 18,
   "metadata": {},
   "outputs": [
    {
     "name": "stdout",
     "output_type": "stream",
     "text": [
      "Accuracy for this batch: 71.875\n",
      "Accuracy for this batch: 71.875\n",
      "Accuracy for this batch: 79.6875\n",
      "Accuracy for this batch: 78.125\n",
      "Accuracy for this batch: 81.25\n",
      "Accuracy for this batch: 79.6875\n",
      "Accuracy for this batch: 71.875\n",
      "Accuracy for this batch: 73.4375\n",
      "Accuracy for this batch: 84.375\n",
      "Accuracy for this batch: 75.0\n"
     ]
    }
   ],
   "source": [
    "# Test on 10 batches\n",
    "iterations = 10\n",
    "for i in range(iterations):\n",
    "    next_batch, next_batch_labels = getTestBatch()\n",
    "    # TODO 3.6: Tính độ chính xác 'accuracy' trên các test batch và gán vào 'test_acc'\n",
    "    test_acc = sess.run(accuracy, {inputs: next_batch, labels: next_batch_labels}) * 100\n",
    "    print(\"Accuracy for this batch:\", test_acc)"
   ]
  },
  {
   "cell_type": "code",
   "execution_count": 1,
   "metadata": {},
   "outputs": [
    {
     "name": "stderr",
     "output_type": "stream",
     "text": [
      "D:\\Anaconda2\\envs\\py36\\lib\\site-packages\\gensim\\utils.py:1197: UserWarning: detected Windows; aliasing chunkize to chunkize_serial\n",
      "  warnings.warn(\"detected Windows; aliasing chunkize to chunkize_serial\")\n"
     ]
    }
   ],
   "source": [
    "from gensim.models import KeyedVectors\n",
    "import numpy as np"
   ]
  },
  {
   "cell_type": "markdown",
   "metadata": {},
   "source": [
    "# Load model\n",
    "Trước hết, ta cần tải model về theo đường dẫn sau:https://s3-us-west-1.amazonaws.com/fasttext-vectors/wiki-news-300d-1M.vec.zip\n",
    "\n",
    "Chi tiết có thể tham khảo trên trang FastText https://fasttext.cc/docs/en/english-vectors.html. Đối với các ngôn ngữ khác, trong đó có tiếng Việt ta có thể tải về từ đây:\n",
    "https://fasttext.cc/docs/en/crawl-vectors.html\n",
    "\n",
    "Thời gian load mô hình đã huấn luyện này có thể mất từ 5-10 phút )-:\n"
   ]
  },
  {
   "cell_type": "code",
   "execution_count": 2,
   "metadata": {},
   "outputs": [
    {
     "ename": "FileNotFoundError",
     "evalue": "[Errno 2] No such file or directory: 'wiki-news-300d-1M.vec'",
     "output_type": "error",
     "traceback": [
      "\u001b[1;31m------------------------------------------------------------\u001b[0m",
      "\u001b[1;31mFileNotFoundError\u001b[0m          Traceback (most recent call last)",
      "\u001b[1;32m<ipython-input-2-dfa84c9b1831>\u001b[0m in \u001b[0;36m<module>\u001b[1;34m()\u001b[0m\n\u001b[1;32m----> 1\u001b[1;33m \u001b[0mword_vectors\u001b[0m \u001b[1;33m=\u001b[0m \u001b[0mKeyedVectors\u001b[0m\u001b[1;33m.\u001b[0m\u001b[0mload_word2vec_format\u001b[0m\u001b[1;33m(\u001b[0m\u001b[1;34m'wiki-news-300d-1M.vec'\u001b[0m\u001b[1;33m,\u001b[0m \u001b[0mbinary\u001b[0m\u001b[1;33m=\u001b[0m\u001b[1;32mFalse\u001b[0m\u001b[1;33m)\u001b[0m\u001b[1;33m\u001b[0m\u001b[0m\n\u001b[0m",
      "\u001b[1;32mD:\\Anaconda2\\envs\\py36\\lib\\site-packages\\gensim\\models\\keyedvectors.py\u001b[0m in \u001b[0;36mload_word2vec_format\u001b[1;34m(cls, fname, fvocab, binary, encoding, unicode_errors, limit, datatype)\u001b[0m\n\u001b[0;32m   1117\u001b[0m         return _load_word2vec_format(\n\u001b[0;32m   1118\u001b[0m             \u001b[0mWord2VecKeyedVectors\u001b[0m\u001b[1;33m,\u001b[0m \u001b[0mfname\u001b[0m\u001b[1;33m,\u001b[0m \u001b[0mfvocab\u001b[0m\u001b[1;33m=\u001b[0m\u001b[0mfvocab\u001b[0m\u001b[1;33m,\u001b[0m \u001b[0mbinary\u001b[0m\u001b[1;33m=\u001b[0m\u001b[0mbinary\u001b[0m\u001b[1;33m,\u001b[0m \u001b[0mencoding\u001b[0m\u001b[1;33m=\u001b[0m\u001b[0mencoding\u001b[0m\u001b[1;33m,\u001b[0m \u001b[0municode_errors\u001b[0m\u001b[1;33m=\u001b[0m\u001b[0municode_errors\u001b[0m\u001b[1;33m,\u001b[0m\u001b[1;33m\u001b[0m\u001b[0m\n\u001b[1;32m-> 1119\u001b[1;33m             limit=limit, datatype=datatype)\n\u001b[0m\u001b[0;32m   1120\u001b[0m \u001b[1;33m\u001b[0m\u001b[0m\n\u001b[0;32m   1121\u001b[0m     \u001b[1;32mdef\u001b[0m \u001b[0mget_keras_embedding\u001b[0m\u001b[1;33m(\u001b[0m\u001b[0mself\u001b[0m\u001b[1;33m,\u001b[0m \u001b[0mtrain_embeddings\u001b[0m\u001b[1;33m=\u001b[0m\u001b[1;32mFalse\u001b[0m\u001b[1;33m)\u001b[0m\u001b[1;33m:\u001b[0m\u001b[1;33m\u001b[0m\u001b[0m\n",
      "\u001b[1;32mD:\\Anaconda2\\envs\\py36\\lib\\site-packages\\gensim\\models\\utils_any2vec.py\u001b[0m in \u001b[0;36m_load_word2vec_format\u001b[1;34m(cls, fname, fvocab, binary, encoding, unicode_errors, limit, datatype)\u001b[0m\n\u001b[0;32m    171\u001b[0m \u001b[1;33m\u001b[0m\u001b[0m\n\u001b[0;32m    172\u001b[0m     \u001b[0mlogger\u001b[0m\u001b[1;33m.\u001b[0m\u001b[0minfo\u001b[0m\u001b[1;33m(\u001b[0m\u001b[1;34m\"loading projection weights from %s\"\u001b[0m\u001b[1;33m,\u001b[0m \u001b[0mfname\u001b[0m\u001b[1;33m)\u001b[0m\u001b[1;33m\u001b[0m\u001b[0m\n\u001b[1;32m--> 173\u001b[1;33m     \u001b[1;32mwith\u001b[0m \u001b[0mutils\u001b[0m\u001b[1;33m.\u001b[0m\u001b[0msmart_open\u001b[0m\u001b[1;33m(\u001b[0m\u001b[0mfname\u001b[0m\u001b[1;33m)\u001b[0m \u001b[1;32mas\u001b[0m \u001b[0mfin\u001b[0m\u001b[1;33m:\u001b[0m\u001b[1;33m\u001b[0m\u001b[0m\n\u001b[0m\u001b[0;32m    174\u001b[0m         \u001b[0mheader\u001b[0m \u001b[1;33m=\u001b[0m \u001b[0mutils\u001b[0m\u001b[1;33m.\u001b[0m\u001b[0mto_unicode\u001b[0m\u001b[1;33m(\u001b[0m\u001b[0mfin\u001b[0m\u001b[1;33m.\u001b[0m\u001b[0mreadline\u001b[0m\u001b[1;33m(\u001b[0m\u001b[1;33m)\u001b[0m\u001b[1;33m,\u001b[0m \u001b[0mencoding\u001b[0m\u001b[1;33m=\u001b[0m\u001b[0mencoding\u001b[0m\u001b[1;33m)\u001b[0m\u001b[1;33m\u001b[0m\u001b[0m\n\u001b[0;32m    175\u001b[0m         \u001b[0mvocab_size\u001b[0m\u001b[1;33m,\u001b[0m \u001b[0mvector_size\u001b[0m \u001b[1;33m=\u001b[0m \u001b[1;33m(\u001b[0m\u001b[0mint\u001b[0m\u001b[1;33m(\u001b[0m\u001b[0mx\u001b[0m\u001b[1;33m)\u001b[0m \u001b[1;32mfor\u001b[0m \u001b[0mx\u001b[0m \u001b[1;32min\u001b[0m \u001b[0mheader\u001b[0m\u001b[1;33m.\u001b[0m\u001b[0msplit\u001b[0m\u001b[1;33m(\u001b[0m\u001b[1;33m)\u001b[0m\u001b[1;33m)\u001b[0m  \u001b[1;31m# throws for invalid file format\u001b[0m\u001b[1;33m\u001b[0m\u001b[0m\n",
      "\u001b[1;32mD:\\Anaconda2\\envs\\py36\\lib\\site-packages\\smart_open\\smart_open_lib.py\u001b[0m in \u001b[0;36msmart_open\u001b[1;34m(uri, mode, **kw)\u001b[0m\n\u001b[0;32m    174\u001b[0m             \u001b[0mencoding\u001b[0m \u001b[1;33m=\u001b[0m \u001b[0mkw\u001b[0m\u001b[1;33m.\u001b[0m\u001b[0mpop\u001b[0m\u001b[1;33m(\u001b[0m\u001b[1;34m'encoding'\u001b[0m\u001b[1;33m,\u001b[0m \u001b[1;32mNone\u001b[0m\u001b[1;33m)\u001b[0m\u001b[1;33m\u001b[0m\u001b[0m\n\u001b[0;32m    175\u001b[0m             \u001b[0merrors\u001b[0m \u001b[1;33m=\u001b[0m \u001b[0mkw\u001b[0m\u001b[1;33m.\u001b[0m\u001b[0mpop\u001b[0m\u001b[1;33m(\u001b[0m\u001b[1;34m'errors'\u001b[0m\u001b[1;33m,\u001b[0m \u001b[0mDEFAULT_ERRORS\u001b[0m\u001b[1;33m)\u001b[0m\u001b[1;33m\u001b[0m\u001b[0m\n\u001b[1;32m--> 176\u001b[1;33m             \u001b[1;32mreturn\u001b[0m \u001b[0mfile_smart_open\u001b[0m\u001b[1;33m(\u001b[0m\u001b[0mparsed_uri\u001b[0m\u001b[1;33m.\u001b[0m\u001b[0muri_path\u001b[0m\u001b[1;33m,\u001b[0m \u001b[0mmode\u001b[0m\u001b[1;33m,\u001b[0m \u001b[0mencoding\u001b[0m\u001b[1;33m=\u001b[0m\u001b[0mencoding\u001b[0m\u001b[1;33m,\u001b[0m \u001b[0merrors\u001b[0m\u001b[1;33m=\u001b[0m\u001b[0merrors\u001b[0m\u001b[1;33m)\u001b[0m\u001b[1;33m\u001b[0m\u001b[0m\n\u001b[0m\u001b[0;32m    177\u001b[0m         \u001b[1;32melif\u001b[0m \u001b[0mparsed_uri\u001b[0m\u001b[1;33m.\u001b[0m\u001b[0mscheme\u001b[0m \u001b[1;32min\u001b[0m \u001b[1;33m(\u001b[0m\u001b[1;34m\"s3\"\u001b[0m\u001b[1;33m,\u001b[0m \u001b[1;34m\"s3n\"\u001b[0m\u001b[1;33m,\u001b[0m \u001b[1;34m's3u'\u001b[0m\u001b[1;33m)\u001b[0m\u001b[1;33m:\u001b[0m\u001b[1;33m\u001b[0m\u001b[0m\n\u001b[0;32m    178\u001b[0m             \u001b[1;32mreturn\u001b[0m \u001b[0ms3_open_uri\u001b[0m\u001b[1;33m(\u001b[0m\u001b[0mparsed_uri\u001b[0m\u001b[1;33m,\u001b[0m \u001b[0mmode\u001b[0m\u001b[1;33m,\u001b[0m \u001b[1;33m**\u001b[0m\u001b[0mkw\u001b[0m\u001b[1;33m)\u001b[0m\u001b[1;33m\u001b[0m\u001b[0m\n",
      "\u001b[1;32mD:\\Anaconda2\\envs\\py36\\lib\\site-packages\\smart_open\\smart_open_lib.py\u001b[0m in \u001b[0;36mfile_smart_open\u001b[1;34m(fname, mode, encoding, errors)\u001b[0m\n\u001b[0;32m    669\u001b[0m     \u001b[1;32mexcept\u001b[0m \u001b[0mKeyError\u001b[0m\u001b[1;33m:\u001b[0m\u001b[1;33m\u001b[0m\u001b[0m\n\u001b[0;32m    670\u001b[0m         \u001b[0mraw_mode\u001b[0m \u001b[1;33m=\u001b[0m \u001b[0mmode\u001b[0m\u001b[1;33m\u001b[0m\u001b[0m\n\u001b[1;32m--> 671\u001b[1;33m     \u001b[0mraw_fobj\u001b[0m \u001b[1;33m=\u001b[0m \u001b[0mopen\u001b[0m\u001b[1;33m(\u001b[0m\u001b[0mfname\u001b[0m\u001b[1;33m,\u001b[0m \u001b[0mraw_mode\u001b[0m\u001b[1;33m)\u001b[0m\u001b[1;33m\u001b[0m\u001b[0m\n\u001b[0m\u001b[0;32m    672\u001b[0m     \u001b[0mdecompressed_fobj\u001b[0m \u001b[1;33m=\u001b[0m \u001b[0mcompression_wrapper\u001b[0m\u001b[1;33m(\u001b[0m\u001b[0mraw_fobj\u001b[0m\u001b[1;33m,\u001b[0m \u001b[0mfname\u001b[0m\u001b[1;33m,\u001b[0m \u001b[0mraw_mode\u001b[0m\u001b[1;33m)\u001b[0m\u001b[1;33m\u001b[0m\u001b[0m\n\u001b[0;32m    673\u001b[0m     \u001b[0mdecoded_fobj\u001b[0m \u001b[1;33m=\u001b[0m \u001b[0mencoding_wrapper\u001b[0m\u001b[1;33m(\u001b[0m\u001b[0mdecompressed_fobj\u001b[0m\u001b[1;33m,\u001b[0m \u001b[0mmode\u001b[0m\u001b[1;33m,\u001b[0m \u001b[0mencoding\u001b[0m\u001b[1;33m=\u001b[0m\u001b[0mencoding\u001b[0m\u001b[1;33m,\u001b[0m \u001b[0merrors\u001b[0m\u001b[1;33m=\u001b[0m\u001b[0merrors\u001b[0m\u001b[1;33m)\u001b[0m\u001b[1;33m\u001b[0m\u001b[0m\n",
      "\u001b[1;31mFileNotFoundError\u001b[0m: [Errno 2] No such file or directory: 'wiki-news-300d-1M.vec'"
     ]
    }
   ],
   "source": [
    "word_vectors = KeyedVectors.load_word2vec_format('wiki-news-300d-1M.vec', binary=False)"
   ]
  },
  {
   "cell_type": "markdown",
   "metadata": {},
   "source": [
    "# Word embeding: biểu diễn một từ dưới dạng một vector"
   ]
  },
  {
   "cell_type": "code",
   "execution_count": 4,
   "metadata": {},
   "outputs": [
    {
     "name": "stdout",
     "output_type": "stream",
     "text": [
      "Feature representation of `woman` is: [  7.50999972e-02  -5.90999983e-02  -1.02000004e-02  -4.90000006e-03\n",
      "  -2.22999994e-02   1.39699996e-01   1.97000001e-02   1.05800003e-01\n",
      "  -6.74000010e-02   1.33300006e-01   8.54000002e-02   6.21999986e-02\n",
      "   1.25000000e-01   8.06000009e-02   3.70000000e-03   2.58000009e-02\n",
      "   7.55999982e-02   8.55000019e-02  -2.72000004e-02  -3.46999988e-02\n",
      "  -1.16700001e-01  -9.99999975e-05  -1.72399998e-01  -1.09000001e-02\n",
      "   1.63000003e-02  -1.14000002e-02  -3.55000012e-02   1.86900005e-01\n",
      "   4.63000014e-02  -2.07000002e-02   6.83000013e-02   3.22999991e-02\n",
      "   6.04000017e-02   1.78999994e-02  -5.79999983e-02  -3.86000015e-02\n",
      "   1.89999994e-02   1.34000003e-01   1.24600001e-01   3.18999998e-02\n",
      "   1.43000007e-01  -3.37000005e-02   6.50999993e-02  -1.36800006e-01\n",
      "  -6.04999997e-02  -5.22999987e-02   3.33999991e-02   6.59999996e-02\n",
      "  -8.39999970e-03  -7.98999965e-02   1.31799996e-01  -6.71999976e-02\n",
      "  -6.14199996e-01   4.30000015e-03   1.47000002e-02  -6.62999973e-02\n",
      "   3.92000005e-02   4.67999987e-02   9.01999995e-02  -2.04000007e-02\n",
      "  -5.59999980e-03  -3.26000005e-02   5.35000004e-02  -8.25000033e-02\n",
      "  -5.24999984e-02  -2.49000005e-02   1.02100000e-01   1.04500003e-01\n",
      "   1.81000009e-02  -5.66999987e-02  -6.39000013e-02  -1.34900004e-01\n",
      "  -9.70000029e-03   1.11299999e-01  -1.54400006e-01   8.38999972e-02\n",
      "   1.04000000e-02  -5.71999997e-02   4.60000010e-03   1.83400005e-01\n",
      "   1.05999997e-02   1.63000003e-01   8.16000029e-02  -2.47899994e-01\n",
      "   9.80000012e-03   2.72000004e-02  -4.94999997e-02  -4.30000015e-03\n",
      "   1.32100001e-01  -9.07000005e-02  -6.80999979e-02  -9.26000029e-02\n",
      "   1.07600003e-01   2.19999999e-03  -3.18000019e-02  -7.69999996e-02\n",
      "   1.27999997e-02   5.26000001e-02  -1.22299999e-01   1.13300003e-01\n",
      "  -1.38400003e-01  -1.05999997e-02  -1.25000000e-01  -1.02100000e-01\n",
      "  -1.16200000e-01   1.09000001e-02   3.07999998e-02   2.06000004e-02\n",
      "  -7.59000033e-02   6.21000007e-02  -1.93000007e-02   1.63299993e-01\n",
      "   9.44999978e-02  -9.49999969e-03  -6.03000000e-02  -1.91599995e-01\n",
      "  -2.23299995e-01  -1.96600005e-01  -1.12499997e-01  -3.91200006e-01\n",
      "   4.49000001e-02   1.39799997e-01   2.88999993e-02  -1.10699996e-01\n",
      "   1.18299998e-01   1.73700005e-01  -5.59000000e-02   2.39000004e-02\n",
      "  -2.82000005e-02  -8.83999988e-02  -8.33000019e-02   1.78499997e-01\n",
      "  -6.59999996e-02  -6.06000014e-02  -1.18100002e-01   6.04000017e-02\n",
      "  -2.04000007e-02   2.11899996e-01   2.41999999e-02  -2.74999999e-02\n",
      "  -5.18999994e-02  -3.35000008e-02  -1.60000008e-02   1.76499993e-01\n",
      "   1.99999995e-04   8.39999970e-03  -6.39000013e-02   2.41999999e-02\n",
      "   5.93999997e-02  -7.37000033e-02  -6.23999983e-02  -1.52700007e-01\n",
      "  -8.29000026e-02  -1.55699998e-01  -8.95999968e-02   5.31999990e-02\n",
      "   9.13000032e-02   1.23300001e-01   1.36099994e-01   4.16000001e-02\n",
      "  -7.09000006e-02   4.08999994e-02   1.54599994e-01  -3.73000018e-02\n",
      "  -6.21999986e-02   9.00000036e-02  -1.04999999e-02   7.85000026e-02\n",
      "  -8.60000029e-03  -9.23999995e-02  -1.00800000e-01  -2.62000002e-02\n",
      "  -6.19000010e-02   6.17000014e-02   3.00199986e-01  -7.54999965e-02\n",
      "   2.80299991e-01   7.24999979e-02  -1.26800001e-01   7.50999972e-02\n",
      "   3.66999991e-02   7.46000037e-02   3.53000015e-02   8.79999995e-02\n",
      "  -5.82000017e-02  -1.74000002e-02   3.10000009e-03  -7.63000026e-02\n",
      "  -2.56300002e-01  -1.08900003e-01   1.13200001e-01  -1.10699996e-01\n",
      "  -4.76000011e-02   1.56900004e-01  -1.68999992e-02   3.59999985e-02\n",
      "  -1.08499996e-01  -2.52999999e-02   1.20099999e-01   7.30000017e-03\n",
      "  -8.85000005e-02   2.63000000e-02  -2.49000005e-02  -7.53000006e-02\n",
      "   8.47999975e-02   6.17999993e-02   5.18000014e-02  -3.52999985e-01\n",
      "   1.99999996e-02  -1.09999999e-02   8.03000033e-02  -1.53999999e-02\n",
      "   1.25599995e-01  -1.49900004e-01   4.17999998e-02   6.61000013e-02\n",
      "   2.00999994e-02  -2.91000009e-02  -5.16999997e-02   7.76000023e-02\n",
      "  -7.24999979e-02   5.82999997e-02  -9.30000003e-03   1.87999997e-02\n",
      "  -4.36000004e-02  -6.17000014e-02   1.12099998e-01   9.07000005e-02\n",
      "  -6.58000037e-02  -7.47999996e-02  -2.79999990e-03   4.43999991e-02\n",
      "   3.88099998e-01  -7.42999986e-02  -1.99999996e-02  -6.01000004e-02\n",
      "  -1.26999998e-02   6.57000020e-02  -2.55299985e-01  -3.70000005e-02\n",
      "  -9.31999981e-02   1.33999996e-02   1.40799999e-01   1.41000003e-02\n",
      "   2.40000002e-02   1.08300000e-01  -4.52999994e-02  -1.41000003e-02\n",
      "  -1.89099997e-01   3.55899990e-01   1.65999994e-01   1.85000002e-02\n",
      "   1.24000004e-02   1.86999999e-02   1.75099999e-01   2.39000004e-02\n",
      "  -6.30000001e-03   5.75999990e-02   8.16999972e-02  -2.44000003e-01\n",
      "  -7.19999988e-03   1.01800002e-01   5.92000000e-02  -3.02000009e-02\n",
      "  -5.85900009e-01  -7.24000037e-02  -4.96999994e-02   9.54999998e-02\n",
      "  -1.93900004e-01  -1.97000001e-02  -7.19999969e-02   5.84999993e-02\n",
      "   2.84000002e-02   1.56299993e-01   8.94000009e-02   1.37199998e-01\n",
      "   7.19999969e-02  -9.35000032e-02  -4.69000004e-02   6.93000033e-02\n",
      "   1.40000004e-02   1.55800000e-01   1.41000003e-02   3.88999991e-02\n",
      "  -4.99999989e-03   1.06100000e-01  -3.37999985e-02  -2.05500007e-01\n",
      "  -3.37999985e-02   5.26000001e-02   3.42000015e-02  -1.57100007e-01\n",
      "  -6.31999969e-02  -8.50000046e-03   2.68900007e-01   1.42499998e-01\n",
      "  -3.35000008e-02   5.00999987e-02   1.33000001e-01   3.51999998e-02]\n",
      "Size of feature representation:  (300,)\n"
     ]
    }
   ],
   "source": [
    "woman_vec = word_vectors['woman']\n",
    "print('Feature representation of `woman` is:', woman_vec)\n",
    "print('Size of feature representation: ', woman_vec.shape)"
   ]
  },
  {
   "cell_type": "markdown",
   "metadata": {},
   "source": [
    "# Tính độ tương đồng giữa hai từ\n",
    "Mức độ tương đồng ở đây là tổng thể từ loại, cách sử dụng từ và vai trò trong câu.\n",
    "Do đó, đừng bất ngờ khi độ tương đồng của 'woman' và 'man' lại cao hơn 'woman' và 'girl'.\n",
    "Vai trò, chức năng của 'woman' và 'man' trong câu thường có tính đối ngẫu gần giống nhau. Trong khi 'woman' và 'girl' thì không đối ngẫu, do 'girl' là một tập con của 'woman' nên trong cấu trúc câu từ 'girl' đôi khi không thể thay thế bằng 'woman' được."
   ]
  },
  {
   "cell_type": "code",
   "execution_count": 10,
   "metadata": {},
   "outputs": [
    {
     "name": "stdout",
     "output_type": "stream",
     "text": [
      "Similarity of `woman` and `man`: 0.440141130997\n",
      "Similarity of `woman` and `man`: 0.309353661372\n",
      "Similarity of `boy` and `man`: 0.690931898928\n"
     ]
    }
   ],
   "source": [
    "print('Similarity of `woman` and `man`:', word_vectors.similarity('woman', 'man'))\n",
    "print('Similarity of `woman` and `man`:', word_vectors.similarity('woman', 'girl'))\n",
    "print('Similarity of `boy` and `man`:', word_vectors.similarity('boy', 'girl'))"
   ]
  },
  {
   "cell_type": "markdown",
   "metadata": {},
   "source": [
    "# Mối quan hệ về không gian giữa các từ\n",
    "\n",
    "Câu hỏi: Nếu như 'king' là 'man' thì 'queen' là gì?\n",
    "\n",
    "Trong không gian vector để biểu diễn các từ, vị trí tương đối giữa các cặp từ có mối quan hệ tương đồng về ngữ nghĩa thì sẽ có khoảng cách tương đối giống nhau. Hình sau minh hoạ mối quan hệ về mặt không gian (vector) giữa các từ. Ta dự đoán rằng các vector biểu diễn này sẽ có sự tương đồng trong không gian, nghĩa là để trả lời câu hỏi trên, ta phải giải phương trình thể hiện mối quan hệ trong không gian như sau: \n",
    "\n",
    "vector('king') - vector('queen') = vector('man') - vector(X)\n",
    "\n",
    "Suy ra: vector(X) = vector('man') - vector('king') + vector('queen').\n",
    "\n",
    "Như vậy ta sẽ xác định xem những từ nào gần với phép biến đổi trên:\n",
    "![title](king_and_queen.png)"
   ]
  },
  {
   "cell_type": "code",
   "execution_count": 6,
   "metadata": {},
   "outputs": [
    {
     "name": "stdout",
     "output_type": "stream",
     "text": [
      "Queen is a:  woman\n"
     ]
    }
   ],
   "source": [
    "sim_words = word_vectors.most_similar_cosmul(positive=['queen', 'man'], negative=['king'])\n",
    "print('Queen is a: ', sim_words[0][0])"
   ]
  },
  {
   "cell_type": "markdown",
   "metadata": {},
   "source": [
    "Như vậy, về mặt không gian vector, ta có thể biểu diễn được mối quan hệ ngữ nghĩa của các từ một cách đáng ngạc nhiên. Quan hệ trên là: Người đứng đầu - Giới tính.\n",
    "\n",
    "Hoàn toàn tương tự, ta có thể khai thác được các mối quan hệ ngữ nghĩa khác như: Đất nước - Thủ Đô, Đất nước - món ăn, Công ty - Sản phẩm, Đất nước - Tổng thống. Ví dụ dưới đây minh hoạ cho mối quan hệ ngữ nghĩa: Đất nước - Thủ đô."
   ]
  },
  {
   "cell_type": "code",
   "execution_count": 7,
   "metadata": {},
   "outputs": [
    {
     "name": "stdout",
     "output_type": "stream",
     "text": [
      "If Berlin is the capital of Germany then Hanoi is the capital of Vietnam\n"
     ]
    }
   ],
   "source": [
    "sim_words = word_vectors.most_similar_cosmul(positive=['Vietnam', 'Berlin'], negative=['Germany'])\n",
    "print('If Berlin is the capital of Germany then', sim_words[0][0], 'is the capital of Vietnam')"
   ]
  },
  {
   "cell_type": "code",
   "execution_count": 11,
   "metadata": {},
   "outputs": [
    {
     "data": {
      "text/plain": [
       "[('Hanoi', 0.9318509697914124),\n",
       " ('Saigon', 0.8905898332595825),\n",
       " ('Danang', 0.8561213612556458),\n",
       " ('Vietnamese', 0.854028046131134),\n",
       " ('VietNam', 0.8285140991210938),\n",
       " ('Hochiminh', 0.8211517930030823),\n",
       " ('Bangkok', 0.8155736327171326),\n",
       " ('Viet', 0.8127319812774658),\n",
       " ('Beijing', 0.8101763129234314),\n",
       " ('Hué', 0.80777907371521)]"
      ]
     },
     "execution_count": 11,
     "metadata": {},
     "output_type": "execute_result"
    }
   ],
   "source": [
    "sim_words"
   ]
  },
  {
   "cell_type": "markdown",
   "metadata": {},
   "source": [
    "# Thử nghiệm\n",
    "Các bạn hãy thử trên các quan hệ khác như: Đất nước - món ăn, Công ty - Sản phẩm, Đất nước - Tổng thống, Bang - Thành phố."
   ]
  },
  {
   "cell_type": "code",
   "execution_count": 2,
   "metadata": {},
   "outputs": [],
   "source": [
    "word_vectors = KeyedVectors.load_word2vec_format('Vietnamese/cc.vi.300.vec', binary=False)"
   ]
  },
  {
   "cell_type": "code",
   "execution_count": 16,
   "metadata": {},
   "outputs": [
    {
     "data": {
      "text/plain": [
       "0.34227028270042953"
      ]
     },
     "execution_count": 16,
     "metadata": {},
     "output_type": "execute_result"
    }
   ],
   "source": [
    "word_vectors.similarity('đất_nước', 'món_ăn')"
   ]
  },
  {
   "cell_type": "code",
   "execution_count": 17,
   "metadata": {},
   "outputs": [
    {
     "data": {
      "text/plain": [
       "0.52512506211359444"
      ]
     },
     "execution_count": 17,
     "metadata": {},
     "output_type": "execute_result"
    }
   ],
   "source": [
    "word_vectors.similarity('công_ty', 'sản_phẩm')"
   ]
  },
  {
   "cell_type": "code",
   "execution_count": 18,
   "metadata": {},
   "outputs": [
    {
     "data": {
      "text/plain": [
       "0.41150791805130393"
      ]
     },
     "execution_count": 18,
     "metadata": {},
     "output_type": "execute_result"
    }
   ],
   "source": [
    "word_vectors.similarity('đất_nước', 'tổng_thống')"
   ]
  },
  {
   "cell_type": "code",
   "execution_count": 19,
   "metadata": {},
   "outputs": [
    {
     "data": {
      "text/plain": [
       "0.4258334697407441"
      ]
     },
     "execution_count": 19,
     "metadata": {},
     "output_type": "execute_result"
    }
   ],
   "source": [
    "word_vectors.similarity('bang', 'thành_phố')"
   ]
  },
  {
   "cell_type": "code",
   "execution_count": 39,
   "metadata": {},
   "outputs": [
    {
     "data": {
      "text/plain": [
       "[('Nhà_vua', 0.9613238573074341),\n",
       " ('Nhà_Vua', 0.8581167459487915),\n",
       " ('nhà_Vua', 0.8480479121208191),\n",
       " ('vua', 0.8382401466369629),\n",
       " ('Hoàng_hậu', 0.8351410031318665),\n",
       " ('hoàng_hậu', 0.832502543926239),\n",
       " ('triều_đình', 0.8315482139587402),\n",
       " ('triều_thần', 0.8289474844932556),\n",
       " ('Quốc_vương', 0.8155739307403564),\n",
       " ('Vua_Chúa', 0.8079200387001038)]"
      ]
     },
     "execution_count": 39,
     "metadata": {},
     "output_type": "execute_result"
    }
   ],
   "source": [
    "sim_words = word_vectors.most_similar_cosmul(positive=['nhà_vua', 'phụ_nữ'], negative=['đàn_ông'])\n",
    "sim_words"
   ]
  },
  {
   "cell_type": "code",
   "execution_count": 29,
   "metadata": {},
   "outputs": [
    {
     "data": {
      "text/plain": [
       "array([ 0.045 , -0.0254, -0.0449, -0.0241,  0.0116, -0.0127,  0.0003,\n",
       "       -0.0381, -0.0559,  0.0013, -0.0056, -0.1131, -0.0473, -0.0283,\n",
       "       -0.0533, -0.0038, -0.021 , -0.0076,  0.038 ,  0.0371, -0.0358,\n",
       "        0.0629, -0.0421,  0.0289,  0.0072,  0.011 ,  0.0215, -0.029 ,\n",
       "        0.0548, -0.0301, -0.0339, -0.0356, -0.0408, -0.0506, -0.0383,\n",
       "       -0.0126, -0.0334, -0.0349, -0.0205, -0.002 ,  0.0428,  0.0067,\n",
       "        0.0127, -0.0271,  0.028 ,  0.0308,  0.0108, -0.0532, -0.0161,\n",
       "        0.0468,  0.1274, -0.1041, -0.0495,  0.0645, -0.0603,  0.0144,\n",
       "       -0.0518, -0.0479, -0.0186, -0.0095,  0.0781,  0.0245, -0.0336,\n",
       "       -0.0518, -0.0281, -0.0226, -0.0502, -0.0426,  0.0221,  0.0028,\n",
       "        0.0309, -0.0222,  0.    ,  0.0494,  0.0503,  0.0294, -0.0467,\n",
       "        0.0357, -0.0098,  0.036 , -0.0461, -0.051 , -0.0017, -0.0654,\n",
       "        0.0113, -0.0269, -0.0273,  0.035 ,  0.0852,  0.0487,  0.0249,\n",
       "        0.012 ,  0.0252,  0.0105,  0.0349,  0.0358, -0.0102,  0.0663,\n",
       "        0.0084,  0.0342, -0.0299, -0.0064,  0.0036,  0.0184, -0.0291,\n",
       "       -0.0657,  0.0411,  0.0092,  0.0411, -0.0119, -0.0483,  0.0373,\n",
       "       -0.0427,  0.0197, -0.0358, -0.0141,  0.0236, -0.0121,  0.0352,\n",
       "       -0.0395, -0.0255,  0.0048,  0.0183,  0.0091, -0.0332,  0.0289,\n",
       "       -0.0446, -0.01  ,  0.0575,  0.0578, -0.0636,  0.0799, -0.0222,\n",
       "       -0.011 , -0.0063, -0.0516,  0.001 ,  0.0363,  0.0111, -0.0988,\n",
       "       -0.0383,  0.005 , -0.0363,  0.0186, -0.0159,  0.0044,  0.0082,\n",
       "       -0.005 ,  0.0433,  0.0613,  0.0041, -0.0497, -0.0528, -0.0089,\n",
       "       -0.03  , -0.015 ,  0.0515, -0.0486, -0.0277,  0.0809,  0.0224,\n",
       "        0.0082,  0.0036, -0.0135,  0.0308,  0.1051,  0.0442, -0.0345,\n",
       "       -0.04  ,  0.0263,  0.0226,  0.0081, -0.0148, -0.0685, -0.0047,\n",
       "        0.0016,  0.0215,  0.0633,  0.0151,  0.0714,  0.0579,  0.043 ,\n",
       "        0.0137, -0.0031,  0.0514,  0.0183, -0.0401,  0.0291,  0.0325,\n",
       "       -0.0373, -0.0228,  0.0348,  0.0022,  0.0394, -0.0148,  0.0334,\n",
       "       -0.0077, -0.0411, -0.0037, -0.0247, -0.023 , -0.0241, -0.0004,\n",
       "       -0.0559, -0.0162, -0.0308, -0.0029,  0.0741, -0.0535,  0.0307,\n",
       "        0.0676,  0.0086,  0.0266, -0.0364, -0.0477, -0.0219, -0.0247,\n",
       "        0.0207,  0.0236,  0.0165,  0.0482, -0.0305, -0.0428, -0.007 ,\n",
       "        0.0284,  0.0355,  0.0661,  0.0305,  0.084 , -0.1029,  0.0391,\n",
       "       -0.0357,  0.035 ,  0.003 , -0.013 , -0.0268,  0.0401,  0.0454,\n",
       "       -0.0428, -0.0199, -0.0514, -0.0515,  0.0206,  0.0119,  0.034 ,\n",
       "       -0.0045, -0.054 , -0.0649, -0.0281, -0.0531,  0.0072,  0.029 ,\n",
       "        0.0321, -0.087 ,  0.0634,  0.0464, -0.0538, -0.0606, -0.0426,\n",
       "       -0.0427,  0.0822,  0.0168, -0.0613, -0.0029,  0.0401,  0.004 ,\n",
       "        0.0047, -0.0298, -0.0301, -0.013 ,  0.0551, -0.0528, -0.0048,\n",
       "       -0.0018,  0.0119,  0.0087, -0.0852, -0.0653, -0.0301, -0.0069,\n",
       "        0.003 ,  0.0328,  0.0218,  0.0833,  0.026 ,  0.0169,  0.0187,\n",
       "       -0.0362,  0.0274, -0.0075,  0.0076, -0.0504, -0.0138,  0.0457,\n",
       "       -0.0124,  0.0213,  0.0288, -0.0535,  0.0133, -0.0053], dtype=float32)"
      ]
     },
     "execution_count": 29,
     "metadata": {},
     "output_type": "execute_result"
    }
   ],
   "source": [
    "word_vectors['sài_gòn']"
   ]
  },
  {
   "cell_type": "code",
   "execution_count": null,
   "metadata": {},
   "outputs": [],
   "source": []
  }
 ],
 "metadata": {
  "kernelspec": {
   "display_name": "Python [conda env:py36]",
   "language": "python",
   "name": "conda-env-py36-py"
  },
  "language_info": {
   "codemirror_mode": {
    "name": "ipython",
    "version": 3
   },
   "file_extension": ".py",
   "mimetype": "text/x-python",
   "name": "python",
   "nbconvert_exporter": "python",
   "pygments_lexer": "ipython3",
   "version": "3.6.3"
  }
 },
 "nbformat": 4,
 "nbformat_minor": 2
}
