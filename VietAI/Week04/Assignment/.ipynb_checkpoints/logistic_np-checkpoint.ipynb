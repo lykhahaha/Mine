{
 "cells": [
  {
   "cell_type": "code",
   "execution_count": 41,
   "metadata": {},
   "outputs": [],
   "source": [
    "import numpy as np\n",
    "import matplotlib.pyplot as plt\n",
    "import tensorflow as tf\n",
    "from util import get_vehicle_data\n",
    "import logistic_np as log_np"
   ]
  },
  {
   "cell_type": "code",
   "execution_count": 28,
   "metadata": {},
   "outputs": [
    {
     "name": "stdout",
     "output_type": "stream",
     "text": [
      "Reading vehicle data...\n",
      "EOF Reached\n",
      "Done reading\n"
     ]
    }
   ],
   "source": [
    "train_x, train_y, test_x, test_y = get_vehicle_data()"
   ]
  },
  {
   "cell_type": "code",
   "execution_count": 6,
   "metadata": {},
   "outputs": [
    {
     "data": {
      "text/plain": [
       "array([[0.],\n",
       "       [0.],\n",
       "       [0.],\n",
       "       [0.],\n",
       "       [0.]])"
      ]
     },
     "execution_count": 6,
     "metadata": {},
     "output_type": "execute_result"
    }
   ],
   "source": [
    "tmp_y = train_y[:5]\n",
    "tmp_y"
   ]
  },
  {
   "cell_type": "code",
   "execution_count": 9,
   "metadata": {},
   "outputs": [
    {
     "data": {
      "text/plain": [
       "array([[0.98],\n",
       "       [0.23],\n",
       "       [0.87],\n",
       "       [0.11],\n",
       "       [0.34]])"
      ]
     },
     "execution_count": 9,
     "metadata": {},
     "output_type": "execute_result"
    }
   ],
   "source": [
    "tmp_pred = np.array([[0.98], [0.23], [0.87], [0.11], [0.34]])\n",
    "tmp_pred"
   ]
  },
  {
   "cell_type": "code",
   "execution_count": 11,
   "metadata": {},
   "outputs": [
    {
     "data": {
      "text/plain": [
       "array([[-3.91202301],\n",
       "       [-0.26136476],\n",
       "       [-2.04022083],\n",
       "       [-0.11653382],\n",
       "       [-0.41551544]])"
      ]
     },
     "execution_count": 11,
     "metadata": {},
     "output_type": "execute_result"
    }
   ],
   "source": [
    "((1 - tmp_y) * np.log(1 - tmp_pred))"
   ]
  },
  {
   "cell_type": "code",
   "execution_count": 29,
   "metadata": {},
   "outputs": [],
   "source": [
    "train_x, test_x = log_np.normalize_per_pixel(train_x, test_x)"
   ]
  },
  {
   "cell_type": "code",
   "execution_count": 30,
   "metadata": {},
   "outputs": [],
   "source": [
    "train_x = log_np.reshape2D(train_x)\n",
    "test_x = log_np.reshape2D(test_x)"
   ]
  },
  {
   "cell_type": "code",
   "execution_count": 31,
   "metadata": {},
   "outputs": [],
   "source": [
    "train_x = log_np.add_one(train_x) \n",
    "test_x = log_np.add_one(test_x)"
   ]
  },
  {
   "cell_type": "code",
   "execution_count": 32,
   "metadata": {},
   "outputs": [],
   "source": [
    "x = tf.placeholder(tf.float64, name='x')\n",
    "y = tf.placeholder(tf.float64, name='y')"
   ]
  },
  {
   "cell_type": "code",
   "execution_count": 33,
   "metadata": {},
   "outputs": [],
   "source": [
    "w_shape = (train_x.shape[1], 1)\n",
    "w = tf.Variable(np.random.normal(0, np.sqrt(2.0/np.sum(w_shape)), w_shape), name='weights')"
   ]
  },
  {
   "cell_type": "code",
   "execution_count": 34,
   "metadata": {},
   "outputs": [],
   "source": [
    "pred = 1 / (1 + tf.exp(tf.matmul(x, w)))\n",
    "# pred = tf.nn.softmax(tf.matmul(x, w))"
   ]
  },
  {
   "cell_type": "code",
   "execution_count": 35,
   "metadata": {},
   "outputs": [],
   "source": [
    "cost = -tf.reduce_mean(y * tf.log(pred) + (1 - y) * tf.log(1 - pred))\n",
    "# cost = tf.reduce_mean(-tf.reduce_sum(y * tf.log(pred)))"
   ]
  },
  {
   "cell_type": "code",
   "execution_count": 36,
   "metadata": {},
   "outputs": [
    {
     "data": {
      "text/plain": [
       "4097"
      ]
     },
     "execution_count": 36,
     "metadata": {},
     "output_type": "execute_result"
    }
   ],
   "source": [
    "train_x.shape[1]"
   ]
  },
  {
   "cell_type": "code",
   "execution_count": 37,
   "metadata": {},
   "outputs": [],
   "source": [
    "learning_rate = 0.001\n",
    "num_epoch = 1000\n",
    "optimizer = tf.train.GradientDescentOptimizer(learning_rate).minimize(cost)"
   ]
  },
  {
   "cell_type": "code",
   "execution_count": 38,
   "metadata": {},
   "outputs": [
    {
     "name": "stdout",
     "output_type": "stream",
     "text": [
      "Epoch: 0100 cost= 0.378413172\n",
      "Epoch: 0200 cost= 0.345224818\n",
      "Epoch: 0300 cost= 0.326359878\n",
      "Epoch: 0400 cost= 0.313081574\n",
      "Epoch: 0500 cost= 0.302792749\n",
      "Epoch: 0600 cost= 0.294336325\n",
      "Epoch: 0700 cost= 0.287103805\n",
      "Epoch: 0800 cost= 0.280742517\n",
      "Epoch: 0900 cost= 0.275033370\n",
      "Epoch: 1000 cost= 0.269832578\n"
     ]
    },
    {
     "data": {
      "text/plain": [
       "array([[0.15414695],\n",
       "       [0.07384517],\n",
       "       [0.24947287],\n",
       "       [0.73133574],\n",
       "       [0.01889651]])"
      ]
     },
     "execution_count": 38,
     "metadata": {},
     "output_type": "execute_result"
    }
   ],
   "source": [
    "init = tf.global_variables_initializer()\n",
    "\n",
    "with tf.Session() as sess:\n",
    "    sess.run(init)\n",
    "    \n",
    "    for e in range(num_epoch):\n",
    "        sess.run(optimizer, feed_dict = {x: train_x, y: train_y})\n",
    "        if (e + 1) % 100 == 0:\n",
    "            c = sess.run(cost, feed_dict = {x: train_x, y: train_y})\n",
    "            print(\"Epoch:\", '%04d' % (e+1), \"cost=\", \"{:.9f}\".format(c))\n",
    "            \n",
    "    y_hat = sess.run(pred, feed_dict = {x: test_x})\n",
    "\n",
    "y_hat[:5]"
   ]
  },
  {
   "cell_type": "code",
   "execution_count": 13,
   "metadata": {},
   "outputs": [
    {
     "data": {
      "text/plain": [
       "array([[0],\n",
       "       [0],\n",
       "       [0],\n",
       "       [1],\n",
       "       [0]])"
      ]
     },
     "execution_count": 13,
     "metadata": {},
     "output_type": "execute_result"
    }
   ],
   "source": [
    "y_hat = np.where(y_hat >= 0.5, 1, 0)\n",
    "y_hat[:5]"
   ]
  },
  {
   "cell_type": "code",
   "execution_count": 42,
   "metadata": {},
   "outputs": [
    {
     "name": "stdout",
     "output_type": "stream",
     "text": [
      "Precision: 0.000\n",
      "Recall: nan\n",
      "F1-score: nan\n"
     ]
    },
    {
     "name": "stderr",
     "output_type": "stream",
     "text": [
      "F:\\Data Science\\VietAI\\Week04\\Assignment\\logistic_np.py:161: RuntimeWarning: invalid value encountered in double_scalars\n",
      "  \n"
     ]
    },
    {
     "data": {
      "text/plain": [
       "(0.0, nan, nan)"
      ]
     },
     "execution_count": 42,
     "metadata": {},
     "output_type": "execute_result"
    }
   ],
   "source": [
    "# y_hat = y_hat.reshape(len(test_x))\n",
    "\n",
    "# test_y = test_y.astype(int)\n",
    "# test_y = test_y.reshape(len(test_x))\n",
    "\n",
    "log_np.test(test_y, y_hat)"
   ]
  },
  {
   "cell_type": "code",
   "execution_count": 40,
   "metadata": {},
   "outputs": [
    {
     "data": {
      "text/plain": [
       "array([[0.15414695],\n",
       "       [0.07384517],\n",
       "       [0.24947287],\n",
       "       [0.73133574],\n",
       "       [0.01889651]])"
      ]
     },
     "execution_count": 40,
     "metadata": {},
     "output_type": "execute_result"
    }
   ],
   "source": [
    "y_hat[:5]"
   ]
  },
  {
   "cell_type": "code",
   "execution_count": 19,
   "metadata": {},
   "outputs": [
    {
     "name": "stdout",
     "output_type": "stream",
     "text": [
      "             precision    recall  f1-score   support\n",
      "\n",
      "          0       0.83      0.73      0.78       300\n",
      "          1       0.76      0.85      0.80       300\n",
      "\n",
      "avg / total       0.80      0.79      0.79       600\n",
      "\n"
     ]
    }
   ],
   "source": [
    "from sklearn.metrics import classification_report\n",
    "print(classification_report(test_y, y_hat, target_names=['0', '1']))"
   ]
  },
  {
   "cell_type": "code",
   "execution_count": 25,
   "metadata": {},
   "outputs": [
    {
     "data": {
      "text/plain": [
       "455.78635014836794"
      ]
     },
     "execution_count": 25,
     "metadata": {},
     "output_type": "execute_result"
    }
   ],
   "source": [
    "np.mean(test_y[y_hat == 1] == y_hat[y_hat == 1]) * len(y_hat)"
   ]
  },
  {
   "cell_type": "code",
   "execution_count": 26,
   "metadata": {},
   "outputs": [
    {
     "data": {
      "text/plain": [
       "256"
      ]
     },
     "execution_count": 26,
     "metadata": {},
     "output_type": "execute_result"
    }
   ],
   "source": [
    "count = 0\n",
    "for i in range(len(test_y)):\n",
    "    if test_y[i] == 1 and y_hat[i] == 1:\n",
    "        count += 1\n",
    "[] \n",
    "count"
   ]
  },
  {
   "cell_type": "code",
   "execution_count": 23,
   "metadata": {},
   "outputs": [
    {
     "data": {
      "text/plain": [
       "337"
      ]
     },
     "execution_count": 23,
     "metadata": {},
     "output_type": "execute_result"
    }
   ],
   "source": [
    "len(y_hat[y_hat == 1])"
   ]
  },
  {
   "cell_type": "code",
   "execution_count": null,
   "metadata": {},
   "outputs": [
    {
     "name": "stdout",
     "output_type": "stream",
     "text": [
      "Reading vehicle data...\n",
      "EOF Reached\n",
      "Done reading\n"
     ]
    }
   ],
   "source": [
    "import numpy as np\n",
    "import matplotlib.pyplot as plt\n",
    "from util import get_vehicle_data\n",
    "\n",
    "class LogisticClassifier(object):\n",
    "    \n",
    "    def __init__(self, w_shape):\n",
    "        \n",
    "        mean = 0\n",
    "        std = 1\n",
    "        self.w = np.random.normal(0, np.sqrt(2.0/np.sum(w_shape)), w_shape)\n",
    "\n",
    "    def feed_forward(self, x):\n",
    "        \"\"\"feed_forward\n",
    "        This function compute the output of your logistic classification model\n",
    "        \n",
    "        :param x: input\n",
    "        \n",
    "        :return result: feed forward result (after sigmoid) \n",
    "        \"\"\"\n",
    "        # [TODO 1.5]\n",
    "        # Compute feedforward result\n",
    "\n",
    "        result = 1 / (1 + np.exp(np.dot(x, self.w)))\n",
    "        return result\n",
    "\n",
    "\n",
    "    def compute_loss(self, y, y_hat):\n",
    "        \"\"\"compute_loss\n",
    "        Compute the loss using y (label) and y_hat (predicted class)\n",
    "\n",
    "        :param y:  the label, the actual class of the samples\n",
    "        :param y_hat: the propabilitis that the given samples belong to class 1\n",
    "        \n",
    "        :return loss: a single value\n",
    "        \"\"\"\n",
    "        # [TODO 1.6]\n",
    "        # Compute loss value (a single number)\n",
    "        loss = 0\n",
    "        for i in range(len(y)):\n",
    "            loss += (y[i] * np.log(y_hat[i]) + (1 - y[i]) * np.log(1 - y_hat[i]))\n",
    "        loss = loss / float(len(y))\n",
    "        return loss\n",
    "\n",
    "\n",
    "    def get_grad(self, x, y, y_hat):\n",
    "        \"\"\"get_grad\n",
    "        Compute and return the gradient of w\n",
    "\n",
    "        :param loss: computed loss between y_hat and y in the train dataset\n",
    "        :param y_hat: predicted y\n",
    "        \n",
    "        :return w_grad: has the same shape as self.w\n",
    "        \"\"\" \n",
    "        # [TODO 1.7]\n",
    "        # Compute the gradient matrix of w, it has the same size of w\n",
    "\n",
    "        w_grad = []\n",
    "        for j in range(x.shape[1]):\n",
    "            tmp = 0\n",
    "            for i in range(len(y)):\n",
    "                tmp += (y_hat[i] - y[i]) * x[i, j]\n",
    "            w_grad.append(tmp/float(len(y)))\n",
    "        w_grad = np.array(w_grad) / float(len(y))\n",
    "        return w_grad.reshape(-1, 1)\n",
    "\n",
    "    def update_weight(self, grad, learning_rate):\n",
    "        \"\"\"update_weight\n",
    "        Update w using the computed gradient\n",
    "\n",
    "        :param grad: gradient computed from the loss\n",
    "        :param learning_rate: float, learning rate\n",
    "        \"\"\"\n",
    "        # [TODO 1.8]\n",
    "        # Update w using SGD\n",
    "\n",
    "        self.w = self.w - learning_rate * grad\n",
    "\n",
    "\n",
    "    def update_weight_momentum(self, grad, learning_rate, momentum, momentum_rate):\n",
    "        \"\"\"update_weight with momentum\n",
    "        Update w using the algorithm with momnetum\n",
    "\n",
    "        :param grad: gradient computed from the loss\n",
    "        :param learning_rate: float, learning rate\n",
    "        :param momentum: the array storing momentum for training w, should have the same shape as w\n",
    "        :param momentum_rate: float, how much momentum to reuse after each loop (denoted as gamma in the document)\n",
    "        \"\"\"\n",
    "        # [TODO 1.9]\n",
    "        # Update w using SGD with momentum\n",
    "\n",
    "        self.w = self.w - momentum_rate * momentum - learning_rate * grad\n",
    "\n",
    "def normalize_per_pixel(train_x, test_x):\n",
    "    \"\"\"normalize_per_pixel\n",
    "    This function computes train mean and standard deviation on each pixel then applying data scaling on train_x and test_x using these computed values\n",
    "\n",
    "    :param train_x: train images, shape=(num_train, image_height, image_width)\n",
    "    :param test_x: test images, shape=(num_test, image_height, image_width)\n",
    "    \"\"\"\n",
    "    train_mean = np.sum(train_x, axis=0)/float(train_x.shape[0])\n",
    "    train_mean = train_mean[np.newaxis, :, :]\n",
    "\n",
    "    train_std = np.sqrt(np.sum(np.square(train_x - train_mean), axis=0)[np.newaxis, :, :]/float(train_x.shape[0]))\n",
    "\n",
    "    for m in range(train_x.shape[0]):\n",
    "        train_x[m] = (train_x[m] - train_mean[0])/train_std[0]\n",
    "    for m in range(test_x.shape[0]):\n",
    "        test_x[m] = (test_x[m] - train_mean[0])/train_std[0]\n",
    "                \n",
    "    return train_x, test_x\n",
    "\n",
    "def normalize_all_pixel(train_x, test_x):\n",
    "    \"\"\"normalize_all_pixel\n",
    "    This function computes train mean and standard deviation on all pixels then applying data scaling on train_x and test_x using these computed values\n",
    "\n",
    "    :param train_x: train images, shape=(num_train, image_height, image_width)\n",
    "    :param test_x: test images, shape=(num_test, image_height, image_width)\n",
    "    \"\"\"\n",
    "    mean = np.sum(train_x)/float(train_x.shape[0] * train_x.shape[1] * train_x.shape[2])\n",
    "    std = np.sqrt(np.sum(np.square(train_x - mean))/float(train_x.shape[0] * train_x.shape[1] * train_x.shape[2]))\n",
    "\n",
    "    train_x = (train_x - mean)/float(std)\n",
    "    test_x = (test_x - mean)/float(std)\n",
    "    \n",
    "    return train_x, test_x\n",
    "\n",
    "def reshape2D(tensor):\n",
    "    \"\"\"reshape_2D\n",
    "    Reshape our 3D tensors to 2D. A 3D tensor of shape (num_samples, image_height, image_width) must be reshaped into (num_samples, image_height*image_width)\n",
    "    \"\"\"\n",
    "    # [TODO 1.3]\n",
    "\n",
    "    tensor = tensor.reshape(tensor.shape[0], tensor.shape[1] * tensor.shape[2])\n",
    "\n",
    "    return tensor    \n",
    "\n",
    "def add_one(x):\n",
    "    \"\"\"add_one\n",
    "    \n",
    "    This function add ones as an additional feature for x\n",
    "    :param x: input data\n",
    "    \"\"\"\n",
    "    # [TODO 1.4]\n",
    "    x = np.concatenate((x, np.ones((x.shape[0], 1))), axis = 1)\n",
    "\n",
    "    return x\n",
    "\n",
    "def test(y_hat, test_y):\n",
    "    \"\"\"test\n",
    "    Compute precision, recall and F1-score based on predicted test values\n",
    "\n",
    "    :param y_hat: predicted values, output of classifier.feed_forward\n",
    "    :param test_y: test labels\n",
    "    \"\"\"\n",
    "    \n",
    "    # [TODO 1.10]\n",
    "    # Compute test scores using test_y and y_hat\n",
    "    y_hat = np.where(y_hat >= 0.5, 1, 0)\n",
    "    y_hat = y_hat.reshape(len(test_x))\n",
    "\n",
    "    test_y = test_y.astype(int)\n",
    "    test_y = test_y.reshape(len(test_x))\n",
    "\n",
    "    count = 0\n",
    "    for i in range(len(test_y)):\n",
    "        if test_y[i] == 1 and y_hat[i] == 1:\n",
    "            count += 1\n",
    "\n",
    "    precision = count / len(y_hat[y_hat == 1])\n",
    "    recall = count / len(test_y[test_y == 1])\n",
    "    f1 = (2 * precision * recall) / (precision + recall)\n",
    "    print(\"Precision: %.3f\" % precision)\n",
    "    print(\"Recall: %.3f\" % recall)\n",
    "    print(\"F1-score: %.3f\" % f1)\n",
    "\n",
    "    return precision, recall, f1\n",
    "\n",
    "def generate_unit_testcase(train_x, train_y):\n",
    "    train_x = train_x[0:5, :, :]\n",
    "    train_y = train_y[0:5, :]\n",
    "    \n",
    "    testcase = {}\n",
    "    testcase['output'] = []\n",
    "\n",
    "    train_x_norm1, _ = normalize_per_pixel(train_x, train_x)\n",
    "    train_x_norm2, _ = normalize_all_pixel(train_x, train_x)\n",
    "    train_x = train_x_norm2\n",
    "\n",
    "    testcase['train_x_norm1'] = train_x_norm1\n",
    "    testcase['train_x_norm2'] = train_x_norm2\n",
    "\n",
    "    train_x = reshape2D(train_x)\n",
    "    testcase['train_x2D'] = train_x\n",
    "\n",
    "    train_x = add_one(train_x)\n",
    "    testcase['train_x1'] = train_x\n",
    "    \n",
    "    learning_rate = 0.001\n",
    "    momentum_rate = 0.9\n",
    "\n",
    "    for i in range(10): \n",
    "        test_dict = {}\n",
    "        classifier = LogisticClassifier((train_x.shape[1], 1))\n",
    "        test_dict['w'] = classifier.w\n",
    "        \n",
    "        y_hat = classifier.feed_forward(train_x)\n",
    "        loss = classifier.compute_loss(train_y, y_hat)\n",
    "        grad = classifier.get_grad(train_x, train_y, y_hat)\n",
    "        classifier.update_weight(grad, 0.001)\n",
    "        test_dict['w_1'] = classifier.w\n",
    "        \n",
    "        momentum = np.ones_like(grad)\n",
    "        classifier.update_weight_momentum(grad, learning_rate, momentum, momentum_rate)\n",
    "        test_dict['w_2'] = classifier.w\n",
    "\n",
    "        test_dict['y_hat'] = y_hat\n",
    "        test_dict['loss'] = loss\n",
    "        test_dict['grad'] = grad\n",
    "         \n",
    "        testcase['output'].append(test_dict)\n",
    "    \n",
    "    np.save('./data/unittest', testcase)\n",
    "\n",
    "\n",
    "if __name__ == \"__main__\":\n",
    "    np.random.seed(2018)\n",
    "\n",
    "    # Load data from file\n",
    "    # Make sure that vehicles.dat is in data/\n",
    "    train_x, train_y, test_x, test_y = get_vehicle_data()\n",
    "    num_train = train_x.shape[0]\n",
    "    num_test = test_x.shape[0]  \n",
    "    \n",
    "    #generate_unit_testcase(train_x.copy(), train_y.copy()) \n",
    "\n",
    "    # Normalize our data: choose one of the two methods before training\n",
    "    #train_x, test_x = normalize_all_pixel(train_x, test_x) \n",
    "    train_x, test_x = normalize_per_pixel(train_x, test_x) \n",
    "\n",
    "    # Reshape our data\n",
    "    # train_x: shape=(2400, 64, 64) -> shape=(2400, 64*64)\n",
    "    # test_x: shape=(600, 64, 64) -> shape=(600, 64*64)\n",
    "    train_x = reshape2D(train_x)\n",
    "    test_x = reshape2D(test_x)\n",
    "    \n",
    "    # Pad 1 as the last feature of train_x and test_x\n",
    "    train_x = add_one(train_x) \n",
    "    test_x = add_one(test_x)\n",
    "    \n",
    "    # Create classifier\n",
    "    num_feature = train_x.shape[1]\n",
    "    bin_classifier = LogisticClassifier((num_feature, 1))\n",
    "    momentum = np.zeros_like(bin_classifier.w)\n",
    "\n",
    "    # Define hyper-parameters and train-related parameters\n",
    "    num_epoch = 1000\n",
    "    learning_rate = 0.01\n",
    "    momentum_rate = 0.9\n",
    "    epochs_to_draw = 100\n",
    "    all_loss = []\n",
    "    plt.ion()\n",
    "    for e in range(num_epoch):    \n",
    "        y_hat = bin_classifier.feed_forward(train_x)\n",
    "        loss = bin_classifier.compute_loss(train_y, y_hat)\n",
    "        grad = bin_classifier.get_grad(train_x, train_y, y_hat)\n",
    "        \n",
    "        # Updating weight: choose either normal SGD or SGD with momentum\n",
    "        bin_classifier.update_weight(grad, learning_rate)\n",
    "        #bin_classifier.update_weight_momentum(grad, learning_rate, momentum, momentum_rate)\n",
    "\n",
    "        all_loss.append(loss) \n",
    "        \n",
    "        if (e % epochs_to_draw == epochs_to_draw-1):\n",
    "            plot_loss(all_loss)\n",
    "            plt.show()\n",
    "            plt.pause(0.1)     \n",
    "            print(\"Epoch %d: loss is %.5f\" % (e+1, loss))\n",
    "    \n",
    "    y_hat = bin_classifier.feed_forward(test_x)\n",
    "    \n",
    "    test(y_hat, test_y)"
   ]
  },
  {
   "cell_type": "code",
   "execution_count": null,
   "metadata": {},
   "outputs": [],
   "source": [
    ""
   ]
  }
 ],
 "metadata": {
  "kernelspec": {
   "display_name": "Python [conda env:tsf36]",
   "language": "python",
   "name": "conda-env-tsf36-py"
  },
  "language_info": {
   "codemirror_mode": {
    "name": "ipython",
    "version": 3.0
   },
   "file_extension": ".py",
   "mimetype": "text/x-python",
   "name": "python",
   "nbconvert_exporter": "python",
   "pygments_lexer": "ipython3",
   "version": "3.6.5"
  }
 },
 "nbformat": 4,
 "nbformat_minor": 0
}