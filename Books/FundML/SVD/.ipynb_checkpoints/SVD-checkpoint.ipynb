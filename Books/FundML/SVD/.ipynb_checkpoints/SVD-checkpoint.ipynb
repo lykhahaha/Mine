{
 "cells": [
  {
   "cell_type": "code",
   "execution_count": 1,
   "metadata": {},
   "outputs": [],
   "source": [
    "import numpy as np\n",
    "from numpy import linalg as LA"
   ]
  },
  {
   "cell_type": "code",
   "execution_count": 2,
   "metadata": {},
   "outputs": [
    {
     "name": "stdout",
     "output_type": "stream",
     "text": [
      "Frobenius norm of (UU^T - I) = 1.357550090874673e-15\n",
      "S = [3.42529325 1.32924823 1.20214859]\n",
      "Frobenius norm of (V^T - I) = 5.79553433516819e-16\n"
     ]
    }
   ],
   "source": [
    "m, n = 3, 4\n",
    "A = np.random.randn(m, n)\n",
    "U, S, V = LA.svd(A)# A = U * S * V (V here means V.T)\n",
    "print('Frobenius norm of (UU^T - I) =', LA.norm(np.dot(U, U.T) - np.eye(m))) # Check if U is orthogonal\n",
    "print('S =', S) # S is a diagonal matrix (3, 4) with nonnegative decreasing values in the diagonal, S just shows diagonal values\n",
    "print('Frobenius norm of (V^T - I) =', LA.norm(np.dot(V, V.T) - np.eye(n))) # Check if U is orthogonal"
   ]
  },
  {
   "cell_type": "code",
   "execution_count": null,
   "metadata": {},
   "outputs": [],
   "source": []
  }
 ],
 "metadata": {
  "kernelspec": {
   "display_name": "Python [conda env:py36]",
   "language": "python",
   "name": "conda-env-py36-py"
  },
  "language_info": {
   "codemirror_mode": {
    "name": "ipython",
    "version": 3
   },
   "file_extension": ".py",
   "mimetype": "text/x-python",
   "name": "python",
   "nbconvert_exporter": "python",
   "pygments_lexer": "ipython3",
   "version": "3.6.3"
  }
 },
 "nbformat": 4,
 "nbformat_minor": 2
}
