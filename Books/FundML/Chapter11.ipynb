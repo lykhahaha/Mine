{
 "cells": [
  {
   "cell_type": "markdown",
   "metadata": {},
   "source": [
    "# Example\n",
    "## North or South"
   ]
  },
  {
   "cell_type": "code",
   "execution_count": 1,
   "metadata": {},
   "outputs": [],
   "source": [
    "import numpy as np\n",
    "from sklearn.naive_bayes import MultinomialNB"
   ]
  },
  {
   "cell_type": "markdown",
   "metadata": {},
   "source": [
    "### Multinomial NB"
   ]
  },
  {
   "cell_type": "code",
   "execution_count": 6,
   "metadata": {},
   "outputs": [
    {
     "name": "stderr",
     "output_type": "stream",
     "text": [
      "D:\\Anaconda2\\envs\\py36\\lib\\site-packages\\sklearn\\utils\\validation.py:547: DataConversionWarning: A column-vector y was passed when a 1d array was expected. Please change the shape of y to (n_samples, ), for example using ravel().\n",
      "  y = column_or_1d(y, warn=True)\n"
     ]
    },
    {
     "data": {
      "text/plain": [
       "MultinomialNB(alpha=1.0, class_prior=None, fit_prior=True)"
      ]
     },
     "execution_count": 6,
     "metadata": {},
     "output_type": "execute_result"
    }
   ],
   "source": [
    "# train set\n",
    "d1 = [2, 1, 1, 0, 0, 0, 0, 0, 0]\n",
    "d2 = [1, 1, 0, 1, 1, 0, 0, 0, 0]\n",
    "d3 = [0, 1, 0, 0, 1, 1, 0, 0, 0]\n",
    "d4 = [0, 1, 0, 0, 0, 0, 1, 1, 1]\n",
    "train_data = np.array([d1, d2, d3, d4])\n",
    "label = np.array([['N'], ['N'], ['N'], ['S']])\n",
    "# implement MultinomialNB\n",
    "model = MultinomialNB()\n",
    "# training\n",
    "model.fit(train_data, label)"
   ]
  },
  {
   "cell_type": "code",
   "execution_count": 10,
   "metadata": {},
   "outputs": [
    {
     "name": "stdout",
     "output_type": "stream",
     "text": [
      "Predict class of d5 based on NBC: N\n",
      "Probability of d5 in each class: [[ 0.89548823  0.10451177]]\n",
      "Predict class of d6 based on NBC: S\n",
      "Probability of d6 in each class: [[ 0.29175335  0.70824665]]\n"
     ]
    }
   ],
   "source": [
    "# test set\n",
    "d5 = np.array([[2, 0, 0, 1, 0, 0, 0, 1, 0]])\n",
    "d6 = np.array([[0, 1, 0, 0, 0, 0, 0, 1, 1]])\n",
    "# predict d5\n",
    "print('Predict class of d5 based on NBC:', model.predict(d5)[0])\n",
    "print('Probability of d5 in each class:', model.predict_proba(d5))\n",
    "# predict d6\n",
    "print('Predict class of d6 based on NBC:', model.predict(d6)[0])\n",
    "print('Probability of d6 in each class:', model.predict_proba(d6))"
   ]
  },
  {
   "cell_type": "markdown",
   "metadata": {},
   "source": [
    "* The probability of each class in **d5** is similar with calculation in document"
   ]
  },
  {
   "cell_type": "markdown",
   "metadata": {},
   "source": [
    "### Bernoulli NB\n",
    "* Instead of considering the number of feature in document, **Bernoulli NB** just care whether this feature is in the document or not"
   ]
  },
  {
   "cell_type": "code",
   "execution_count": 11,
   "metadata": {},
   "outputs": [],
   "source": [
    "from sklearn.naive_bayes import BernoulliNB"
   ]
  },
  {
   "cell_type": "code",
   "execution_count": 12,
   "metadata": {},
   "outputs": [
    {
     "name": "stderr",
     "output_type": "stream",
     "text": [
      "D:\\Anaconda2\\envs\\py36\\lib\\site-packages\\sklearn\\utils\\validation.py:547: DataConversionWarning: A column-vector y was passed when a 1d array was expected. Please change the shape of y to (n_samples, ), for example using ravel().\n",
      "  y = column_or_1d(y, warn=True)\n"
     ]
    },
    {
     "data": {
      "text/plain": [
       "BernoulliNB(alpha=1.0, binarize=0.0, class_prior=None, fit_prior=True)"
      ]
     },
     "execution_count": 12,
     "metadata": {},
     "output_type": "execute_result"
    }
   ],
   "source": [
    "# test set\n",
    "d1 = [1, 1, 1, 0, 0, 0, 0, 0, 0]\n",
    "d2 = [1, 1, 0, 1, 1, 0, 0, 0, 0]\n",
    "d3 = [0, 1, 0, 0, 1, 1, 0, 0, 0]\n",
    "d4 = [0, 1, 0, 0, 0, 0, 1, 1, 1]\n",
    "train_data = np.array([d1, d2, d3, d4])\n",
    "label = np.array([['N'], ['N'], ['N'], ['S']])\n",
    "# implement MultinomialNB\n",
    "model = BernoulliNB()\n",
    "# training\n",
    "model.fit(train_data, label)"
   ]
  },
  {
   "cell_type": "code",
   "execution_count": 13,
   "metadata": {},
   "outputs": [
    {
     "name": "stdout",
     "output_type": "stream",
     "text": [
      "Predict class of d5 based on NBC: N\n",
      "Probability of d5 in each class: [[ 0.76554295  0.23445705]]\n",
      "Predict class of d6 based on NBC: S\n",
      "Probability of d6 in each class: [[ 0.16948581  0.83051419]]\n"
     ]
    }
   ],
   "source": [
    "# test set\n",
    "d5 = np.array([[1, 0, 0, 1, 0, 0, 0, 1, 0]])\n",
    "d6 = np.array([[0, 1, 0, 0, 0, 0, 0, 1, 1]])\n",
    "# predict d5\n",
    "print('Predict class of d5 based on NBC:', model.predict(d5)[0])\n",
    "print('Probability of d5 in each class:', model.predict_proba(d5))\n",
    "# predict d6\n",
    "print('Predict class of d6 based on NBC:', model.predict(d6)[0])\n",
    "print('Probability of d6 in each class:', model.predict_proba(d6))"
   ]
  },
  {
   "cell_type": "markdown",
   "metadata": {},
   "source": [
    "* For the small dataset like this, the result of **Multinomial NB** and **Bernoulli NB** is not different"
   ]
  },
  {
   "cell_type": "markdown",
   "metadata": {},
   "source": [
    "## Email Spam Filtering\n",
    "* **Preprocess** text\n",
    "    * Remove **stop words**: `'and'`, `'the'`, `'of'` should be removed\n",
    "    * Lemmatization: e.g. `'includes'`, `'included'` should be change to `'include'`\n",
    "    * Remove non-stop: remove number, punctuation, special character\n",
    "* Our dataset includes 960 english email which is separated into training set and test set in the ratio of 700:260 and half of each of them is spam\n",
    "* Our dataset **was preprocessed**\n",
    "* Example\n",
    "    * Before Preprocessing of non-spam email:\n",
    "![caption](http://res.cloudinary.com/dqagyeboj/image/upload/v1531103065/Chapter11_0_esyfsg.png)\n",
    "    * After Preprocessing of non-spam email:\n",
    "![caption](http://res.cloudinary.com/dqagyeboj/image/upload/v1531103065/Chapter11_1_vmvll4.png)\n",
    "    * After Preprocessing of spam email:\n",
    "![caption](https://res.cloudinary.com/dqagyeboj/image/upload/v1531103064/Chapter11_2_fpxkrv.png)\n",
    "\n",
    "* The word like `'financial'`, `'extraodinary'`, `'earn'`, `'oppotunity'` is the common words in span email\n",
    "\n",
    "* In the dataset, we have\n",
    "    * test-features.txt\n",
    "    * test-labels.txt\n",
    "    * train-features-50.txt\n",
    "    * train-features-100.txt\n",
    "    * train-features-400.txt\n",
    "    * train-features.txt\n",
    "    * train-labels-50.txt\n",
    "    * train-labels-100.txt\n",
    "    * train-labels-400.txt\n",
    "    * train-labels.txt\n",
    "* `'train-features-50.txt'` is truncated form of training set with 50 emails\n",
    "* In `'train-labels.txt'`, each row has 0 or 1 to show this email is spam or not\n",
    "* In `'train-features.txt'`, each row has 3 number:\n",
    "    * `'1 564 1'`\n",
    "    * `'1 19 2'`\n",
    "* First value is index of email, start from 1. Second value is index of word in the dictionary (dictionary has 2500 words), third value is amount of the word in email. E.g. `'1 564 1'` means in email #1, the word has index of 564 appearing once time\n",
    "* If feature does not appear in the email we are considering, it means word does not exist in the email"
   ]
  },
  {
   "cell_type": "code",
   "execution_count": 98,
   "metadata": {},
   "outputs": [],
   "source": [
    "import numpy as np\n",
    "from scipy.sparse import coo_matrix # for sparse matrix\n",
    "from sklearn.naive_bayes import MultinomialNB, BernoulliNB\n",
    "from sklearn.metrics import accuracy_score\n",
    "# data path and file name\n",
    "path = 'Chapter11/'\n",
    "train_data_fn = 'train-features.txt'\n",
    "test_data_fn = 'test-features.txt'\n",
    "train_label_fn = 'train-labels.txt'\n",
    "test_label_fn = 'test-labels.txt'"
   ]
  },
  {
   "cell_type": "code",
   "execution_count": 101,
   "metadata": {},
   "outputs": [],
   "source": [
    "vocabulary_size = 2500\n",
    "\n",
    "def read_data(data_fn, label_fn):\n",
    "    # read data filename\n",
    "    with open(path + data_fn) as file:\n",
    "        content = file.readlines()\n",
    "    content = [x.strip().split() for x in content]\n",
    "    content = np.array(content, dtype=np.int32)\n",
    "    \n",
    "    # read label filename\n",
    "    with open(path + label_fn) as file:\n",
    "        label = file.readlines()\n",
    "    label = np.array([int(x.strip()) for x in label]).reshape(-1, 1)\n",
    "    \n",
    "    # Sparse Matrix: row is document, column is 2500 features\n",
    "    data = coo_matrix((content[:, 2], (content[:, 0] - 1, content[:, 1] - 1)), shape=(len(label), vocabulary_size))\n",
    "    \n",
    "    return data, label"
   ]
  },
  {
   "cell_type": "code",
   "execution_count": 102,
   "metadata": {},
   "outputs": [
    {
     "name": "stdout",
     "output_type": "stream",
     "text": [
      "Training size: 700 and Accuracy Score: 98.0769230769\n"
     ]
    },
    {
     "name": "stderr",
     "output_type": "stream",
     "text": [
      "D:\\Anaconda2\\envs\\py36\\lib\\site-packages\\sklearn\\utils\\validation.py:547: DataConversionWarning: A column-vector y was passed when a 1d array was expected. Please change the shape of y to (n_samples, ), for example using ravel().\n",
      "  y = column_or_1d(y, warn=True)\n"
     ]
    }
   ],
   "source": [
    "train_data, train_label = read_data(train_data_fn, train_label_fn)\n",
    "test_data, test_label = read_data(test_data_fn, test_label_fn)\n",
    "\n",
    "model = MultinomialNB()\n",
    "model.fit(train_data, train_label)\n",
    "\n",
    "y_pred = model.predict(test_data)\n",
    "\n",
    "print('Training size:', train_data.shape[0], 'and Accuracy Score:', accuracy_score(test_label, y_pred) * 100)"
   ]
  },
  {
   "cell_type": "markdown",
   "metadata": {},
   "source": [
    "* Continue with smaller training set. We test with 100-document and 50-document training set"
   ]
  },
  {
   "cell_type": "code",
   "execution_count": 105,
   "metadata": {},
   "outputs": [],
   "source": [
    "train_data_fn = 'train-features-100.txt'\n",
    "test_data_fn = 'test-features.txt'\n",
    "train_label_fn = 'train-labels-100.txt'\n",
    "test_label_fn = 'test-labels.txt'"
   ]
  },
  {
   "cell_type": "code",
   "execution_count": 106,
   "metadata": {},
   "outputs": [
    {
     "name": "stdout",
     "output_type": "stream",
     "text": [
      "Training size: 100 and Accuracy Score: 97.6923076923\n"
     ]
    },
    {
     "name": "stderr",
     "output_type": "stream",
     "text": [
      "D:\\Anaconda2\\envs\\py36\\lib\\site-packages\\sklearn\\utils\\validation.py:547: DataConversionWarning: A column-vector y was passed when a 1d array was expected. Please change the shape of y to (n_samples, ), for example using ravel().\n",
      "  y = column_or_1d(y, warn=True)\n"
     ]
    }
   ],
   "source": [
    "train_data, train_label = read_data(train_data_fn, train_label_fn)\n",
    "test_data, test_label = read_data(test_data_fn, test_label_fn)\n",
    "\n",
    "model = MultinomialNB()\n",
    "model.fit(train_data, train_label)\n",
    "\n",
    "y_pred = model.predict(test_data)\n",
    "\n",
    "print('Training size:', train_data.shape[0], 'and Accuracy Score:', accuracy_score(test_label, y_pred) * 100)"
   ]
  },
  {
   "cell_type": "code",
   "execution_count": 107,
   "metadata": {},
   "outputs": [],
   "source": [
    "train_data_fn = 'train-features-50.txt'\n",
    "test_data_fn = 'test-features.txt'\n",
    "train_label_fn = 'train-labels-50.txt'\n",
    "test_label_fn = 'test-labels.txt'"
   ]
  },
  {
   "cell_type": "code",
   "execution_count": 108,
   "metadata": {},
   "outputs": [
    {
     "name": "stdout",
     "output_type": "stream",
     "text": [
      "Training size: 50 and Accuracy Score: 97.3076923077\n"
     ]
    },
    {
     "name": "stderr",
     "output_type": "stream",
     "text": [
      "D:\\Anaconda2\\envs\\py36\\lib\\site-packages\\sklearn\\utils\\validation.py:547: DataConversionWarning: A column-vector y was passed when a 1d array was expected. Please change the shape of y to (n_samples, ), for example using ravel().\n",
      "  y = column_or_1d(y, warn=True)\n"
     ]
    }
   ],
   "source": [
    "train_data, train_label = read_data(train_data_fn, train_label_fn)\n",
    "test_data, test_label = read_data(test_data_fn, test_label_fn)\n",
    "\n",
    "model = MultinomialNB()\n",
    "model.fit(train_data, train_label)\n",
    "\n",
    "y_pred = model.predict(test_data)\n",
    "\n",
    "print('Training size:', train_data.shape[0], 'and Accuracy Score:', accuracy_score(test_label, y_pred) * 100)"
   ]
  },
  {
   "cell_type": "markdown",
   "metadata": {},
   "source": [
    "* Even with much smaller training set, result of NBC is very impressive\n",
    "* Now testing with **Bernoulli NB**"
   ]
  },
  {
   "cell_type": "code",
   "execution_count": 112,
   "metadata": {},
   "outputs": [
    {
     "name": "stdout",
     "output_type": "stream",
     "text": [
      "Training size: 700 and Accuracy Score: 85.3846153846\n"
     ]
    },
    {
     "name": "stderr",
     "output_type": "stream",
     "text": [
      "D:\\Anaconda2\\envs\\py36\\lib\\site-packages\\sklearn\\utils\\validation.py:547: DataConversionWarning: A column-vector y was passed when a 1d array was expected. Please change the shape of y to (n_samples, ), for example using ravel().\n",
      "  y = column_or_1d(y, warn=True)\n"
     ]
    }
   ],
   "source": [
    "train_data_fn = 'train-features.txt'\n",
    "test_data_fn = 'test-features.txt'\n",
    "train_label_fn = 'train-labels.txt'\n",
    "test_label_fn = 'test-labels.txt'\n",
    "\n",
    "train_data, train_label = read_data(train_data_fn, train_label_fn)\n",
    "test_data, test_label = read_data(test_data_fn, test_label_fn)\n",
    "\n",
    "model = BernoulliNB(binarize=.5)\n",
    "model.fit(train_data, train_label)\n",
    "y_pred = model.predict(test_data)\n",
    "print('Training size:', train_data.shape[0], 'and Accuracy Score:', accuracy_score(test_label, y_pred) * 100)"
   ]
  },
  {
   "cell_type": "markdown",
   "metadata": {},
   "source": [
    "* `coo_matrix` is not binary, so w add `binarize=.5` as threshold of 0.5. If value > 0.5, it will be 1 and o.w.\n",
    "* In the same trainging size of 700, **MultinomialNB** is much better than **BernoulliNB**"
   ]
  },
  {
   "cell_type": "code",
   "execution_count": null,
   "metadata": {},
   "outputs": [],
   "source": []
  }
 ],
 "metadata": {
  "kernelspec": {
   "display_name": "Python [conda env:py36]",
   "language": "python",
   "name": "conda-env-py36-py"
  },
  "language_info": {
   "codemirror_mode": {
    "name": "ipython",
    "version": 3
   },
   "file_extension": ".py",
   "mimetype": "text/x-python",
   "name": "python",
   "nbconvert_exporter": "python",
   "pygments_lexer": "ipython3",
   "version": "3.6.3"
  }
 },
 "nbformat": 4,
 "nbformat_minor": 2
}
