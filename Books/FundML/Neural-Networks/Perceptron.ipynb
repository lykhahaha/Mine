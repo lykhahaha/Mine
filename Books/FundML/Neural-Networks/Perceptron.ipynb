{
 "cells": [
  {
   "cell_type": "code",
   "execution_count": 16,
   "metadata": {},
   "outputs": [],
   "source": [
    "import numpy as np\n",
    "import matplotlib.pyplot as plt\n",
    "np.random.seed(0)"
   ]
  },
  {
   "cell_type": "code",
   "execution_count": 17,
   "metadata": {},
   "outputs": [],
   "source": [
    "means = [[-1, 0], [1, 0]]\n",
    "cov = [[.3, .2], [.2, .3]]\n",
    "N = 10\n",
    "X0 = np.random.multivariate_normal(means[0], cov, N)\n",
    "X1 = np.random.multivariate_normal(means[1], cov, N)\n",
    "\n",
    "X = np.concatenate((X0, X1), axis = 0)\n",
    "y = np.concatenate((np.ones(N), -1*np.ones(N)))"
   ]
  },
  {
   "cell_type": "code",
   "execution_count": 18,
   "metadata": {},
   "outputs": [],
   "source": [
    "def predict(w, X):\n",
    "    '''\n",
    "    predict label of each row of X, given w \n",
    "    X: a 2-d numpy array of shape (N, d), each row is a datapoint \n",
    "    w: a 1-d numpy array of shape (d)\n",
    "    '''\n",
    "    return np.sign(np.dot(X, w))"
   ]
  },
  {
   "cell_type": "code",
   "execution_count": 51,
   "metadata": {},
   "outputs": [],
   "source": [
    "def perceptron(X, y, w_init):\n",
    "    '''\n",
    "    perform perceptron learning algorithm\n",
    "    X: a 2-d numpy array of shape (N, d), each row is a datapoint \n",
    "    y: a 1-d numpy array of shape (N), label of each row of X. y[i] = 1/-1\n",
    "    w_init: a 1-d numpy array of shape (d)\n",
    "    \n",
    "    '''\n",
    "    w = w_init\n",
    "    while True:\n",
    "        pred = predict(w, Xbar)\n",
    "        # find indexes of misclassified points\n",
    "        mis_idx = np.where(pred != y)[0]\n",
    "        # number of misclassified points\n",
    "        num_mis = len(mis_idx)\n",
    "        if num_mis==0:\n",
    "            return w\n",
    "        # random pick one misclassified point \n",
    "        random_id = np.random.choice(mis_idx, 1)[0]\n",
    "        # update w \n",
    "        w = w + y[random_id]*X[random_id]"
   ]
  },
  {
   "cell_type": "code",
   "execution_count": 52,
   "metadata": {},
   "outputs": [
    {
     "name": "stdout",
     "output_type": "stream",
     "text": [
      "[-2.27128401 -0.75672057 -0.85895755]\n"
     ]
    }
   ],
   "source": [
    "Xbar = np.concatenate((X, np.ones((2*N, 1))), axis=1)\n",
    "w_init = np.random.randn(Xbar.shape[1])\n",
    "w = perceptron(Xbar, y, w_init)\n",
    "print(w)"
   ]
  },
  {
   "cell_type": "code",
   "execution_count": null,
   "metadata": {},
   "outputs": [],
   "source": []
  }
 ],
 "metadata": {
  "kernelspec": {
   "display_name": "Python [conda env:py36]",
   "language": "python",
   "name": "conda-env-py36-py"
  },
  "language_info": {
   "codemirror_mode": {
    "name": "ipython",
    "version": 3
   },
   "file_extension": ".py",
   "mimetype": "text/x-python",
   "name": "python",
   "nbconvert_exporter": "python",
   "pygments_lexer": "ipython3",
   "version": "3.6.3"
  }
 },
 "nbformat": 4,
 "nbformat_minor": 2
}
