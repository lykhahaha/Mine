{
 "cells": [
  {
   "cell_type": "code",
   "execution_count": 1,
   "metadata": {},
   "outputs": [
    {
     "name": "stderr",
     "output_type": "stream",
     "text": [
      "Using cuDNN version 7005 on context None\n",
      "Mapped name None to device cuda: Quadro K2100M (0000:01:00.0)\n",
      "Using Theano backend.\n"
     ]
    }
   ],
   "source": [
    "import warnings\n",
    "def ignore_warn(*args, **kwargs):\n",
    "    pass\n",
    "warnings.warn = ignore_warn\n",
    "import numpy as np\n",
    "import os\n",
    "os.environ[\"THEANO_FLAGS\"] = \"mode=FAST_RUN,device=cuda,floatX=float32\"\n",
    "import theano\n",
    "\n",
    "from keras.datasets import mnist\n",
    "import numpy as np\n",
    "import matplotlib.pyplot as plt\n",
    "from sklearn.linear_model import LogisticRegression\n",
    "from sklearn.model_selection import train_test_split\n",
    "from sklearn.metrics import accuracy_score\n",
    "from sklearn.datasets import fetch_mldata"
   ]
  },
  {
   "cell_type": "markdown",
   "metadata": {},
   "source": [
    "# Softmax sklearn"
   ]
  },
  {
   "cell_type": "code",
   "execution_count": 115,
   "metadata": {},
   "outputs": [],
   "source": [
    "mnist = fetch_mldata('MNIST original')\n",
    "X = mnist.data\n",
    "y = mnist.target\n",
    "\n",
    "(X_train, X_test, y_train, y_test) = train_test_split(X, y, test_size=0.2)\n",
    "# y_train = y_train.astype(int)\n",
    "# y_test = y_test.astype(int)"
   ]
  },
  {
   "cell_type": "code",
   "execution_count": 78,
   "metadata": {},
   "outputs": [
    {
     "data": {
      "text/plain": [
       "LogisticRegression(C=100000.0, class_weight=None, dual=False,\n",
       "          fit_intercept=True, intercept_scaling=1, max_iter=100,\n",
       "          multi_class='multinomial', n_jobs=1, penalty='l2',\n",
       "          random_state=None, solver='lbfgs', tol=0.0001, verbose=0,\n",
       "          warm_start=False)"
      ]
     },
     "execution_count": 78,
     "metadata": {},
     "output_type": "execute_result"
    }
   ],
   "source": [
    "softmax = LogisticRegression(C=1e5, solver='lbfgs', multi_class='multinomial')\n",
    "softmax.fit(X_train, y_train)"
   ]
  },
  {
   "cell_type": "code",
   "execution_count": 79,
   "metadata": {},
   "outputs": [],
   "source": [
    "y_pred = softmax.predict(X_test)"
   ]
  },
  {
   "cell_type": "code",
   "execution_count": 80,
   "metadata": {},
   "outputs": [
    {
     "name": "stdout",
     "output_type": "stream",
     "text": [
      "Accuracy score: 92.09\n"
     ]
    }
   ],
   "source": [
    "print('Accuracy score: {:.4}'.format(100*accuracy_score(y_test, y_pred)))"
   ]
  },
  {
   "cell_type": "code",
   "execution_count": 116,
   "metadata": {},
   "outputs": [
    {
     "name": "stdout",
     "output_type": "stream",
     "text": [
      "Accuracy score: 91.14\n"
     ]
    }
   ],
   "source": [
    "# one-vs-rest logistic regression\n",
    "softmax = LogisticRegression(C=1e5, solver='lbfgs', multi_class='ovr')\n",
    "softmax.fit(X_train, y_train)\n",
    "y_pred = softmax.predict(X_test)\n",
    "print('Accuracy score: {:.4}'.format(100*accuracy_score(y_test, y_pred)))"
   ]
  },
  {
   "cell_type": "markdown",
   "metadata": {},
   "source": [
    "# Softmax"
   ]
  },
  {
   "cell_type": "code",
   "execution_count": 99,
   "metadata": {},
   "outputs": [],
   "source": [
    "def softmax(Z):\n",
    "    \"\"\"\n",
    "    Compute softmax values for each sets of scores in V.\n",
    "    each column of V is a set of scores.    \n",
    "    Z: a numpy array of shape (N, C)\n",
    "    return a numpy array of shape (N, C)\n",
    "    \"\"\"\n",
    "    e_Z = np.exp(Z)\n",
    "    return e_Z/np.sum(e_Z, axis=1, keepdims=True)\n",
    "\n",
    "def softmax_stable(Z):\n",
    "    \"\"\"\n",
    "    Compute softmax values for each sets of scores in Z.\n",
    "    each row of Z is a set of scores.    \n",
    "    \"\"\"\n",
    "    Z-=np.max(Z, axis=1, keepdims=True)\n",
    "    e_Z = np.exp(Z)\n",
    "    return e_Z/np.sum(e_Z, axis=1, keepdims=True)\n",
    "\n",
    "def softmax_loss(X, y, W):\n",
    "    \"\"\"\n",
    "    W: 2d numpy array of shape (d, C), \n",
    "        each column correspoding to one output node\n",
    "    X: 2d numpy array of shape (N, d), each row is one data point\n",
    "    y: 1d numpy array -- label of each row of X \n",
    "    \"\"\"\n",
    "    A=softmax_stable(np.dot(X, W))\n",
    "    enum=range(len(A))\n",
    "    return -np.mean(np.log(A[enum, y]))\n",
    "\n",
    "def softmax_grad(X, y, W):\n",
    "    \"\"\"\n",
    "    W: 2d numpy array of shape (d, C), \n",
    "        each column correspoding to one output node\n",
    "    X: 2d numpy array of shape (N, d), each row is one data point\n",
    "    y: 1d numpy array -- label of each row of X \n",
    "    \"\"\"\n",
    "    A=softmax_stable(np.dot(X, W))\n",
    "    enum=range(len(A))\n",
    "    A[enum, y]-=1\n",
    "    return np.dot(X.T, A)/len(X)\n",
    "\n",
    "def softmax_fit(X, y, W, lr=0.01, nepoches=100, batch_size=10):\n",
    "    W_old = W.copy()\n",
    "    # store history of loss in loss_hist\n",
    "    loss_hist=[softmax_loss(X, y, W)]\n",
    "    ep=0\n",
    "    n_batches=int(len(X)/batch_size)\n",
    "    while ep < nepoches:\n",
    "        mix_idx = np.random.permutation(X.shape[0])\n",
    "        for i in range(n_batches):\n",
    "            batch=mix_idx[batch_size*i:batch_size*(i+1)]\n",
    "            X_batch, y_batch = X[batch], y[batch]\n",
    "            W-=lr*(softmax_grad(X_batch, y_batch, W))\n",
    "        loss_hist.append(softmax_loss(X, y, W))\n",
    "        if np.linalg.norm(W)/W.size < 1e-5:\n",
    "            break\n",
    "        ep+=1\n",
    "        W_old=W.copy()\n",
    "    return W, loss_hist\n",
    "\n",
    "def pred(W, X):\n",
    "    \"\"\"\n",
    "    predict output of each columns of X\n",
    "    Class of each x_i is determined by location of max probability\n",
    "    Note that class are indexed by [0, 1, 2, ...., C-1]\n",
    "    \"\"\"\n",
    "    return np.argmax(softmax_stable(np.dot(X, W)), axis=1)"
   ]
  },
  {
   "cell_type": "code",
   "execution_count": 100,
   "metadata": {},
   "outputs": [],
   "source": [
    "d = 100\n",
    "C = 3 \n",
    "N = 3000\n",
    "X = np.random.randn(N, d)\n",
    "y = np.random.randint(0, C, N)\n",
    "W = np.random.randn(d, C)\n",
    "W, loss_hist = softmax_fit(X, y, W, batch_size = 100, lr= 0.05)"
   ]
  },
  {
   "cell_type": "code",
   "execution_count": 101,
   "metadata": {},
   "outputs": [
    {
     "data": {
      "image/png": "[encoded data removed]",
      "text/plain": [
       "<matplotlib.figure.Figure at 0x1b381443e48>"
      ]
     },
     "metadata": {},
     "output_type": "display_data"
    }
   ],
   "source": [
    "plt.plot(loss_hist)\n",
    "plt.show()"
   ]
  },
  {
   "cell_type": "markdown",
   "metadata": {},
   "source": [
    "## Apply Softmax to MNist"
   ]
  },
  {
   "cell_type": "code",
   "execution_count": 110,
   "metadata": {},
   "outputs": [],
   "source": [
    "W_shape = (X_train.shape[1], len(np.unique(y_train)))\n",
    "W = np.random.normal(0, np.sqrt(2./np.sum(W_shape)), W_shape)\n",
    "W, loss_hist = softmax_fit(X_train, y_train, W, batch_size = 100, lr= 0.05)"
   ]
  },
  {
   "cell_type": "code",
   "execution_count": 114,
   "metadata": {},
   "outputs": [
    {
     "name": "stdout",
     "output_type": "stream",
     "text": [
      "Accuracy score: 85.44\n"
     ]
    }
   ],
   "source": [
    "print('Accuracy score: {:.4}'.format(100*accuracy_score(y_test, pred(W, X_test))))"
   ]
  },
  {
   "cell_type": "code",
   "execution_count": null,
   "metadata": {},
   "outputs": [],
   "source": []
  }
 ],
 "metadata": {
  "kernelspec": {
   "display_name": "Python [conda env:py36]",
   "language": "python",
   "name": "conda-env-py36-py"
  },
  "language_info": {
   "codemirror_mode": {
    "name": "ipython",
    "version": 3
   },
   "file_extension": ".py",
   "mimetype": "text/x-python",
   "name": "python",
   "nbconvert_exporter": "python",
   "pygments_lexer": "ipython3",
   "version": "3.6.3"
  }
 },
 "nbformat": 4,
 "nbformat_minor": 2
}
