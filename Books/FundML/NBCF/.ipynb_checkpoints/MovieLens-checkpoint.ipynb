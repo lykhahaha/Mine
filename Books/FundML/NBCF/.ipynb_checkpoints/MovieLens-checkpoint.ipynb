{
 "cells": [
  {
   "cell_type": "markdown",
   "metadata": {},
   "source": [
    "# Neighborhood-based Collaborative Filtering"
   ]
  },
  {
   "cell_type": "code",
   "execution_count": null,
   "metadata": {},
   "outputs": [],
   "source": [
    "import numpy as np\n",
    "import pandas as pd\n",
    "import datetime\n",
    "from sklearn.metrics.pairwise import cosine_similarity\n",
    "from scipy import sparse"
   ]
  },
  {
   "cell_type": "markdown",
   "metadata": {},
   "source": [
    "# Reading ratings file\n",
    "* `rating_matrix = (user_id, item_id, rating)`"
   ]
  },
  {
   "cell_type": "code",
   "execution_count": 2,
   "metadata": {},
   "outputs": [
    {
     "data": {
      "text/html": [
       "<div>\n",
       "<style scoped>\n",
       "    .dataframe tbody tr th:only-of-type {\n",
       "        vertical-align: middle;\n",
       "    }\n",
       "\n",
       "    .dataframe tbody tr th {\n",
       "        vertical-align: top;\n",
       "    }\n",
       "\n",
       "    .dataframe thead th {\n",
       "        text-align: right;\n",
       "    }\n",
       "</style>\n",
       "<table border=\"1\" class=\"dataframe\">\n",
       "  <thead>\n",
       "    <tr style=\"text-align: right;\">\n",
       "      <th></th>\n",
       "      <th>user_id</th>\n",
       "      <th>item id</th>\n",
       "      <th>rating</th>\n",
       "      <th>timestamp</th>\n",
       "    </tr>\n",
       "  </thead>\n",
       "  <tbody>\n",
       "    <tr>\n",
       "      <th>0</th>\n",
       "      <td>1</td>\n",
       "      <td>1</td>\n",
       "      <td>5</td>\n",
       "      <td>874965758</td>\n",
       "    </tr>\n",
       "    <tr>\n",
       "      <th>1</th>\n",
       "      <td>1</td>\n",
       "      <td>2</td>\n",
       "      <td>3</td>\n",
       "      <td>876893171</td>\n",
       "    </tr>\n",
       "    <tr>\n",
       "      <th>2</th>\n",
       "      <td>1</td>\n",
       "      <td>3</td>\n",
       "      <td>4</td>\n",
       "      <td>878542960</td>\n",
       "    </tr>\n",
       "    <tr>\n",
       "      <th>3</th>\n",
       "      <td>1</td>\n",
       "      <td>4</td>\n",
       "      <td>3</td>\n",
       "      <td>876893119</td>\n",
       "    </tr>\n",
       "    <tr>\n",
       "      <th>4</th>\n",
       "      <td>1</td>\n",
       "      <td>5</td>\n",
       "      <td>3</td>\n",
       "      <td>889751712</td>\n",
       "    </tr>\n",
       "  </tbody>\n",
       "</table>\n",
       "</div>"
      ],
      "text/plain": [
       "   user_id  item id  rating  timestamp\n",
       "0        1        1       5  874965758\n",
       "1        1        2       3  876893171\n",
       "2        1        3       4  878542960\n",
       "3        1        4       3  876893119\n",
       "4        1        5       3  889751712"
      ]
     },
     "execution_count": 2,
     "metadata": {},
     "output_type": "execute_result"
    }
   ],
   "source": [
    "rating_base = pd.read_csv('../Content-Based/ml-100k/ua.base', sep='\\t', names=['user_id', 'item id', 'rating', 'timestamp'])\n",
    "rating_test = pd.read_csv('../Content-Based/ml-100k/ua.test', sep='\\t', names=['user_id', 'item id', 'rating', 'timestamp'])\n",
    "rating_base.head()"
   ]
  },
  {
   "cell_type": "code",
   "execution_count": 3,
   "metadata": {},
   "outputs": [
    {
     "data": {
      "text/html": [
       "<div>\n",
       "<style scoped>\n",
       "    .dataframe tbody tr th:only-of-type {\n",
       "        vertical-align: middle;\n",
       "    }\n",
       "\n",
       "    .dataframe tbody tr th {\n",
       "        vertical-align: top;\n",
       "    }\n",
       "\n",
       "    .dataframe thead th {\n",
       "        text-align: right;\n",
       "    }\n",
       "</style>\n",
       "<table border=\"1\" class=\"dataframe\">\n",
       "  <thead>\n",
       "    <tr style=\"text-align: right;\">\n",
       "      <th></th>\n",
       "      <th>user_id</th>\n",
       "      <th>item id</th>\n",
       "      <th>rating</th>\n",
       "      <th>timestamp</th>\n",
       "    </tr>\n",
       "  </thead>\n",
       "  <tbody>\n",
       "    <tr>\n",
       "      <th>0</th>\n",
       "      <td>1</td>\n",
       "      <td>1</td>\n",
       "      <td>5</td>\n",
       "      <td>1997-09-23 05:02:38</td>\n",
       "    </tr>\n",
       "    <tr>\n",
       "      <th>1</th>\n",
       "      <td>1</td>\n",
       "      <td>2</td>\n",
       "      <td>3</td>\n",
       "      <td>1997-10-15 12:26:11</td>\n",
       "    </tr>\n",
       "    <tr>\n",
       "      <th>2</th>\n",
       "      <td>1</td>\n",
       "      <td>3</td>\n",
       "      <td>4</td>\n",
       "      <td>1997-11-03 14:42:40</td>\n",
       "    </tr>\n",
       "    <tr>\n",
       "      <th>3</th>\n",
       "      <td>1</td>\n",
       "      <td>4</td>\n",
       "      <td>3</td>\n",
       "      <td>1997-10-15 12:25:19</td>\n",
       "    </tr>\n",
       "    <tr>\n",
       "      <th>4</th>\n",
       "      <td>1</td>\n",
       "      <td>5</td>\n",
       "      <td>3</td>\n",
       "      <td>1998-03-13 08:15:12</td>\n",
       "    </tr>\n",
       "  </tbody>\n",
       "</table>\n",
       "</div>"
      ],
      "text/plain": [
       "   user_id  item id  rating            timestamp\n",
       "0        1        1       5  1997-09-23 05:02:38\n",
       "1        1        2       3  1997-10-15 12:26:11\n",
       "2        1        3       4  1997-11-03 14:42:40\n",
       "3        1        4       3  1997-10-15 12:25:19\n",
       "4        1        5       3  1998-03-13 08:15:12"
      ]
     },
     "execution_count": 3,
     "metadata": {},
     "output_type": "execute_result"
    }
   ],
   "source": [
    "rating_base['timestamp'] = rating_base['timestamp'].apply(lambda stamp: datetime.datetime \\\n",
    "                                                          .fromtimestamp(int(stamp)).strftime('%Y-%m-%d %H:%M:%S'))\n",
    "rating_test['timestamp'] = rating_test['timestamp'].apply(lambda stamp: datetime.datetime \\\n",
    "                                                          .fromtimestamp(int(stamp)).strftime('%Y-%m-%d %H:%M:%S'))\n",
    "rating_base.head()"
   ]
  },
  {
   "cell_type": "markdown",
   "metadata": {},
   "source": [
    "* The indices of `user_id` and `item_id` starts from 1, it should be start from 0 to be compatible with indices in Python"
   ]
  },
  {
   "cell_type": "code",
   "execution_count": 4,
   "metadata": {},
   "outputs": [
    {
     "data": {
      "text/plain": [
       "numpy.ndarray"
      ]
     },
     "execution_count": 4,
     "metadata": {},
     "output_type": "execute_result"
    }
   ],
   "source": [
    "rating_train = rating_base.as_matrix()\n",
    "type(rating_train)"
   ]
  },
  {
   "cell_type": "code",
   "execution_count": 5,
   "metadata": {},
   "outputs": [
    {
     "name": "stdout",
     "output_type": "stream",
     "text": [
      "Number of training rate: 90570\n",
      "Number of test rate: 9430\n"
     ]
    }
   ],
   "source": [
    "rating_test = rating_test.as_matrix()\n",
    "print('Number of training rate:', rating_train.shape[0])\n",
    "print('Number of test rate:', rating_test.shape[0])"
   ]
  },
  {
   "cell_type": "code",
   "execution_count": 6,
   "metadata": {},
   "outputs": [],
   "source": [
    "rating_train[:, :2] -= 1\n",
    "rating_test[:, :2] -= 1"
   ]
  },
  {
   "cell_type": "markdown",
   "metadata": {},
   "source": [
    "# User-User Collaberative Filtering"
   ]
  },
  {
   "cell_type": "code",
   "execution_count": 8,
   "metadata": {},
   "outputs": [],
   "source": [
    "class UUCF():\n",
    "    def __init__(self, rating_matrix, k, sim_func = cosine_similarity):\n",
    "        self.rating_matrix = rating_matrix\n",
    "        self.k = k # Number of Neighborhood\n",
    "        self.sim_func = sim_func # similarity function, default: cosine_similarity\n",
    "        self.n_users = np.max(rating_matrix[:, 0]) + 1# Number of users, +1 because indices starts from 0\n",
    "        self.n_items = np.max(rating_matrix[:, 1]) + 1# Number of items\n",
    "    \n",
    "    def fit(self):\n",
    "        \"\"\"Calculate the mean of users ratings, users similarity matrix and sparse the utility matrix based on the original rating_matrix\"\"\"\n",
    "        self.mu = np.zeros((self.n_users))#user's mean ratings\n",
    "        self.rating_matrix_bar = self.rating_matrix.copy()\n",
    "        for user in range(self.n_users):\n",
    "            ids = np.where(self.rating_matrix_bar[:, 0] == user)[0]#Find row indices has \"user_id\"\n",
    "            item_ids = self.rating_matrix_bar[ids.tolist(), 1]\n",
    "            ratings = self.rating_matrix_bar[ids.tolist(), 2]\n",
    "            self.mu[user] = np.mean(ratings) if ids.size > 0 else 0\n",
    "            self.rating_matrix_bar[ids.tolist(), 2] = ratings - self.mu[user]\n",
    "        # From rating matrix to sparse matrix\n",
    "        self.rating_matrix_bar = sparse.coo_matrix((self.rating_matrix_bar[:, 2].astype('float'), \\\n",
    "                                                (self.rating_matrix_bar[:, 1], self.rating_matrix_bar[:, 0])), \\\n",
    "                                               shape=(self.n_items, self.n_users)).tocsr()\n",
    "        self.user_sim = cosine_similarity(self.rating_matrix_bar.T)\n",
    "    \n",
    "    def pred(self, user_id, item_id):\n",
    "        \"\"\"predict rating of user id and item id based on the mean of users ratings, users sim matrix\"\"\"\n",
    "        ids = np.where(self.rating_matrix[:, 1] == item_id)[0]#Find row indices has \"item_id\"\n",
    "        users_rated_item_id = self.rating_matrix[ids.tolist(), 0]# All users who rated item_id\n",
    "        sim = self.user_sim[user_id, users_rated_item_id.tolist()]# Similarity of user_id and users who rated item_id\n",
    "        most_sim_users = np.argsort(sim)[-self.k:]# most k similar users \n",
    "        sim_most_sim_users = sim[most_sim_users.tolist()]# and the corresponding similarities\n",
    "        rating_most_sim_users = self.rating_matrix_bar[item_id, users_rated_item_id[most_sim_users.tolist()].tolist()].toarray().reshape(sim_most_sim_users.shape)# the corresponding ratings \n",
    "        eps = 1e-8 # avoid to divide to 0\n",
    "        return np.sum(sim_most_sim_users * rating_most_sim_users)/(np.sum(np.abs(sim_most_sim_users)) + eps) + self.mu[user_id]"
   ]
  },
  {
   "cell_type": "code",
   "execution_count": 136,
   "metadata": {},
   "outputs": [],
   "source": [
    "recommender = UUCF(rating_train, k=40)\n",
    "recommender.fit()"
   ]
  },
  {
   "cell_type": "code",
   "execution_count": 138,
   "metadata": {},
   "outputs": [
    {
     "name": "stdout",
     "output_type": "stream",
     "text": [
      "RMSE: 0.9580454278556474\n"
     ]
    }
   ],
   "source": [
    "tot = 0\n",
    "for i in range(rating_test.shape[0]):\n",
    "    err = rating_test[i, 2] - recommender.pred(rating_test[i, 0], rating_test[i, 1])\n",
    "    tot += (err**2)\n",
    "print('RMSE:', np.sqrt(tot/len(rating_test)))"
   ]
  },
  {
   "cell_type": "markdown",
   "metadata": {},
   "source": [
    "# Item-Item Collaborative Filtering\n",
    "* We just need to switch the role of user and item, don't need to modify the UUCF class"
   ]
  },
  {
   "cell_type": "code",
   "execution_count": 14,
   "metadata": {},
   "outputs": [],
   "source": [
    "rating_train = rating_train[:, [1, 0, 2]]\n",
    "rating_test = rating_test[:, [1, 0, 2]]"
   ]
  },
  {
   "cell_type": "code",
   "execution_count": 15,
   "metadata": {},
   "outputs": [],
   "source": [
    "recommender = UUCF(rating_train, k=40)\n",
    "recommender.fit()"
   ]
  },
  {
   "cell_type": "code",
   "execution_count": 16,
   "metadata": {},
   "outputs": [
    {
     "name": "stdout",
     "output_type": "stream",
     "text": [
      "RMSE: 0.935935038919037\n"
     ]
    }
   ],
   "source": [
    "tot = 0\n",
    "for i in range(rating_test.shape[0]):\n",
    "    err = rating_test[i, 2] - recommender.pred(rating_test[i, 0], rating_test[i, 1])\n",
    "    tot += (err**2)\n",
    "print('RMSE:', np.sqrt(tot/len(rating_test)))"
   ]
  },
  {
   "cell_type": "code",
   "execution_count": null,
   "metadata": {},
   "outputs": [],
   "source": []
  }
 ],
 "metadata": {
  "kernelspec": {
   "display_name": "Python [conda env:py36]",
   "language": "python",
   "name": "conda-env-py36-py"
  },
  "language_info": {
   "codemirror_mode": {
    "name": "ipython",
    "version": 3
   },
   "file_extension": ".py",
   "mimetype": "text/x-python",
   "name": "python",
   "nbconvert_exporter": "python",
   "pygments_lexer": "ipython3",
   "version": "3.6.3"
  }
 },
 "nbformat": 4,
 "nbformat_minor": 2
}
