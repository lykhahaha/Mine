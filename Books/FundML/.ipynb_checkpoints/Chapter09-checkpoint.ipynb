{
 "cells": [
  {
   "cell_type": "code",
   "execution_count": 51,
   "metadata": {},
   "outputs": [],
   "source": [
    "import numpy as np\n",
    "from time import time\n",
    "from scipy.spatial.distance import cdist\n",
    "from sklearn.metrics.pairwise import pairwise_distances"
   ]
  },
  {
   "cell_type": "code",
   "execution_count": 4,
   "metadata": {},
   "outputs": [],
   "source": [
    "d = 1000\n",
    "N = 1000\n",
    "M = 100"
   ]
  },
  {
   "cell_type": "markdown",
   "metadata": {},
   "source": [
    "## Find the distance between Matrix of new data points Z and Matrix X"
   ]
  },
  {
   "cell_type": "code",
   "execution_count": 5,
   "metadata": {},
   "outputs": [],
   "source": [
    "X = np.random.randn(N, d)\n",
    "Z = np.random.randn(M, d)"
   ]
  },
  {
   "cell_type": "code",
   "execution_count": 38,
   "metadata": {},
   "outputs": [],
   "source": [
    "X2 = np.sum(X*X, axis=1, keepdims=True) # square of l2 norm of each ROW of X\n",
    "Z2 = np.sum(Z*Z, axis=1, keepdims=True) # square of l2 norm of each ROW of Z"
   ]
  },
  {
   "cell_type": "markdown",
   "metadata": {},
   "source": [
    "* Distance between Matrix Z and Matrix X should be in (M, N)\n",
    "* `Z2` in (M, 1), `X2.reshape(1, -1)` in (1, N), so `Z2 + X2.reshape(1, -1)` in (M, N)\n",
    "* `np.dot(Z,X.T)` in (M, N)"
   ]
  },
  {
   "cell_type": "code",
   "execution_count": 40,
   "metadata": {},
   "outputs": [
    {
     "name": "stdout",
     "output_type": "stream",
     "text": [
      "0.20107579231262207\n"
     ]
    }
   ],
   "source": [
    "t1 = time()\n",
    "Z2 + X2.reshape(1, -1) - 2*np.dot(Z,X.T)\n",
    "t2 = time()\n",
    "print(t2 - t1)"
   ]
  },
  {
   "cell_type": "code",
   "execution_count": 46,
   "metadata": {},
   "outputs": [
    {
     "name": "stdout",
     "output_type": "stream",
     "text": [
      "0.10994768142700195\n"
     ]
    }
   ],
   "source": [
    "t1 = time()\n",
    "cdist(Z, X).shape\n",
    "t2 = time()\n",
    "print(t2 - t1)"
   ]
  },
  {
   "cell_type": "code",
   "execution_count": 53,
   "metadata": {},
   "outputs": [
    {
     "name": "stdout",
     "output_type": "stream",
     "text": [
      "0.005983114242553711\n"
     ]
    }
   ],
   "source": [
    "t1 = time()\n",
    "pairwise_distances(Z, X).shape\n",
    "t2 = time()\n",
    "print(t2 - t1)"
   ]
  },
  {
   "cell_type": "markdown",
   "metadata": {},
   "source": [
    "* So **pairwise_distances** better than **cdist** which is better than **Vectorization**"
   ]
  },
  {
   "cell_type": "markdown",
   "metadata": {},
   "source": [
    "## KNN on Iris"
   ]
  },
  {
   "cell_type": "code",
   "execution_count": 1,
   "metadata": {},
   "outputs": [],
   "source": [
    "import numpy as np\n",
    "from sklearn import neighbors, datasets\n",
    "from sklearn.model_selection import train_test_split\n",
    "from sklearn.metrics import accuracy_score"
   ]
  },
  {
   "cell_type": "markdown",
   "metadata": {},
   "source": [
    "* Load Iris dataset and choose randomly 130 data points to test set and others are in training set"
   ]
  },
  {
   "cell_type": "code",
   "execution_count": 2,
   "metadata": {},
   "outputs": [
    {
     "name": "stdout",
     "output_type": "stream",
     "text": [
      "Labels: [0 1 2]\n"
     ]
    }
   ],
   "source": [
    "np.random.seed(123)\n",
    "iris = datasets.load_iris()\n",
    "iris_X = iris.data\n",
    "iris_y = iris.target\n",
    "print('Labels:', np.unique(iris_y))"
   ]
  },
  {
   "cell_type": "code",
   "execution_count": 5,
   "metadata": {},
   "outputs": [
    {
     "name": "stdout",
     "output_type": "stream",
     "text": [
      "Train size: 20 , test size: 130\n"
     ]
    }
   ],
   "source": [
    "X_train, X_test, y_train, y_test = train_test_split(iris_X, iris_y, test_size = 130)\n",
    "print('Train size:' , X_train.shape[0], ', test size:' , X_test.shape[0])"
   ]
  },
  {
   "cell_type": "markdown",
   "metadata": {},
   "source": [
    "### Test on 1NN"
   ]
  },
  {
   "cell_type": "code",
   "execution_count": 11,
   "metadata": {},
   "outputs": [
    {
     "name": "stdout",
     "output_type": "stream",
     "text": [
      "Accuracy for 1NN: 0.97\n"
     ]
    }
   ],
   "source": [
    "model = neighbors.KNeighborsClassifier(n_neighbors=1, p=2)\n",
    "model.fit(X_train, y_train)\n",
    "y_pred = model.predict(X_test)\n",
    "print('Accuracy for 1NN: %.2f' % accuracy_score(y_test, y_pred))"
   ]
  },
  {
   "cell_type": "markdown",
   "metadata": {},
   "source": [
    "* As mentioned in the doc, overfitting is very commin in KNN, so to avoid it, increase number of neighbors"
   ]
  },
  {
   "cell_type": "code",
   "execution_count": 14,
   "metadata": {},
   "outputs": [
    {
     "name": "stdout",
     "output_type": "stream",
     "text": [
      "Accuracy for 7NN: 0.90\n"
     ]
    }
   ],
   "source": [
    "model = neighbors.KNeighborsClassifier(n_neighbors=7, p=2)\n",
    "model.fit(X_train, y_train)\n",
    "y_pred = model.predict(X_test)\n",
    "print('Accuracy for 7NN: %.2f' % accuracy_score(y_test, y_pred))"
   ]
  },
  {
   "cell_type": "markdown",
   "metadata": {},
   "source": [
    "## Weight the neighbor"
   ]
  },
  {
   "cell_type": "markdown",
   "metadata": {},
   "source": [
    "* In major voting, weight of k neighbors is same, but we should weight neighbors based on the distance to new data point\n",
    "* If any neighbors is near new data point, the weight is greater than the neighbors is far from this point\n",
    "* The easiest weight is inverse of distance"
   ]
  },
  {
   "cell_type": "code",
   "execution_count": 16,
   "metadata": {},
   "outputs": [
    {
     "name": "stdout",
     "output_type": "stream",
     "text": [
      "Accuracy for 7NN with weight of (1/distance): 0.93\n"
     ]
    }
   ],
   "source": [
    "model = neighbors.KNeighborsClassifier(n_neighbors=7, p=2, weights='distance')\n",
    "model.fit(X_train, y_train)\n",
    "y_pred = model.predict(X_test)\n",
    "print('Accuracy for 7NN with weight of (1/distance): %.2f' % accuracy_score(y_test, y_pred))"
   ]
  },
  {
   "cell_type": "markdown",
   "metadata": {},
   "source": [
    "* Other than 2 method to weight the neighbors: **weights = 'uniform'** and **weights = 'distance'**, we can also customize the weight as long as it follows condition that the less distance $ \\bf{x_i} $ to new data point, the larger the weight is\n",
    "* The popular weight:\n",
    "$$ w_i = exp( \\frac{-\\| \\bf{z} - \\bf{x_i} \\|_2^{2}}{\\sigma^2} ) $$\n",
    "in which $ \\sigma $ is hyper-parameter"
   ]
  },
  {
   "cell_type": "code",
   "execution_count": 17,
   "metadata": {},
   "outputs": [
    {
     "name": "stdout",
     "output_type": "stream",
     "text": [
      "Accuracy for 7NN with customized weight: 0.96\n"
     ]
    }
   ],
   "source": [
    "def my_weight(distances):\n",
    "    sigma2 = .4\n",
    "    return np.exp(-distances**2/sigma2)\n",
    "\n",
    "model = neighbors.KNeighborsClassifier(n_neighbors=7, p=2, weights=my_weight)\n",
    "model.fit(X_train, y_train)\n",
    "y_pred = model.predict(X_test)\n",
    "print('Accuracy for 7NN with customized weight: %.2f' % accuracy_score(y_test, y_pred))"
   ]
  },
  {
   "cell_type": "markdown",
   "metadata": {},
   "source": [
    "* We can tune the parameter in the problem by **Cross-validation**"
   ]
  },
  {
   "cell_type": "code",
   "execution_count": null,
   "metadata": {},
   "outputs": [],
   "source": []
  }
 ],
 "metadata": {
  "kernelspec": {
   "display_name": "Python [conda env:py36]",
   "language": "python",
   "name": "conda-env-py36-py"
  },
  "language_info": {
   "codemirror_mode": {
    "name": "ipython",
    "version": 3
   },
   "file_extension": ".py",
   "mimetype": "text/x-python",
   "name": "python",
   "nbconvert_exporter": "python",
   "pygments_lexer": "ipython3",
   "version": "3.6.3"
  }
 },
 "nbformat": 4,
 "nbformat_minor": 2
}
