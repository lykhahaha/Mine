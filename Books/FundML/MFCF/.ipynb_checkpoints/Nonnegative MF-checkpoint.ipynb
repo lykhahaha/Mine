{
 "cells": [
  {
   "cell_type": "code",
   "execution_count": 1,
   "metadata": {},
   "outputs": [],
   "source": [
    "import numpy as np\n",
    "import pandas as pd\n",
    "import datetime\n",
    "from sklearn.metrics.pairwise import cosine_similarity\n",
    "from scipy import sparse\n",
    "from sklearn.model_selection import train_test_split"
   ]
  },
  {
   "cell_type": "code",
   "execution_count": null,
   "metadata": {},
   "outputs": [],
   "source": [
    "class NMF():\n",
    "    def __init__(self, rating_matrix, K, lam=.02, X_init = None, W_init = None, lr=.005, n_epoches=20, print_every=2):\n",
    "        self.rating_matrix=rating_matrix\n",
    "        self.K = K # number of features\n",
    "        self.lam=lam\n",
    "        self.lr=lr\n",
    "        self.n_epoches=n_epoches\n",
    "        self.print_every=print_every\n",
    "        self.users = rating_matrix[:, 0]\n",
    "        self.items = rating_matrix[:, 1]\n",
    "        self.ratings = rating_matrix[:, 2]\n",
    "        self.n_users = int(np.max(self.users)) + 1# Number of users, +1 because indices starts from 0\n",
    "        self.n_items = int(np.max(self.items)) + 1# Number of items\n",
    "        self.n_ratings = len(rating_matrix) # number of ratings\n",
    "        self.X = .1*np.random.randn(self.n_items, K) if X_init is None else X_init\n",
    "        self.b = np.zeros(self.n_items)\n",
    "        self.W = .1*np.random.randn(self.n_users, K) if W_init is None else W_init\n",
    "        self.d = np.zeros(self.n_users)\n",
    "        self.mu = np.mean(self.ratings)\n",
    "    \n",
    "    "
   ]
  }
 ],
 "metadata": {
  "kernelspec": {
   "display_name": "Python [conda env:py36]",
   "language": "python",
   "name": "conda-env-py36-py"
  },
  "language_info": {
   "codemirror_mode": {
    "name": "ipython",
    "version": 3
   },
   "file_extension": ".py",
   "mimetype": "text/x-python",
   "name": "python",
   "nbconvert_exporter": "python",
   "pygments_lexer": "ipython3",
   "version": "3.6.3"
  }
 },
 "nbformat": 4,
 "nbformat_minor": 2
}
