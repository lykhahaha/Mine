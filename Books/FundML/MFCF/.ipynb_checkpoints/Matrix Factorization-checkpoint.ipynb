{
 "cells": [
  {
   "cell_type": "code",
   "execution_count": 10,
   "metadata": {},
   "outputs": [],
   "source": [
    "import numpy as np\n",
    "import pandas as pd\n",
    "import datetime\n",
    "from sklearn.metrics.pairwise import cosine_similarity\n",
    "from scipy import sparse\n",
    "from sklearn.model_selection import train_test_split"
   ]
  },
  {
   "cell_type": "code",
   "execution_count": 2,
   "metadata": {},
   "outputs": [
    {
     "data": {
      "text/html": [
       "<div>\n",
       "<style scoped>\n",
       "    .dataframe tbody tr th:only-of-type {\n",
       "        vertical-align: middle;\n",
       "    }\n",
       "\n",
       "    .dataframe tbody tr th {\n",
       "        vertical-align: top;\n",
       "    }\n",
       "\n",
       "    .dataframe thead th {\n",
       "        text-align: right;\n",
       "    }\n",
       "</style>\n",
       "<table border=\"1\" class=\"dataframe\">\n",
       "  <thead>\n",
       "    <tr style=\"text-align: right;\">\n",
       "      <th></th>\n",
       "      <th>user_id</th>\n",
       "      <th>item_id</th>\n",
       "      <th>rating</th>\n",
       "    </tr>\n",
       "  </thead>\n",
       "  <tbody>\n",
       "    <tr>\n",
       "      <th>0</th>\n",
       "      <td>0</td>\n",
       "      <td>0</td>\n",
       "      <td>5.0</td>\n",
       "    </tr>\n",
       "    <tr>\n",
       "      <th>1</th>\n",
       "      <td>0</td>\n",
       "      <td>1</td>\n",
       "      <td>4.0</td>\n",
       "    </tr>\n",
       "    <tr>\n",
       "      <th>2</th>\n",
       "      <td>0</td>\n",
       "      <td>3</td>\n",
       "      <td>2.0</td>\n",
       "    </tr>\n",
       "    <tr>\n",
       "      <th>3</th>\n",
       "      <td>0</td>\n",
       "      <td>4</td>\n",
       "      <td>2.0</td>\n",
       "    </tr>\n",
       "    <tr>\n",
       "      <th>4</th>\n",
       "      <td>1</td>\n",
       "      <td>0</td>\n",
       "      <td>5.0</td>\n",
       "    </tr>\n",
       "  </tbody>\n",
       "</table>\n",
       "</div>"
      ],
      "text/plain": [
       "   user_id  item_id  rating\n",
       "0        0        0     5.0\n",
       "1        0        1     4.0\n",
       "2        0        3     2.0\n",
       "3        0        4     2.0\n",
       "4        1        0     5.0"
      ]
     },
     "execution_count": 2,
     "metadata": {},
     "output_type": "execute_result"
    }
   ],
   "source": [
    "ratings = pd.read_csv('ex.dat', sep=' ', names=['user_id', 'item_id', 'rating'], encoding='latin-1')\n",
    "ratings.head()"
   ]
  },
  {
   "cell_type": "code",
   "execution_count": 3,
   "metadata": {},
   "outputs": [
    {
     "data": {
      "text/plain": [
       "(22, 3)"
      ]
     },
     "execution_count": 3,
     "metadata": {},
     "output_type": "execute_result"
    }
   ],
   "source": [
    "rating_train = ratings.as_matrix()\n",
    "rating_train.shape"
   ]
  },
  {
   "cell_type": "code",
   "execution_count": 2,
   "metadata": {},
   "outputs": [],
   "source": [
    "class MF():\n",
    "    def __init__(self, rating_matrix, K, lam = 0.01, X_init = None, b_init = None, W_init = None, d_init = None, lr = 0.5, max_iter = 1000, print_every = 100, user_based = True):\n",
    "        self.rating_matrix = rating_matrix\n",
    "        self.K = K\n",
    "        self.lam = lam\n",
    "        self.lr = lr\n",
    "        self.max_iter = max_iter\n",
    "        self.print_every = print_every\n",
    "        self.user_based = user_based # Check to use User-User CF\n",
    "        self.n_users = int(np.max(rating_matrix[:, 0])) + 1# Number of users, +1 because indices starts from 0\n",
    "        self.n_items = int(np.max(rating_matrix[:, 1])) + 1# Number of items\n",
    "        self.X = np.random.randn(K, self.n_items) if X_init is None else X_init\n",
    "        self.b = np.random.randn(1, self.n_items) if b_init is None else b_init\n",
    "        self.W = np.random.randn(K, self.n_users) if W_init is None else W_init\n",
    "        self.d = np.random.randn(1, self.n_users) if d_init is None else d_init\n",
    "        self.n_ratings = len(rating_matrix) # number of ratings\n",
    "        self.normalized_rm = self.rating_matrix.copy() # Normalized Rating Matrix\n",
    "        \n",
    "    def normalize_matrix(self):\n",
    "        if self.user_based:\n",
    "            user_col = 0\n",
    "            item_col = 1\n",
    "            n_objects = self.n_users\n",
    "        else:\n",
    "            user_col = 1\n",
    "            item_col = 0\n",
    "            n_objects = self.n_items\n",
    "        self.mu = np.zeros((n_objects))\n",
    "        #objects = self.rating_matrix[:, user_col]\n",
    "        for obj in range(n_objects):\n",
    "            ids = np.where(self.rating_matrix[:, user_col] == obj)[0]\n",
    "            item_ids = self.normalized_rm[ids.tolist(), item_col]\n",
    "            ratings = self.normalized_rm[ids.tolist(), 2]\n",
    "            self.mu[obj] = np.mean(ratings) if ids.size > 0 else 0\n",
    "            self.normalized_rm[ids.tolist(), 2] = ratings - self.mu[obj]\n",
    "        \n",
    "    def get_items_rated_by_user(self, user_id):\n",
    "        \"\"\"\n",
    "        return (item_ids, ratings)\n",
    "        \"\"\"\n",
    "        ids = np.where(self.normalized_rm[:, 0] == user_id)[0]\n",
    "        item_ids, ratings = self.normalized_rm[ids.tolist(), 1], self.normalized_rm[ids.tolist(), 2]\n",
    "        return item_ids.astype('int'), ratings\n",
    "    \n",
    "    def get_users_rate_items(self, item_id):\n",
    "        \"\"\"\n",
    "        return (user_ids, ratings)\n",
    "        \"\"\"\n",
    "        ids = np.where(self.normalized_rm[:, 1] == item_id)[0]\n",
    "        user_ids, ratings = self.normalized_rm[ids.tolist(), 0], self.normalized_rm[ids.tolist(), 2]\n",
    "        return user_ids.astype('int'), ratings\n",
    "    \n",
    "    def update_W(self):\n",
    "        for user in range(self.n_users):\n",
    "            item_ids, ratings = self.get_items_rated_by_user(user)\n",
    "            X_hat = self.X[:, item_ids.tolist()]# X_hat = (19 item feature, #item user rated)\n",
    "            grad_W_hat = np.dot(X_hat, np.dot(X_hat.T, self.W[:, user]) - ratings)/self.n_ratings + self.lam * self.W[:, user]\n",
    "            grad_d = np.sum(np.dot(X_hat.T, self.W[:, user]) - ratings) / self.n_ratings\n",
    "            \n",
    "            self.W[:, user] -= self.lr * grad_W_hat\n",
    "            self.d[0, user] -= self.lr * grad_d\n",
    "    \n",
    "    def update_X(self):\n",
    "        for item in range(self.n_items):\n",
    "            user_ids, ratings = self.get_users_rate_items(item)\n",
    "            W_hat = self.W[:, user_ids.tolist()]\n",
    "            grad_X_hat = np.dot(W_hat, np.dot(W_hat.T, self.X[:, item]) - ratings)/self.n_ratings + self.lam * self.X[:, item]\n",
    "            grad_b = np.sum(np.dot(W_hat.T, self.X[:, item]) - ratings)/self.n_ratings\n",
    "            \n",
    "            self.X[:, item] -= self.lr * grad_X_hat\n",
    "            self.b[0, item] -= self.lr * grad_b\n",
    "            \n",
    "    \n",
    "    def fit(self):\n",
    "        self.normalize_matrix()\n",
    "        for it in range(self.max_iter):\n",
    "            self.update_X()\n",
    "            self.update_W()\n",
    "            if (it + 1) % self.print_every == 0:\n",
    "                rmse = self.evaluate_RMSE(self.rating_matrix)\n",
    "                print('Iteration', it+1, ', RMSE =', rmse)\n",
    "                \n",
    "    def pred(self, user_id, item_id):\n",
    "        if self.user_based:\n",
    "            bias = self.mu[user_id]\n",
    "        else:\n",
    "            bias = self.mu[item_id]\n",
    "        \n",
    "        pred = np.dot(self.X[:, item_id].T, self.W[:, user_id]) + bias\n",
    "        return pred\n",
    "    \n",
    "    def evaluate_RMSE(self, rating_matrix):\n",
    "        tot = cnt = 0\n",
    "        for user in range(self.n_users):\n",
    "            item_ids, ratings = self.get_items_rated_by_user(user)\n",
    "            err = np.dot(self.X[:, item_ids.tolist()].T, self.W[:, user]) - ratings\n",
    "            tot += np.sum(err*err)\n",
    "            cnt += len(ratings)\n",
    "        return np.sqrt(tot/cnt)"
   ]
  },
  {
   "cell_type": "code",
   "execution_count": 31,
   "metadata": {},
   "outputs": [
    {
     "name": "stdout",
     "output_type": "stream",
     "text": [
      "Iteration 100 , RMSE = 0.30307051198499735\n",
      "Iteration 200 , RMSE = 0.2889586795760839\n",
      "Iteration 300 , RMSE = 0.2715959024740611\n",
      "Iteration 400 , RMSE = 0.2623427274969711\n",
      "Iteration 500 , RMSE = 0.2580610915351459\n",
      "Iteration 600 , RMSE = 0.2559850480795861\n",
      "Iteration 700 , RMSE = 0.25494697815565004\n",
      "Iteration 800 , RMSE = 0.2544237296733491\n",
      "Iteration 900 , RMSE = 0.25416034726906106\n",
      "Iteration 1000 , RMSE = 0.25402821969024614\n"
     ]
    }
   ],
   "source": [
    "recommender = MF(rating_train, K = 2, max_iter = 1000)\n",
    "recommender.fit()"
   ]
  },
  {
   "cell_type": "code",
   "execution_count": 32,
   "metadata": {},
   "outputs": [
    {
     "data": {
      "text/html": [
       "<div>\n",
       "<style scoped>\n",
       "    .dataframe tbody tr th:only-of-type {\n",
       "        vertical-align: middle;\n",
       "    }\n",
       "\n",
       "    .dataframe tbody tr th {\n",
       "        vertical-align: top;\n",
       "    }\n",
       "\n",
       "    .dataframe thead th {\n",
       "        text-align: right;\n",
       "    }\n",
       "</style>\n",
       "<table border=\"1\" class=\"dataframe\">\n",
       "  <thead>\n",
       "    <tr style=\"text-align: right;\">\n",
       "      <th></th>\n",
       "      <th>user_id</th>\n",
       "      <th>item id</th>\n",
       "      <th>rating</th>\n",
       "      <th>timestamp</th>\n",
       "    </tr>\n",
       "  </thead>\n",
       "  <tbody>\n",
       "    <tr>\n",
       "      <th>0</th>\n",
       "      <td>1</td>\n",
       "      <td>1</td>\n",
       "      <td>5</td>\n",
       "      <td>874965758</td>\n",
       "    </tr>\n",
       "    <tr>\n",
       "      <th>1</th>\n",
       "      <td>1</td>\n",
       "      <td>2</td>\n",
       "      <td>3</td>\n",
       "      <td>876893171</td>\n",
       "    </tr>\n",
       "    <tr>\n",
       "      <th>2</th>\n",
       "      <td>1</td>\n",
       "      <td>3</td>\n",
       "      <td>4</td>\n",
       "      <td>878542960</td>\n",
       "    </tr>\n",
       "    <tr>\n",
       "      <th>3</th>\n",
       "      <td>1</td>\n",
       "      <td>4</td>\n",
       "      <td>3</td>\n",
       "      <td>876893119</td>\n",
       "    </tr>\n",
       "    <tr>\n",
       "      <th>4</th>\n",
       "      <td>1</td>\n",
       "      <td>5</td>\n",
       "      <td>3</td>\n",
       "      <td>889751712</td>\n",
       "    </tr>\n",
       "  </tbody>\n",
       "</table>\n",
       "</div>"
      ],
      "text/plain": [
       "   user_id  item id  rating  timestamp\n",
       "0        1        1       5  874965758\n",
       "1        1        2       3  876893171\n",
       "2        1        3       4  878542960\n",
       "3        1        4       3  876893119\n",
       "4        1        5       3  889751712"
      ]
     },
     "execution_count": 32,
     "metadata": {},
     "output_type": "execute_result"
    }
   ],
   "source": [
    "rating_base = pd.read_csv('../Content-Based/ml-100k/ua.base', sep='\\t', names=['user_id', 'item id', 'rating', 'timestamp'])\n",
    "rating_test = pd.read_csv('../Content-Based/ml-100k/ua.test', sep='\\t', names=['user_id', 'item id', 'rating', 'timestamp'])\n",
    "rating_base.head()"
   ]
  },
  {
   "cell_type": "code",
   "execution_count": 34,
   "metadata": {},
   "outputs": [],
   "source": [
    "rating_train = rating_base.as_matrix()\n",
    "rating_test = rating_test.as_matrix()"
   ]
  },
  {
   "cell_type": "code",
   "execution_count": 35,
   "metadata": {},
   "outputs": [],
   "source": [
    "rating_train[:, :2] -= 1\n",
    "rating_test[:, :2] -= 1"
   ]
  },
  {
   "cell_type": "code",
   "execution_count": 41,
   "metadata": {},
   "outputs": [
    {
     "name": "stdout",
     "output_type": "stream",
     "text": [
      "Iteration 10 , RMSE = 0.9607613971679458\n",
      "Iteration 20 , RMSE = 0.7302259468587453\n",
      "Iteration 30 , RMSE = 0.7189417625560716\n",
      "Iteration 40 , RMSE = 0.7185585123320061\n",
      "Iteration 50 , RMSE = 0.7185680437745467\n",
      "Iteration 60 , RMSE = 0.7185743335795952\n",
      "Iteration 70 , RMSE = 0.7185759088674011\n",
      "Iteration 80 , RMSE = 0.7185762645776752\n",
      "Iteration 90 , RMSE = 0.7185763432528363\n",
      "Iteration 100 , RMSE = 0.7185763605560356\n"
     ]
    }
   ],
   "source": [
    "recommender = MF(rating_train, K = 10, lam = .1, lr = 0.75, max_iter = 100, print_every=10, user_based = 1)\n",
    "recommender.fit()"
   ]
  },
  {
   "cell_type": "code",
   "execution_count": 43,
   "metadata": {},
   "outputs": [
    {
     "name": "stdout",
     "output_type": "stream",
     "text": [
      "Iteration 10 , RMSE = 0.9595401572117129\n",
      "Iteration 20 , RMSE = 0.7033901893529949\n",
      "Iteration 30 , RMSE = 0.6900557612122504\n",
      "Iteration 40 , RMSE = 0.6894858566073244\n",
      "Iteration 50 , RMSE = 0.689467255575943\n",
      "Iteration 60 , RMSE = 0.6894681124829036\n",
      "Iteration 70 , RMSE = 0.6894685646420046\n",
      "Iteration 80 , RMSE = 0.6894686846013035\n",
      "Iteration 90 , RMSE = 0.6894687136296923\n",
      "Iteration 100 , RMSE = 0.6894687204705209\n"
     ]
    }
   ],
   "source": [
    "recommender = MF(rating_train, K = 10, lam = .1, lr = 0.75, max_iter = 100, print_every=10, user_based = 0)\n",
    "recommender.fit()"
   ]
  },
  {
   "cell_type": "code",
   "execution_count": 9,
   "metadata": {},
   "outputs": [
    {
     "name": "stderr",
     "output_type": "stream",
     "text": [
      "D:\\Anaconda\\envs\\py36\\lib\\site-packages\\ipykernel\\__main__.py:1: ParserWarning: Falling back to the 'python' engine because the 'c' engine does not support regex separators (separators > 1 char and different from '\\s+' are interpreted as regex); you can avoid this warning by specifying engine='python'.\n",
      "  if __name__ == '__main__':\n"
     ]
    },
    {
     "data": {
      "text/html": [
       "<div>\n",
       "<style scoped>\n",
       "    .dataframe tbody tr th:only-of-type {\n",
       "        vertical-align: middle;\n",
       "    }\n",
       "\n",
       "    .dataframe tbody tr th {\n",
       "        vertical-align: top;\n",
       "    }\n",
       "\n",
       "    .dataframe thead th {\n",
       "        text-align: right;\n",
       "    }\n",
       "</style>\n",
       "<table border=\"1\" class=\"dataframe\">\n",
       "  <thead>\n",
       "    <tr style=\"text-align: right;\">\n",
       "      <th></th>\n",
       "      <th>user_id</th>\n",
       "      <th>item id</th>\n",
       "      <th>rating</th>\n",
       "      <th>timestamp</th>\n",
       "    </tr>\n",
       "  </thead>\n",
       "  <tbody>\n",
       "    <tr>\n",
       "      <th>0</th>\n",
       "      <td>1</td>\n",
       "      <td>1193</td>\n",
       "      <td>5</td>\n",
       "      <td>978300760</td>\n",
       "    </tr>\n",
       "    <tr>\n",
       "      <th>1</th>\n",
       "      <td>1</td>\n",
       "      <td>661</td>\n",
       "      <td>3</td>\n",
       "      <td>978302109</td>\n",
       "    </tr>\n",
       "    <tr>\n",
       "      <th>2</th>\n",
       "      <td>1</td>\n",
       "      <td>914</td>\n",
       "      <td>3</td>\n",
       "      <td>978301968</td>\n",
       "    </tr>\n",
       "    <tr>\n",
       "      <th>3</th>\n",
       "      <td>1</td>\n",
       "      <td>3408</td>\n",
       "      <td>4</td>\n",
       "      <td>978300275</td>\n",
       "    </tr>\n",
       "    <tr>\n",
       "      <th>4</th>\n",
       "      <td>1</td>\n",
       "      <td>2355</td>\n",
       "      <td>5</td>\n",
       "      <td>978824291</td>\n",
       "    </tr>\n",
       "  </tbody>\n",
       "</table>\n",
       "</div>"
      ],
      "text/plain": [
       "   user_id  item id  rating  timestamp\n",
       "0        1     1193       5  978300760\n",
       "1        1      661       3  978302109\n",
       "2        1      914       3  978301968\n",
       "3        1     3408       4  978300275\n",
       "4        1     2355       5  978824291"
      ]
     },
     "execution_count": 9,
     "metadata": {},
     "output_type": "execute_result"
    }
   ],
   "source": [
    "ratings = pd.read_csv('ml-1m/ratings.dat', sep='::', names=['user_id', 'item id', 'rating', 'timestamp'])\n",
    "ratings.head()"
   ]
  },
  {
   "cell_type": "code",
   "execution_count": 11,
   "metadata": {},
   "outputs": [
    {
     "name": "stdout",
     "output_type": "stream",
     "text": [
      "Train length: 670140\n",
      "Test length: 330069\n"
     ]
    }
   ],
   "source": [
    "rating_train, rating_test = train_test_split(ratings, test_size = 0.33, random_state = 0)\n",
    "print('Train length:', rating_train.shape[0])\n",
    "print('Test length:', rating_test.shape[0])"
   ]
  },
  {
   "cell_type": "code",
   "execution_count": 12,
   "metadata": {},
   "outputs": [],
   "source": [
    "rating_train = rating_train.as_matrix()\n",
    "rating_test = rating_test.as_matrix()"
   ]
  },
  {
   "cell_type": "code",
   "execution_count": 13,
   "metadata": {},
   "outputs": [
    {
     "name": "stdout",
     "output_type": "stream",
     "text": [
      "Iteration 2 , RMSE = 0.9076221258691929\n",
      "Iteration 4 , RMSE = 0.7465738533291002\n",
      "Iteration 6 , RMSE = 0.716054559797462\n",
      "Iteration 8 , RMSE = 0.7107802841854425\n",
      "Iteration 10 , RMSE = 0.7098783205705074\n"
     ]
    }
   ],
   "source": [
    "recommender = MF(rating_train, K = 2, lam = .1, lr = 2, max_iter = 10, print_every=2, user_based = 1)\n",
    "recommender.fit()"
   ]
  },
  {
   "cell_type": "code",
   "execution_count": 14,
   "metadata": {},
   "outputs": [
    {
     "data": {
      "text/plain": [
       "0.7098783205705074"
      ]
     },
     "execution_count": 14,
     "metadata": {},
     "output_type": "execute_result"
    }
   ],
   "source": [
    "recommender.evaluate_RMSE(rating_test)"
   ]
  },
  {
   "cell_type": "code",
   "execution_count": null,
   "metadata": {},
   "outputs": [],
   "source": []
  }
 ],
 "metadata": {
  "kernelspec": {
   "display_name": "Python [conda env:py36]",
   "language": "python",
   "name": "conda-env-py36-py"
  },
  "language_info": {
   "codemirror_mode": {
    "name": "ipython",
    "version": 3
   },
   "file_extension": ".py",
   "mimetype": "text/x-python",
   "name": "python",
   "nbconvert_exporter": "python",
   "pygments_lexer": "ipython3",
   "version": "3.6.3"
  }
 },
 "nbformat": 4,
 "nbformat_minor": 2
}
