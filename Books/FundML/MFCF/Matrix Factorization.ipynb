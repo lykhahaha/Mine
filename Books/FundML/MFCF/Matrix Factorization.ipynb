{
 "cells": [
  {
   "cell_type": "code",
   "execution_count": 2,
   "metadata": {},
   "outputs": [],
   "source": [
    "import numpy as np\n",
    "import pandas as pd\n",
    "import datetime\n",
    "from sklearn.metrics.pairwise import cosine_similarity\n",
    "from scipy import sparse\n",
    "from sklearn.model_selection import train_test_split"
   ]
  },
  {
   "cell_type": "markdown",
   "metadata": {},
   "source": [
    "# Matrix Factorization"
   ]
  },
  {
   "cell_type": "code",
   "execution_count": 9,
   "metadata": {},
   "outputs": [],
   "source": [
    "class MF():\n",
    "    def __init__(self, rating_matrix, K, lam = 0.01, X_init = None, b_init = None, W_init = None, d_init = None,\\\n",
    "                 lr = 0.5, max_iter = 1000, print_every = 100, user_based = True):\n",
    "        self.rating_matrix = rating_matrix\n",
    "        self.K = K # number of features\n",
    "        self.lam = lam\n",
    "        self.lr = lr\n",
    "        self.max_iter = max_iter\n",
    "        self.print_every = print_every\n",
    "        self.user_based = user_based # Check to use User-User CF\n",
    "        self.n_users = int(np.max(rating_matrix[:, 0])) + 1# Number of users, +1 because indices starts from 0\n",
    "        self.n_items = int(np.max(rating_matrix[:, 1])) + 1# Number of items\n",
    "        self.X = np.random.randn(K, self.n_items) if X_init is None else X_init\n",
    "        self.b = np.random.randn(1, self.n_items) if b_init is None else b_init\n",
    "        self.W = np.random.randn(K, self.n_users) if W_init is None else W_init\n",
    "        self.d = np.random.randn(1, self.n_users) if d_init is None else d_init\n",
    "        self.n_ratings = len(rating_matrix) # number of ratings\n",
    "        self.normalized_rm = self.rating_matrix.copy() # Normalized Rating Matrix\n",
    "        \n",
    "    def normalize_matrix(self):\n",
    "        if self.user_based:\n",
    "            user_col = 0\n",
    "            item_col = 1\n",
    "            n_objects = self.n_users\n",
    "        else:\n",
    "            user_col = 1\n",
    "            item_col = 0\n",
    "            n_objects = self.n_items\n",
    "        self.mu = np.zeros((n_objects))\n",
    "        #objects = self.rating_matrix[:, user_col]\n",
    "        for obj in range(n_objects):\n",
    "            ids = np.where(self.rating_matrix[:, user_col] == obj)[0]\n",
    "            item_ids = self.normalized_rm[ids.tolist(), item_col]\n",
    "            ratings = self.normalized_rm[ids.tolist(), 2]\n",
    "            self.mu[obj] = np.mean(ratings) if ids.size > 0 else 0\n",
    "            self.normalized_rm[ids.tolist(), 2] = ratings - self.mu[obj]\n",
    "        \n",
    "    def get_items_rated_by_user(self, user_id):\n",
    "        \"\"\"\n",
    "        Use to update_W and return (item_ids, ratings)\n",
    "        \"\"\"\n",
    "        ids = np.where(self.normalized_rm[:, 0] == user_id)[0]\n",
    "        item_ids, ratings = self.normalized_rm[ids.tolist(), 1], self.normalized_rm[ids.tolist(), 2]\n",
    "        return item_ids.astype('int'), ratings\n",
    "    \n",
    "    def get_users_rate_items(self, item_id):\n",
    "        \"\"\"\n",
    "        Use to update_X and return (user_ids, ratings)\n",
    "        \"\"\"\n",
    "        ids = np.where(self.normalized_rm[:, 1] == item_id)[0]\n",
    "        user_ids, ratings = self.normalized_rm[ids.tolist(), 0], self.normalized_rm[ids.tolist(), 2]\n",
    "        return user_ids.astype('int'), ratings\n",
    "    \n",
    "    def loss(self):\n",
    "        L = 0\n",
    "        for user in range(self.n_users):\n",
    "            item_ids, ratings = self.get_items_rated_by_user(user)\n",
    "            X_hat = self.X[:, item_ids.tolist()]# X_hat = (19 item feature, #item user rated)\n",
    "            b_hat = self.b[0, item_ids.tolist()]\n",
    "            L+=0.5*np.sum((np.dot(X_hat.T, self.W[:, user]) + b_hat + self.d[0, user] - ratings)**2)\n",
    "        L/=self.n_ratings\n",
    "        L+=0.5*self.lam*(np.sum(self.X**2) + np.sum(self.W**2))\n",
    "        return L\n",
    "    \n",
    "    def update_W(self):\n",
    "        idx_users = np.random.permutation(self.n_users)\n",
    "        for user in idx_users:\n",
    "            item_ids, ratings = self.get_items_rated_by_user(user)\n",
    "            X_hat = self.X[:, item_ids.tolist()]# X_hat = (19 item feature, #item user rated)\n",
    "            b_hat = self.b[0, item_ids.tolist()]\n",
    "\n",
    "            error = np.dot(X_hat.T, self.W[:, user]) + b_hat + self.d[0, user] - ratings\n",
    "            grad_W_hat = np.dot(X_hat, error)/self.n_ratings + self.lam * self.W[:, user]\n",
    "            grad_d = np.sum(error) / self.n_ratings\n",
    "\n",
    "            self.W[:, user] -= self.lr * grad_W_hat\n",
    "            self.d[0, user] -= self.lr * grad_d\n",
    "    \n",
    "    def update_X(self):\n",
    "        idx_items = np.random.permutation(self.n_items)\n",
    "        for item in idx_items:\n",
    "            user_ids, ratings = self.get_users_rate_items(item)\n",
    "            W_hat = self.W[:, user_ids.tolist()]\n",
    "            d_hat = self.d[0, user_ids.tolist()]\n",
    "\n",
    "            error = np.dot(W_hat.T, self.X[:, item]) + d_hat + self.b[0, item] - ratings\n",
    "            grad_X_hat = np.dot(W_hat, error)/self.n_ratings + self.lam * self.X[:, item]\n",
    "            grad_b = np.sum(error)/self.n_ratings\n",
    "\n",
    "            self.X[:, item] -= self.lr * grad_X_hat\n",
    "            self.b[0, item] -= self.lr * grad_b\n",
    "            \n",
    "    \n",
    "    def fit(self):\n",
    "        self.normalize_matrix()\n",
    "        for it in range(self.max_iter):\n",
    "            self.update_X()\n",
    "            self.update_W()\n",
    "            if (it + 1) % self.print_every == 0:\n",
    "                rmse = self.evaluate_RMSE(self.rating_matrix)\n",
    "                print('Iteration {}, loss = {:.4f}, RMSE = {:.4f}'.format(it + 1, self.loss(), rmse))\n",
    "                \n",
    "    def pred(self, user_id, item_id):\n",
    "        if self.user_based:\n",
    "            bias = self.mu[user_id]\n",
    "        else:\n",
    "            bias = self.mu[item_id]\n",
    "        \n",
    "        pred = np.dot(self.X[:, item_id].T, self.W[:, user_id]) + self.b[0, item_id] + self.d[0, user_id]  + bias\n",
    "        return pred\n",
    "    \n",
    "    def evaluate_RMSE(self, rating_matrix):\n",
    "        tot = cnt = 0\n",
    "        for user in range(self.n_users):\n",
    "            item_ids, ratings = self.get_items_rated_by_user(user)\n",
    "            err = np.dot(self.X[:, item_ids.tolist()].T, self.W[:, user]) + self.b[0, item_ids.tolist()].T + self.d[0, user] - ratings\n",
    "            tot += np.sum(err*err)\n",
    "            cnt += len(ratings)\n",
    "        return np.sqrt(tot/cnt)"
   ]
  },
  {
   "cell_type": "markdown",
   "metadata": {},
   "source": [
    "# Applied in Sample Test ex.dat"
   ]
  },
  {
   "cell_type": "code",
   "execution_count": 3,
   "metadata": {},
   "outputs": [
    {
     "data": {
      "text/html": [
       "<div>\n",
       "<style scoped>\n",
       "    .dataframe tbody tr th:only-of-type {\n",
       "        vertical-align: middle;\n",
       "    }\n",
       "\n",
       "    .dataframe tbody tr th {\n",
       "        vertical-align: top;\n",
       "    }\n",
       "\n",
       "    .dataframe thead th {\n",
       "        text-align: right;\n",
       "    }\n",
       "</style>\n",
       "<table border=\"1\" class=\"dataframe\">\n",
       "  <thead>\n",
       "    <tr style=\"text-align: right;\">\n",
       "      <th></th>\n",
       "      <th>user_id</th>\n",
       "      <th>item_id</th>\n",
       "      <th>rating</th>\n",
       "    </tr>\n",
       "  </thead>\n",
       "  <tbody>\n",
       "    <tr>\n",
       "      <th>0</th>\n",
       "      <td>0</td>\n",
       "      <td>0</td>\n",
       "      <td>5.0</td>\n",
       "    </tr>\n",
       "    <tr>\n",
       "      <th>1</th>\n",
       "      <td>0</td>\n",
       "      <td>1</td>\n",
       "      <td>4.0</td>\n",
       "    </tr>\n",
       "    <tr>\n",
       "      <th>2</th>\n",
       "      <td>0</td>\n",
       "      <td>3</td>\n",
       "      <td>2.0</td>\n",
       "    </tr>\n",
       "    <tr>\n",
       "      <th>3</th>\n",
       "      <td>0</td>\n",
       "      <td>4</td>\n",
       "      <td>2.0</td>\n",
       "    </tr>\n",
       "    <tr>\n",
       "      <th>4</th>\n",
       "      <td>1</td>\n",
       "      <td>0</td>\n",
       "      <td>5.0</td>\n",
       "    </tr>\n",
       "  </tbody>\n",
       "</table>\n",
       "</div>"
      ],
      "text/plain": [
       "   user_id  item_id  rating\n",
       "0        0        0     5.0\n",
       "1        0        1     4.0\n",
       "2        0        3     2.0\n",
       "3        0        4     2.0\n",
       "4        1        0     5.0"
      ]
     },
     "execution_count": 3,
     "metadata": {},
     "output_type": "execute_result"
    }
   ],
   "source": [
    "ratings = pd.read_csv('ex.dat', sep=' ', names=['user_id', 'item_id', 'rating'], encoding='latin-1')\n",
    "ratings.head()"
   ]
  },
  {
   "cell_type": "code",
   "execution_count": 4,
   "metadata": {},
   "outputs": [
    {
     "data": {
      "text/plain": [
       "(22, 3)"
      ]
     },
     "execution_count": 4,
     "metadata": {},
     "output_type": "execute_result"
    }
   ],
   "source": [
    "rating_train = ratings.as_matrix()\n",
    "rating_train.shape"
   ]
  },
  {
   "cell_type": "code",
   "execution_count": 11,
   "metadata": {},
   "outputs": [],
   "source": [
    "recommender = MF(rating_train, K = 2, max_iter = 1000)\n",
    "recommender.fit()"
   ]
  },
  {
   "cell_type": "markdown",
   "metadata": {},
   "source": [
    "# Applied in MovieLens 100K"
   ]
  },
  {
   "cell_type": "code",
   "execution_count": 12,
   "metadata": {},
   "outputs": [
    {
     "data": {
      "text/html": [
       "<div>\n",
       "<style scoped>\n",
       "    .dataframe tbody tr th:only-of-type {\n",
       "        vertical-align: middle;\n",
       "    }\n",
       "\n",
       "    .dataframe tbody tr th {\n",
       "        vertical-align: top;\n",
       "    }\n",
       "\n",
       "    .dataframe thead th {\n",
       "        text-align: right;\n",
       "    }\n",
       "</style>\n",
       "<table border=\"1\" class=\"dataframe\">\n",
       "  <thead>\n",
       "    <tr style=\"text-align: right;\">\n",
       "      <th></th>\n",
       "      <th>user_id</th>\n",
       "      <th>item id</th>\n",
       "      <th>rating</th>\n",
       "      <th>timestamp</th>\n",
       "    </tr>\n",
       "  </thead>\n",
       "  <tbody>\n",
       "    <tr>\n",
       "      <th>0</th>\n",
       "      <td>1</td>\n",
       "      <td>1</td>\n",
       "      <td>5</td>\n",
       "      <td>874965758</td>\n",
       "    </tr>\n",
       "    <tr>\n",
       "      <th>1</th>\n",
       "      <td>1</td>\n",
       "      <td>2</td>\n",
       "      <td>3</td>\n",
       "      <td>876893171</td>\n",
       "    </tr>\n",
       "    <tr>\n",
       "      <th>2</th>\n",
       "      <td>1</td>\n",
       "      <td>3</td>\n",
       "      <td>4</td>\n",
       "      <td>878542960</td>\n",
       "    </tr>\n",
       "    <tr>\n",
       "      <th>3</th>\n",
       "      <td>1</td>\n",
       "      <td>4</td>\n",
       "      <td>3</td>\n",
       "      <td>876893119</td>\n",
       "    </tr>\n",
       "    <tr>\n",
       "      <th>4</th>\n",
       "      <td>1</td>\n",
       "      <td>5</td>\n",
       "      <td>3</td>\n",
       "      <td>889751712</td>\n",
       "    </tr>\n",
       "  </tbody>\n",
       "</table>\n",
       "</div>"
      ],
      "text/plain": [
       "   user_id  item id  rating  timestamp\n",
       "0        1        1       5  874965758\n",
       "1        1        2       3  876893171\n",
       "2        1        3       4  878542960\n",
       "3        1        4       3  876893119\n",
       "4        1        5       3  889751712"
      ]
     },
     "execution_count": 12,
     "metadata": {},
     "output_type": "execute_result"
    }
   ],
   "source": [
    "rating_base = pd.read_csv('../Content-Based/ml-100k/ua.base', sep='\\t', names=['user_id', 'item id', 'rating', 'timestamp'])\n",
    "rating_test = pd.read_csv('../Content-Based/ml-100k/ua.test', sep='\\t', names=['user_id', 'item id', 'rating', 'timestamp'])\n",
    "rating_base.head()"
   ]
  },
  {
   "cell_type": "code",
   "execution_count": 13,
   "metadata": {},
   "outputs": [],
   "source": [
    "rating_train = rating_base.as_matrix()\n",
    "rating_test = rating_test.as_matrix()"
   ]
  },
  {
   "cell_type": "code",
   "execution_count": 14,
   "metadata": {},
   "outputs": [],
   "source": [
    "rating_train[:, :2] -= 1\n",
    "rating_test[:, :2] -= 1"
   ]
  },
  {
   "cell_type": "code",
   "execution_count": 15,
   "metadata": {},
   "outputs": [
    {
     "name": "stdout",
     "output_type": "stream",
     "text": [
      "Iteration 5, loss = 1.2765, RMSE = 1.1820\n",
      "Iteration 10, loss = 0.4970, RMSE = 0.9964\n",
      "Iteration 15, loss = 0.4040, RMSE = 0.8989\n",
      "Iteration 20, loss = 0.3525, RMSE = 0.8397\n",
      "Iteration 25, loss = 0.3200, RMSE = 0.8000\n",
      "Iteration 30, loss = 0.2977, RMSE = 0.7716\n"
     ]
    }
   ],
   "source": [
    "recommender = MF(rating_train, K = 50, lam = .01, lr = 50, max_iter = 30, print_every=5, user_based = 1)\n",
    "recommender.fit()"
   ]
  },
  {
   "cell_type": "code",
   "execution_count": 16,
   "metadata": {},
   "outputs": [
    {
     "name": "stdout",
     "output_type": "stream",
     "text": [
      "Iteration 5, loss = 1.2455, RMSE = 1.1523\n",
      "Iteration 10, loss = 0.4701, RMSE = 0.9691\n",
      "Iteration 15, loss = 0.3802, RMSE = 0.8720\n",
      "Iteration 20, loss = 0.3307, RMSE = 0.8132\n",
      "Iteration 25, loss = 0.2998, RMSE = 0.7743\n",
      "Iteration 30, loss = 0.2789, RMSE = 0.7469\n"
     ]
    }
   ],
   "source": [
    "recommender = MF(rating_train, K = 50, lam = .01, lr = 50, max_iter = 30, print_every=5, user_based = 0)\n",
    "recommender.fit()"
   ]
  },
  {
   "cell_type": "markdown",
   "metadata": {},
   "source": [
    "# Applied in MovieLens 1M"
   ]
  },
  {
   "cell_type": "code",
   "execution_count": 30,
   "metadata": {},
   "outputs": [
    {
     "name": "stderr",
     "output_type": "stream",
     "text": [
      "D:\\Anaconda\\envs\\py36\\lib\\site-packages\\ipykernel\\__main__.py:1: ParserWarning: Falling back to the 'python' engine because the 'c' engine does not support regex separators (separators > 1 char and different from '\\s+' are interpreted as regex); you can avoid this warning by specifying engine='python'.\n",
      "  if __name__ == '__main__':\n"
     ]
    },
    {
     "data": {
      "text/html": [
       "<div>\n",
       "<style scoped>\n",
       "    .dataframe tbody tr th:only-of-type {\n",
       "        vertical-align: middle;\n",
       "    }\n",
       "\n",
       "    .dataframe tbody tr th {\n",
       "        vertical-align: top;\n",
       "    }\n",
       "\n",
       "    .dataframe thead th {\n",
       "        text-align: right;\n",
       "    }\n",
       "</style>\n",
       "<table border=\"1\" class=\"dataframe\">\n",
       "  <thead>\n",
       "    <tr style=\"text-align: right;\">\n",
       "      <th></th>\n",
       "      <th>user_id</th>\n",
       "      <th>item id</th>\n",
       "      <th>rating</th>\n",
       "      <th>timestamp</th>\n",
       "    </tr>\n",
       "  </thead>\n",
       "  <tbody>\n",
       "    <tr>\n",
       "      <th>0</th>\n",
       "      <td>1</td>\n",
       "      <td>1193</td>\n",
       "      <td>5</td>\n",
       "      <td>978300760</td>\n",
       "    </tr>\n",
       "    <tr>\n",
       "      <th>1</th>\n",
       "      <td>1</td>\n",
       "      <td>661</td>\n",
       "      <td>3</td>\n",
       "      <td>978302109</td>\n",
       "    </tr>\n",
       "    <tr>\n",
       "      <th>2</th>\n",
       "      <td>1</td>\n",
       "      <td>914</td>\n",
       "      <td>3</td>\n",
       "      <td>978301968</td>\n",
       "    </tr>\n",
       "    <tr>\n",
       "      <th>3</th>\n",
       "      <td>1</td>\n",
       "      <td>3408</td>\n",
       "      <td>4</td>\n",
       "      <td>978300275</td>\n",
       "    </tr>\n",
       "    <tr>\n",
       "      <th>4</th>\n",
       "      <td>1</td>\n",
       "      <td>2355</td>\n",
       "      <td>5</td>\n",
       "      <td>978824291</td>\n",
       "    </tr>\n",
       "  </tbody>\n",
       "</table>\n",
       "</div>"
      ],
      "text/plain": [
       "   user_id  item id  rating  timestamp\n",
       "0        1     1193       5  978300760\n",
       "1        1      661       3  978302109\n",
       "2        1      914       3  978301968\n",
       "3        1     3408       4  978300275\n",
       "4        1     2355       5  978824291"
      ]
     },
     "execution_count": 30,
     "metadata": {},
     "output_type": "execute_result"
    }
   ],
   "source": [
    "ratings = pd.read_csv('ml-1m/ratings.dat', sep='::', names=['user_id', 'item id', 'rating', 'timestamp'])\n",
    "ratings.head()"
   ]
  },
  {
   "cell_type": "code",
   "execution_count": 31,
   "metadata": {},
   "outputs": [
    {
     "name": "stdout",
     "output_type": "stream",
     "text": [
      "Train length: 670140\n",
      "Test length: 330069\n"
     ]
    }
   ],
   "source": [
    "rating_train, rating_test = train_test_split(ratings, test_size = 0.33, random_state = 0)\n",
    "print('Train length:', rating_train.shape[0])\n",
    "print('Test length:', rating_test.shape[0])"
   ]
  },
  {
   "cell_type": "code",
   "execution_count": 32,
   "metadata": {},
   "outputs": [],
   "source": [
    "rating_train = rating_train.as_matrix()\n",
    "rating_test = rating_test.as_matrix()"
   ]
  },
  {
   "cell_type": "code",
   "execution_count": 33,
   "metadata": {},
   "outputs": [
    {
     "name": "stdout",
     "output_type": "stream",
     "text": [
      "Iteration 2, loss = 1.0839, RMSE = 0.7097\n",
      "Iteration 4, loss = 0.9868, RMSE = 0.7097\n",
      "Iteration 6, loss = 0.9079, RMSE = 0.7097\n",
      "Iteration 8, loss = 0.8424, RMSE = 0.7097\n",
      "Iteration 10, loss = 0.7871, RMSE = 0.7097\n"
     ]
    }
   ],
   "source": [
    "recommender = MF(rating_train, K = 2, lam = .1, lr = 2, max_iter = 10, print_every=2, user_based = 1)\n",
    "recommender.fit()"
   ]
  },
  {
   "cell_type": "code",
   "execution_count": 14,
   "metadata": {},
   "outputs": [
    {
     "data": {
      "text/plain": [
       "0.7098783205705074"
      ]
     },
     "execution_count": 14,
     "metadata": {},
     "output_type": "execute_result"
    }
   ],
   "source": [
    "recommender.evaluate_RMSE(rating_test)"
   ]
  },
  {
   "cell_type": "code",
   "execution_count": null,
   "metadata": {},
   "outputs": [],
   "source": []
  }
 ],
 "metadata": {
  "kernelspec": {
   "display_name": "Python [conda env:py36]",
   "language": "python",
   "name": "conda-env-py36-py"
  },
  "language_info": {
   "codemirror_mode": {
    "name": "ipython",
    "version": 3
   },
   "file_extension": ".py",
   "mimetype": "text/x-python",
   "name": "python",
   "nbconvert_exporter": "python",
   "pygments_lexer": "ipython3",
   "version": "3.6.3"
  }
 },
 "nbformat": 4,
 "nbformat_minor": 2
}
