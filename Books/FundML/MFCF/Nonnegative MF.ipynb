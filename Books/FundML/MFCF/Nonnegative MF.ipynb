{
 "cells": [
  {
   "cell_type": "code",
   "execution_count": 1,
   "metadata": {},
   "outputs": [],
   "source": [
    "import numpy as np\n",
    "import pandas as pd\n",
    "import datetime\n",
    "from sklearn.metrics.pairwise import cosine_similarity\n",
    "from scipy import sparse\n",
    "from sklearn.model_selection import train_test_split"
   ]
  },
  {
   "cell_type": "code",
   "execution_count": 27,
   "metadata": {},
   "outputs": [],
   "source": [
    "class NMF():\n",
    "    def __init__(self, rating_matrix, K, lam=.02, X_init = None, W_init = None, lr=.005, n_epoches=20, print_every=2):\n",
    "        self.rating_matrix=rating_matrix\n",
    "        self.K = K # number of features\n",
    "        self.lam=lam\n",
    "        self.lr=lr\n",
    "        self.n_epoches=n_epoches\n",
    "        self.print_every=print_every\n",
    "        self.users = rating_matrix[:, 0]\n",
    "        self.items = rating_matrix[:, 1]\n",
    "        self.ratings = rating_matrix[:, 2]\n",
    "        self.n_users = int(np.max(self.users)) + 1# Number of users, +1 because indices starts from 0\n",
    "        self.n_items = int(np.max(self.items)) + 1# Number of items\n",
    "        self.n_ratings = len(rating_matrix) # number of ratings\n",
    "        self.X = .1*np.random.randn(self.n_items, K) if X_init is None else X_init\n",
    "        self.b = np.zeros(self.n_items)\n",
    "        self.W = .1*np.random.randn(self.n_users, K) if W_init is None else W_init\n",
    "        self.d = np.zeros(self.n_users)\n",
    "        self.mu = np.mean(self.ratings)\n",
    "    \n",
    "    def fit(self):\n",
    "        for epoch in range(self.n_epoches):\n",
    "            idx_ratings = np.random.permutation(self.n_ratings)\n",
    "            for n in idx_ratings:\n",
    "                u, i, rating = self.users[n], self.items[n], self.ratings[n]\n",
    "                error = np.dot(self.X[i], self.W[u]) + self.b[i] + self.d[u] + self.mu - rating\n",
    "                self.X[i] -= self.lr * (error * self.W[u] + self.lam * self.X[i])\n",
    "                self.b[i] -= self.lr * (error + self.lam * self.b[i]) # ?\n",
    "                self.W[u] -= self.lr * (error * self.X[i] + self.lam * self.W[u])\n",
    "                self.d[u] -= self.lr * (error + self.lam * self.d[u]) # ?\n",
    "            \n",
    "            if (epoch + 1) % self.print_every == 0:\n",
    "                rmse = self.evaluate_RMSE(self.rating_matrix)\n",
    "                print('Iteration {}, loss: {:.4f}, RMSE = {:.4f}'.format(epoch + 1, self.loss(), rmse))\n",
    "                \n",
    "    def loss(self):\n",
    "        L = 0\n",
    "        for n in range(self.n_ratings):\n",
    "            u, i, rating = self.users[n], self.items[n], self.ratings[n]\n",
    "            L+=0.5*(np.dot(self.X[i], self.W[u]) + self.b[i] + self.d[u] + self.mu - rating)**2 + .5*self.lam*(self.b[i]**2 + self.d[u]**2 + np.sum(self.X[i]**2) + np.sum(self.W[u]**2))\n",
    "        L/=self.n_ratings\n",
    "        #L+=0.5*self.lam*(np.sum(self.X**2) + np.sum(self.W**2))\n",
    "        return L\n",
    "                \n",
    "    def pred(self, user_id, item_id):\n",
    "        pred = np.dot(self.X[item_id], self.W[user_id]) + self.b[item_id] + self.d[user_id] + self.mu\n",
    "        return max(0, min(5, pred))\n",
    "                \n",
    "    def evaluate_RMSE(self, rating_matrix):\n",
    "        tot = 0\n",
    "        for idx in range(len(rating_matrix)):\n",
    "            err = self.pred(rating_matrix[idx, 0], rating_matrix[idx, 1]) - rating_matrix[idx, 2]\n",
    "            tot += np.sum(err*err)\n",
    "        return np.sqrt(tot/len(rating_matrix))"
   ]
  },
  {
   "cell_type": "markdown",
   "metadata": {},
   "source": [
    "# Applied in MovieLens 100K"
   ]
  },
  {
   "cell_type": "code",
   "execution_count": 3,
   "metadata": {},
   "outputs": [
    {
     "data": {
      "text/html": [
       "<div>\n",
       "<style scoped>\n",
       "    .dataframe tbody tr th:only-of-type {\n",
       "        vertical-align: middle;\n",
       "    }\n",
       "\n",
       "    .dataframe tbody tr th {\n",
       "        vertical-align: top;\n",
       "    }\n",
       "\n",
       "    .dataframe thead th {\n",
       "        text-align: right;\n",
       "    }\n",
       "</style>\n",
       "<table border=\"1\" class=\"dataframe\">\n",
       "  <thead>\n",
       "    <tr style=\"text-align: right;\">\n",
       "      <th></th>\n",
       "      <th>user_id</th>\n",
       "      <th>item id</th>\n",
       "      <th>rating</th>\n",
       "      <th>timestamp</th>\n",
       "    </tr>\n",
       "  </thead>\n",
       "  <tbody>\n",
       "    <tr>\n",
       "      <th>0</th>\n",
       "      <td>1</td>\n",
       "      <td>1</td>\n",
       "      <td>5</td>\n",
       "      <td>874965758</td>\n",
       "    </tr>\n",
       "    <tr>\n",
       "      <th>1</th>\n",
       "      <td>1</td>\n",
       "      <td>2</td>\n",
       "      <td>3</td>\n",
       "      <td>876893171</td>\n",
       "    </tr>\n",
       "    <tr>\n",
       "      <th>2</th>\n",
       "      <td>1</td>\n",
       "      <td>3</td>\n",
       "      <td>4</td>\n",
       "      <td>878542960</td>\n",
       "    </tr>\n",
       "    <tr>\n",
       "      <th>3</th>\n",
       "      <td>1</td>\n",
       "      <td>4</td>\n",
       "      <td>3</td>\n",
       "      <td>876893119</td>\n",
       "    </tr>\n",
       "    <tr>\n",
       "      <th>4</th>\n",
       "      <td>1</td>\n",
       "      <td>5</td>\n",
       "      <td>3</td>\n",
       "      <td>889751712</td>\n",
       "    </tr>\n",
       "  </tbody>\n",
       "</table>\n",
       "</div>"
      ],
      "text/plain": [
       "   user_id  item id  rating  timestamp\n",
       "0        1        1       5  874965758\n",
       "1        1        2       3  876893171\n",
       "2        1        3       4  878542960\n",
       "3        1        4       3  876893119\n",
       "4        1        5       3  889751712"
      ]
     },
     "execution_count": 3,
     "metadata": {},
     "output_type": "execute_result"
    }
   ],
   "source": [
    "rating_base = pd.read_csv('../Content-Based/ml-100k/ua.base', sep='\\t', names=['user_id', 'item id', 'rating', 'timestamp'])\n",
    "rating_test = pd.read_csv('../Content-Based/ml-100k/ua.test', sep='\\t', names=['user_id', 'item id', 'rating', 'timestamp'])\n",
    "rating_base.head()"
   ]
  },
  {
   "cell_type": "code",
   "execution_count": 4,
   "metadata": {},
   "outputs": [],
   "source": [
    "rating_train = rating_base.as_matrix()\n",
    "rating_test = rating_test.as_matrix()"
   ]
  },
  {
   "cell_type": "code",
   "execution_count": 5,
   "metadata": {},
   "outputs": [],
   "source": [
    "rating_train[:, :2] -= 1\n",
    "rating_test[:, :2] -= 1"
   ]
  },
  {
   "cell_type": "code",
   "execution_count": 29,
   "metadata": {},
   "outputs": [
    {
     "name": "stdout",
     "output_type": "stream",
     "text": [
      "Iteration 5, loss: 0.4854, RMSE = 0.9131\n",
      "Iteration 10, loss: 0.4567, RMSE = 0.8912\n",
      "Iteration 15, loss: 0.4425, RMSE = 0.8761\n",
      "Iteration 20, loss: 0.4320, RMSE = 0.8597\n",
      "Iteration 25, loss: 0.4230, RMSE = 0.8420\n",
      "Iteration 30, loss: 0.4155, RMSE = 0.8243\n",
      "Iteration 35, loss: 0.4091, RMSE = 0.8076\n",
      "Iteration 40, loss: 0.4036, RMSE = 0.7917\n",
      "Iteration 45, loss: 0.3989, RMSE = 0.7767\n",
      "Iteration 50, loss: 0.3949, RMSE = 0.7630\n"
     ]
    }
   ],
   "source": [
    "recommender = NMF(rating_train, K = 100, lam = .1, lr = .005, n_epoches=50, print_every=5)\n",
    "recommender.fit()"
   ]
  },
  {
   "cell_type": "code",
   "execution_count": 15,
   "metadata": {},
   "outputs": [
    {
     "data": {
      "text/plain": [
       "array([[-0.09115018,  0.0391809 , -0.00173673, ..., -0.01602382,\n",
       "         0.07480827, -0.03061768],\n",
       "       [-0.00500204, -0.01827754, -0.03268735, ..., -0.05494982,\n",
       "        -0.08099138, -0.03753803],\n",
       "       [ 0.05250853, -0.02206965,  0.07094046, ..., -0.05714843,\n",
       "        -0.00055036, -0.0913247 ],\n",
       "       ...,\n",
       "       [-0.1039583 ,  0.07682033, -0.10928394, ...,  0.09998052,\n",
       "         0.03175551,  0.14215109],\n",
       "       [-0.02250635,  0.10323281,  0.0019595 , ..., -0.01634393,\n",
       "        -0.0352844 , -0.10013444],\n",
       "       [-0.04630697,  0.00860786, -0.0385849 , ...,  0.00778307,\n",
       "         0.0844827 , -0.06646943]])"
      ]
     },
     "execution_count": 15,
     "metadata": {},
     "output_type": "execute_result"
    }
   ],
   "source": [
    "recommender.X"
   ]
  },
  {
   "cell_type": "code",
   "execution_count": 10,
   "metadata": {},
   "outputs": [
    {
     "data": {
      "text/plain": [
       "array([[ 0.09386343,  0.04506018, -0.11717322, ..., -0.13959729,\n",
       "        -0.18067205,  0.04896217],\n",
       "       [ 0.02177766,  0.03481139, -0.09291538, ..., -0.12469851,\n",
       "         0.07443468, -0.11951526],\n",
       "       [ 0.09293721, -0.06385368,  0.21894225, ...,  0.13581335,\n",
       "        -0.00633399, -0.02194369],\n",
       "       ...,\n",
       "       [ 0.14665205, -0.05652938,  0.03229272, ..., -0.07097061,\n",
       "        -0.12297571,  0.08758564],\n",
       "       [-0.04615017, -0.07192247,  0.02170987, ..., -0.04528887,\n",
       "        -0.00556666, -0.03014689],\n",
       "       [ 0.06398043,  0.23854669, -0.00985581, ..., -0.14389396,\n",
       "         0.07956757,  0.12645999]])"
      ]
     },
     "execution_count": 10,
     "metadata": {},
     "output_type": "execute_result"
    }
   ],
   "source": [
    "recommender.W"
   ]
  },
  {
   "cell_type": "code",
   "execution_count": null,
   "metadata": {},
   "outputs": [],
   "source": []
  }
 ],
 "metadata": {
  "kernelspec": {
   "display_name": "Python [conda env:py36]",
   "language": "python",
   "name": "conda-env-py36-py"
  },
  "language_info": {
   "codemirror_mode": {
    "name": "ipython",
    "version": 3
   },
   "file_extension": ".py",
   "mimetype": "text/x-python",
   "name": "python",
   "nbconvert_exporter": "python",
   "pygments_lexer": "ipython3",
   "version": "3.6.3"
  }
 },
 "nbformat": 4,
 "nbformat_minor": 2
}
