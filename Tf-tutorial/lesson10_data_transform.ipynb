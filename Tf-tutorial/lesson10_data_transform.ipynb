{
  "nbformat": 4,
  "nbformat_minor": 0,
  "metadata": {
    "colab": {
      "name": "lesson10_data_transform.ipynb",
      "version": "0.3.2",
      "provenance": [],
      "collapsed_sections": []
    },
    "kernelspec": {
      "name": "python3",
      "display_name": "Python 3"
    },
    "accelerator": "GPU"
  },
  "cells": [
    {
      "metadata": {
        "id": "JgXWfPUVERX7",
        "colab_type": "text"
      },
      "cell_type": "markdown",
      "source": [
        "# Reshape"
      ]
    },
    {
      "metadata": {
        "id": "ew235AlIEWD_",
        "colab_type": "code",
        "colab": {}
      },
      "cell_type": "code",
      "source": [
        "import tensorflow as tf\n",
        "import numpy as np"
      ],
      "execution_count": 0,
      "outputs": []
    },
    {
      "metadata": {
        "id": "-upDL9upEjtP",
        "colab_type": "code",
        "outputId": "bc1c4e7d-6c44-436b-a57b-3ad01835e1dd",
        "colab": {
          "base_uri": "https://localhost:8080/",
          "height": 34
        }
      },
      "cell_type": "code",
      "source": [
        "a = tf.random.normal([4, 28, 28, 3])\n",
        "tf.reshape(a, [4, -1, 3]).shape"
      ],
      "execution_count": 0,
      "outputs": [
        {
          "output_type": "execute_result",
          "data": {
            "text/plain": [
              "TensorShape([4, 784, 3])"
            ]
          },
          "metadata": {
            "tags": []
          },
          "execution_count": 46
        }
      ]
    },
    {
      "metadata": {
        "id": "KIAw8BgtElh2",
        "colab_type": "code",
        "outputId": "f409af16-6dc8-4043-b1a4-ba09faea5e77",
        "colab": {
          "base_uri": "https://localhost:8080/",
          "height": 34
        }
      },
      "cell_type": "code",
      "source": [
        "a[0, 0, 0]"
      ],
      "execution_count": 0,
      "outputs": [
        {
          "output_type": "execute_result",
          "data": {
            "text/plain": [
              "<tf.Tensor: id=15, shape=(3,), dtype=float32, numpy=array([1., 1., 1.], dtype=float32)>"
            ]
          },
          "metadata": {
            "tags": []
          },
          "execution_count": 4
        }
      ]
    },
    {
      "metadata": {
        "id": "J9yNDHFuYMl6",
        "colab_type": "text"
      },
      "cell_type": "markdown",
      "source": [
        "# tf.transpose"
      ]
    },
    {
      "metadata": {
        "id": "gxM1Gv16Eov4",
        "colab_type": "code",
        "outputId": "44b8ff98-c801-4cf7-c4bd-c0ed81595dc5",
        "colab": {
          "base_uri": "https://localhost:8080/",
          "height": 34
        }
      },
      "cell_type": "code",
      "source": [
        "a = tf.random.normal((4, 3, 2, 1))\n",
        "tf.transpose(a).shape"
      ],
      "execution_count": 0,
      "outputs": [
        {
          "output_type": "execute_result",
          "data": {
            "text/plain": [
              "TensorShape([1, 2, 3, 4])"
            ]
          },
          "metadata": {
            "tags": []
          },
          "execution_count": 47
        }
      ]
    },
    {
      "metadata": {
        "id": "w0cVsloeL2J_",
        "colab_type": "code",
        "outputId": "1363845c-57f4-4bb4-c005-0e116518c8f9",
        "colab": {
          "base_uri": "https://localhost:8080/",
          "height": 34
        }
      },
      "cell_type": "code",
      "source": [
        "tf.transpose(a, perm=[0, 1, 3, 2]).shape"
      ],
      "execution_count": 0,
      "outputs": [
        {
          "output_type": "execute_result",
          "data": {
            "text/plain": [
              "TensorShape([4, 3, 1, 2])"
            ]
          },
          "metadata": {
            "tags": []
          },
          "execution_count": 48
        }
      ]
    },
    {
      "metadata": {
        "id": "kJLAEhT-YxYP",
        "colab_type": "text"
      },
      "cell_type": "markdown",
      "source": [
        "# tf.expand_dim"
      ]
    },
    {
      "metadata": {
        "id": "xb-nxY5qL7l9",
        "colab_type": "code",
        "outputId": "72ee83cf-b6f8-4ee8-ed28-662dfa9d86f7",
        "colab": {
          "base_uri": "https://localhost:8080/",
          "height": 34
        }
      },
      "cell_type": "code",
      "source": [
        "a = tf.random.normal([4, 35, 8])\n",
        "tf.expand_dims(a, axis=0).shape"
      ],
      "execution_count": 0,
      "outputs": [
        {
          "output_type": "execute_result",
          "data": {
            "text/plain": [
              "TensorShape([1, 4, 35, 8])"
            ]
          },
          "metadata": {
            "tags": []
          },
          "execution_count": 49
        }
      ]
    },
    {
      "metadata": {
        "id": "ZqrAP7OPL-q8",
        "colab_type": "code",
        "outputId": "dabf7ace-52b7-4ba2-b4ab-2df9aa9f1243",
        "colab": {
          "base_uri": "https://localhost:8080/",
          "height": 34
        }
      },
      "cell_type": "code",
      "source": [
        "tf.expand_dims(a, axis=-1).shape"
      ],
      "execution_count": 0,
      "outputs": [
        {
          "output_type": "execute_result",
          "data": {
            "text/plain": [
              "TensorShape([4, 35, 8, 1])"
            ]
          },
          "metadata": {
            "tags": []
          },
          "execution_count": 50
        }
      ]
    },
    {
      "metadata": {
        "id": "MHDgf9DPQT6M",
        "colab_type": "text"
      },
      "cell_type": "markdown",
      "source": [
        "# tf.squeeze:\n",
        "Only squeeze for shape=1, [4, 35, 8, 1] --> [4, 35, 8]; [1, 4, 35, 8] --> [4, 35, 8]"
      ]
    },
    {
      "metadata": {
        "id": "dU98ELa1P1AJ",
        "colab_type": "code",
        "outputId": "39dd1efe-647f-4e56-eb86-3e6886b13a1f",
        "colab": {
          "base_uri": "https://localhost:8080/",
          "height": 34
        }
      },
      "cell_type": "code",
      "source": [
        "a = tf.ones([1, 2, 1, 1, 3])\n",
        "tf.squeeze(a).shape"
      ],
      "execution_count": 0,
      "outputs": [
        {
          "output_type": "execute_result",
          "data": {
            "text/plain": [
              "TensorShape([2, 3])"
            ]
          },
          "metadata": {
            "tags": []
          },
          "execution_count": 52
        }
      ]
    },
    {
      "metadata": {
        "id": "MQoK9OlGPonW",
        "colab_type": "code",
        "outputId": "8cb7fad4-566b-4cf6-c2aa-2877b20891ce",
        "colab": {
          "base_uri": "https://localhost:8080/",
          "height": 34
        }
      },
      "cell_type": "code",
      "source": [
        "a = tf.ones([1, 2, 1, 3])\n",
        "tf.squeeze(a, axis=0).shape"
      ],
      "execution_count": 0,
      "outputs": [
        {
          "output_type": "execute_result",
          "data": {
            "text/plain": [
              "TensorShape([2, 1, 3])"
            ]
          },
          "metadata": {
            "tags": []
          },
          "execution_count": 53
        }
      ]
    },
    {
      "metadata": {
        "id": "wDdqV3-LQOp-",
        "colab_type": "code",
        "outputId": "09146acb-4c6a-4df6-dfb2-823912713ca2",
        "colab": {
          "base_uri": "https://localhost:8080/",
          "height": 34
        }
      },
      "cell_type": "code",
      "source": [
        "tf.squeeze(a, axis=2).shape"
      ],
      "execution_count": 0,
      "outputs": [
        {
          "output_type": "execute_result",
          "data": {
            "text/plain": [
              "TensorShape([1, 2, 3])"
            ]
          },
          "metadata": {
            "tags": []
          },
          "execution_count": 54
        }
      ]
    },
    {
      "metadata": {
        "id": "aYOWDi6pbVXj",
        "colab_type": "text"
      },
      "cell_type": "markdown",
      "source": [
        "# Broadcasting"
      ]
    },
    {
      "metadata": {
        "id": "Z78G9FwmbUt4",
        "colab_type": "code",
        "colab": {
          "base_uri": "https://localhost:8080/",
          "height": 34
        },
        "outputId": "113b42cb-e843-4e17-bde1-fba724ecfa7d"
      },
      "cell_type": "code",
      "source": [
        "x = tf.random.normal([4, 32, 32, 3])\n",
        "(x + tf.random.normal([3])).shape"
      ],
      "execution_count": 2,
      "outputs": [
        {
          "output_type": "execute_result",
          "data": {
            "text/plain": [
              "TensorShape([4, 32, 32, 3])"
            ]
          },
          "metadata": {
            "tags": []
          },
          "execution_count": 2
        }
      ]
    },
    {
      "metadata": {
        "id": "o80gwKZebi5D",
        "colab_type": "code",
        "colab": {
          "base_uri": "https://localhost:8080/",
          "height": 34
        },
        "outputId": "65fb9a87-3351-4da5-ca05-b172475331bb"
      },
      "cell_type": "code",
      "source": [
        "(x + tf.random.normal([32, 32, 1])).shape"
      ],
      "execution_count": 3,
      "outputs": [
        {
          "output_type": "execute_result",
          "data": {
            "text/plain": [
              "TensorShape([4, 32, 32, 3])"
            ]
          },
          "metadata": {
            "tags": []
          },
          "execution_count": 3
        }
      ]
    },
    {
      "metadata": {
        "id": "3k_crlm3bmu0",
        "colab_type": "code",
        "colab": {
          "base_uri": "https://localhost:8080/",
          "height": 34
        },
        "outputId": "a16685af-2091-41e4-9146-ad9bbd3c6770"
      },
      "cell_type": "code",
      "source": [
        "(x + tf.random.normal([4, 1, 1, 1])).shape"
      ],
      "execution_count": 5,
      "outputs": [
        {
          "output_type": "execute_result",
          "data": {
            "text/plain": [
              "TensorShape([4, 32, 32, 3])"
            ]
          },
          "metadata": {
            "tags": []
          },
          "execution_count": 5
        }
      ]
    },
    {
      "metadata": {
        "id": "fyD6zWbDc0tq",
        "colab_type": "text"
      },
      "cell_type": "markdown",
      "source": [
        "# tf.tile"
      ]
    },
    {
      "metadata": {
        "id": "BVZVVKbqbqcj",
        "colab_type": "code",
        "colab": {
          "base_uri": "https://localhost:8080/",
          "height": 34
        },
        "outputId": "9fe52fd2-9bc6-4342-8ff9-6f55b35e36a5"
      },
      "cell_type": "code",
      "source": [
        "a = tf.ones([1, 3, 4])\n",
        "tf.tile(a, [2, 1, 1]).shape # repeat first dim 2 times, second dim one time, third dim one time"
      ],
      "execution_count": 9,
      "outputs": [
        {
          "output_type": "execute_result",
          "data": {
            "text/plain": [
              "TensorShape([2, 3, 4])"
            ]
          },
          "metadata": {
            "tags": []
          },
          "execution_count": 9
        }
      ]
    }
  ]
}