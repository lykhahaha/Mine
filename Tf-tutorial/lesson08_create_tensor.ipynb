{
  "nbformat": 4,
  "nbformat_minor": 0,
  "metadata": {
    "colab": {
      "name": "lesson08-create_tensor.ipynb",
      "version": "0.3.2",
      "provenance": []
    },
    "kernelspec": {
      "name": "python3",
      "display_name": "Python 3"
    },
    "accelerator": "GPU"
  },
  "cells": [
    {
      "metadata": {
        "id": "JgXWfPUVERX7",
        "colab_type": "text"
      },
      "cell_type": "markdown",
      "source": [
        "# From numpy, list"
      ]
    },
    {
      "metadata": {
        "id": "ew235AlIEWD_",
        "colab_type": "code",
        "colab": {}
      },
      "cell_type": "code",
      "source": [
        "import tensorflow as tf\n",
        "import numpy as np"
      ],
      "execution_count": 0,
      "outputs": []
    },
    {
      "metadata": {
        "id": "-upDL9upEjtP",
        "colab_type": "code",
        "outputId": "6896dee6-95a0-4778-9dd1-81408b756664",
        "colab": {
          "base_uri": "https://localhost:8080/",
          "height": 67
        }
      },
      "cell_type": "code",
      "source": [
        "tf.convert_to_tensor(np.ones([2, 3]))"
      ],
      "execution_count": 0,
      "outputs": [
        {
          "output_type": "execute_result",
          "data": {
            "text/plain": [
              "<tf.Tensor: id=49, shape=(2, 3), dtype=float64, numpy=\n",
              "array([[1., 1., 1.],\n",
              "       [1., 1., 1.]])>"
            ]
          },
          "metadata": {
            "tags": []
          },
          "execution_count": 17
        }
      ]
    },
    {
      "metadata": {
        "id": "KIAw8BgtElh2",
        "colab_type": "code",
        "outputId": "2ec120bc-7c68-4d54-c80d-8ae4bf6fad1c",
        "colab": {
          "base_uri": "https://localhost:8080/",
          "height": 67
        }
      },
      "cell_type": "code",
      "source": [
        "tf.convert_to_tensor(np.zeros([2, 3]))"
      ],
      "execution_count": 0,
      "outputs": [
        {
          "output_type": "execute_result",
          "data": {
            "text/plain": [
              "<tf.Tensor: id=51, shape=(2, 3), dtype=float64, numpy=\n",
              "array([[0., 0., 0.],\n",
              "       [0., 0., 0.]])>"
            ]
          },
          "metadata": {
            "tags": []
          },
          "execution_count": 18
        }
      ]
    },
    {
      "metadata": {
        "id": "gxM1Gv16Eov4",
        "colab_type": "code",
        "outputId": "2e29cabf-e2d6-488b-8179-fe3424cae41b",
        "colab": {
          "base_uri": "https://localhost:8080/",
          "height": 34
        }
      },
      "cell_type": "code",
      "source": [
        "tf.convert_to_tensor([1, 2])"
      ],
      "execution_count": 0,
      "outputs": [
        {
          "output_type": "execute_result",
          "data": {
            "text/plain": [
              "<tf.Tensor: id=53, shape=(2,), dtype=int32, numpy=array([1, 2], dtype=int32)>"
            ]
          },
          "metadata": {
            "tags": []
          },
          "execution_count": 19
        }
      ]
    },
    {
      "metadata": {
        "id": "MHDgf9DPQT6M",
        "colab_type": "text"
      },
      "cell_type": "markdown",
      "source": [
        "# tf.zeros"
      ]
    },
    {
      "metadata": {
        "id": "dU98ELa1P1AJ",
        "colab_type": "code",
        "colab": {}
      },
      "cell_type": "code",
      "source": [
        "a = tf.zeros([2, 3])"
      ],
      "execution_count": 0,
      "outputs": []
    },
    {
      "metadata": {
        "id": "A9EdBClxQe85",
        "colab_type": "text"
      },
      "cell_type": "markdown",
      "source": [
        "# tf.zeros_like"
      ]
    },
    {
      "metadata": {
        "id": "oEa7pBJkQaD_",
        "colab_type": "code",
        "outputId": "e159d2c3-748a-4195-e3a4-bf251940f772",
        "colab": {
          "base_uri": "https://localhost:8080/",
          "height": 67
        }
      },
      "cell_type": "code",
      "source": [
        "tf.zeros_like(a)"
      ],
      "execution_count": 0,
      "outputs": [
        {
          "output_type": "execute_result",
          "data": {
            "text/plain": [
              "<tf.Tensor: id=66, shape=(2, 3), dtype=float32, numpy=\n",
              "array([[0., 0., 0.],\n",
              "       [0., 0., 0.]], dtype=float32)>"
            ]
          },
          "metadata": {
            "tags": []
          },
          "execution_count": 23
        }
      ]
    },
    {
      "metadata": {
        "id": "vOA36xZOSxxw",
        "colab_type": "text"
      },
      "cell_type": "markdown",
      "source": [
        "# tf.fill"
      ]
    },
    {
      "metadata": {
        "id": "QstgHklZSxUf",
        "colab_type": "code",
        "outputId": "65d825a9-710a-42a4-a202-94f6828d3806",
        "colab": {
          "base_uri": "https://localhost:8080/",
          "height": 67
        }
      },
      "cell_type": "code",
      "source": [
        "tf.fill([2, 2], 0.)"
      ],
      "execution_count": 0,
      "outputs": [
        {
          "output_type": "execute_result",
          "data": {
            "text/plain": [
              "<tf.Tensor: id=74, shape=(2, 2), dtype=float32, numpy=\n",
              "array([[0., 0.],\n",
              "       [0., 0.]], dtype=float32)>"
            ]
          },
          "metadata": {
            "tags": []
          },
          "execution_count": 25
        }
      ]
    },
    {
      "metadata": {
        "id": "4bp6XUmvS8JH",
        "colab_type": "text"
      },
      "cell_type": "markdown",
      "source": [
        "# tf.random"
      ]
    },
    {
      "metadata": {
        "id": "vqjUVGDNQhN_",
        "colab_type": "code",
        "outputId": "812af4e3-e3a4-42ef-ca4a-d9ae014fb7b9",
        "colab": {
          "base_uri": "https://localhost:8080/",
          "height": 67
        }
      },
      "cell_type": "code",
      "source": [
        "tf.random.normal([2, 2], mean=1, stddev=1)"
      ],
      "execution_count": 0,
      "outputs": [
        {
          "output_type": "execute_result",
          "data": {
            "text/plain": [
              "<tf.Tensor: id=81, shape=(2, 2), dtype=float32, numpy=\n",
              "array([[1.7085483 , 2.3613663 ],\n",
              "       [1.4203386 , 0.91462946]], dtype=float32)>"
            ]
          },
          "metadata": {
            "tags": []
          },
          "execution_count": 26
        }
      ]
    },
    {
      "metadata": {
        "id": "dGW2V0QOQk6f",
        "colab_type": "code",
        "outputId": "32b1029e-30f9-4d5f-d3c1-b482630e4f51",
        "colab": {
          "base_uri": "https://localhost:8080/",
          "height": 67
        }
      },
      "cell_type": "code",
      "source": [
        "# https://assessingpsyche.wordpress.com/2014/06/04/using-the-truncated-normal-distribution/\n",
        "tf.random.truncated_normal([2, 2])"
      ],
      "execution_count": 0,
      "outputs": [
        {
          "output_type": "execute_result",
          "data": {
            "text/plain": [
              "<tf.Tensor: id=88, shape=(2, 2), dtype=float32, numpy=\n",
              "array([[ 0.7902417,  0.8423269],\n",
              "       [-1.7637302,  0.6950322]], dtype=float32)>"
            ]
          },
          "metadata": {
            "tags": []
          },
          "execution_count": 27
        }
      ]
    },
    {
      "metadata": {
        "id": "9eZIoix9QppG",
        "colab_type": "code",
        "outputId": "398a66f7-5364-4326-ccf6-477b754db005",
        "colab": {
          "base_uri": "https://localhost:8080/",
          "height": 34
        }
      },
      "cell_type": "code",
      "source": [
        "b = tf.constant([0, 1])\n",
        "tf.cast(b, dtype=tf.bool)"
      ],
      "execution_count": 0,
      "outputs": [
        {
          "output_type": "execute_result",
          "data": {
            "text/plain": [
              "<tf.Tensor: id=14, shape=(2,), dtype=bool, numpy=array([False,  True])>"
            ]
          },
          "metadata": {
            "tags": []
          },
          "execution_count": 11
        }
      ]
    },
    {
      "metadata": {
        "id": "JvtXeADwQ-dU",
        "colab_type": "text"
      },
      "cell_type": "markdown",
      "source": [
        "# tf.Variable"
      ]
    },
    {
      "metadata": {
        "id": "P_CFb5upRCkN",
        "colab_type": "code",
        "outputId": "35d5f937-870c-410e-9f37-2ad92275e464",
        "colab": {
          "base_uri": "https://localhost:8080/",
          "height": 84
        }
      },
      "cell_type": "code",
      "source": [
        "a = tf.range(5)\n",
        "b = tf.Variable(a)\n",
        "print(b.dtype)\n",
        "print(b.name)\n",
        "print(b.trainable)\n",
        "print(b.numpy())"
      ],
      "execution_count": 0,
      "outputs": [
        {
          "output_type": "stream",
          "text": [
            "<dtype: 'int32'>\n",
            "Variable:0\n",
            "True\n",
            "[0 1 2 3 4]\n"
          ],
          "name": "stdout"
        }
      ]
    },
    {
      "metadata": {
        "id": "bgeGOtaeRPYc",
        "colab_type": "code",
        "colab": {}
      },
      "cell_type": "code",
      "source": [
        "idx = tf.range(10)\n",
        "idx = tf.random.shuffle(idx)"
      ],
      "execution_count": 0,
      "outputs": []
    },
    {
      "metadata": {
        "id": "Z2Ws1JJCUTEl",
        "colab_type": "code",
        "outputId": "62fa5d11-2ce1-42ab-8fc6-17efc2329505",
        "colab": {
          "base_uri": "https://localhost:8080/",
          "height": 34
        }
      },
      "cell_type": "code",
      "source": [
        "idx"
      ],
      "execution_count": 0,
      "outputs": [
        {
          "output_type": "execute_result",
          "data": {
            "text/plain": [
              "<tf.Tensor: id=106, shape=(10,), dtype=int32, numpy=array([7, 1, 6, 8, 4, 5, 0, 2, 3, 9], dtype=int32)>"
            ]
          },
          "metadata": {
            "tags": []
          },
          "execution_count": 34
        }
      ]
    },
    {
      "metadata": {
        "id": "BCo_7h8iUGGO",
        "colab_type": "code",
        "outputId": "14f7fc5d-b225-4d3f-d486-e533f77d6274",
        "colab": {
          "base_uri": "https://localhost:8080/",
          "height": 67
        }
      },
      "cell_type": "code",
      "source": [
        "b = tf.random.normal([10])\n",
        "print(b)"
      ],
      "execution_count": 0,
      "outputs": [
        {
          "output_type": "stream",
          "text": [
            "tf.Tensor(\n",
            "[ 0.30402645  0.04102645  1.827063    0.2556292   0.79209304  2.4785826\n",
            " -1.689666   -0.23342058  0.66996884 -0.34534493], shape=(10,), dtype=float32)\n"
          ],
          "name": "stdout"
        }
      ]
    },
    {
      "metadata": {
        "id": "ksyQcb1aUGu9",
        "colab_type": "code",
        "outputId": "80fa8615-91fe-4590-ab1e-2020ce79857b",
        "colab": {
          "base_uri": "https://localhost:8080/",
          "height": 67
        }
      },
      "cell_type": "code",
      "source": [
        "b_1 = tf.gather(b, idx) # equivalent to b = np.array([2, 5, 6, 9]), idx = [2, 1, 0, 3] --> b[idx] = np.array([6, 5, 2, 9])\n",
        "print(b_1)"
      ],
      "execution_count": 0,
      "outputs": [
        {
          "output_type": "stream",
          "text": [
            "tf.Tensor(\n",
            "[-0.23342058  0.04102645 -1.689666    0.66996884  0.79209304  2.4785826\n",
            "  0.30402645  1.827063    0.2556292  -0.34534493], shape=(10,), dtype=float32)\n"
          ],
          "name": "stdout"
        }
      ]
    },
    {
      "metadata": {
        "id": "5ZSZPH8NULPF",
        "colab_type": "code",
        "outputId": "069df0c1-82d4-4744-878c-b8d2ae325ad0",
        "colab": {
          "base_uri": "https://localhost:8080/",
          "height": 84
        }
      },
      "cell_type": "code",
      "source": [
        "b_1"
      ],
      "execution_count": 0,
      "outputs": [
        {
          "output_type": "execute_result",
          "data": {
            "text/plain": [
              "<tf.Tensor: id=109, shape=(10,), dtype=float32, numpy=\n",
              "array([-0.42398933,  0.5387916 ,  1.1074581 ,  0.5014956 ,  0.7389524 ,\n",
              "        0.22786121,  1.7052184 ,  0.38056594,  1.345198  ,  0.18721788],\n",
              "      dtype=float32)>"
            ]
          },
          "metadata": {
            "tags": []
          },
          "execution_count": 36
        }
      ]
    },
    {
      "metadata": {
        "id": "PTZbGXvLUWTV",
        "colab_type": "code",
        "outputId": "0817a066-a2fa-48d2-a11c-bee59ada7a1b",
        "colab": {
          "base_uri": "https://localhost:8080/",
          "height": 84
        }
      },
      "cell_type": "code",
      "source": [
        "b"
      ],
      "execution_count": 0,
      "outputs": [
        {
          "output_type": "execute_result",
          "data": {
            "text/plain": [
              "<tf.Tensor: id=100, shape=(10,), dtype=float32, numpy=\n",
              "array([ 1.7052184 ,  0.5387916 ,  0.38056594,  1.345198  ,  0.7389524 ,\n",
              "        0.22786121,  1.1074581 , -0.42398933,  0.5014956 ,  0.18721788],\n",
              "      dtype=float32)>"
            ]
          },
          "metadata": {
            "tags": []
          },
          "execution_count": 37
        }
      ]
    },
    {
      "metadata": {
        "id": "HBOyNto3UXuN",
        "colab_type": "code",
        "colab": {}
      },
      "cell_type": "code",
      "source": [
        "from tensorflow.keras import layers"
      ],
      "execution_count": 0,
      "outputs": []
    },
    {
      "metadata": {
        "id": "UA1ZIkfMWrr_",
        "colab_type": "text"
      },
      "cell_type": "markdown",
      "source": [
        "# Create kernel and bias"
      ]
    },
    {
      "metadata": {
        "id": "5qWP8mURU27k",
        "colab_type": "code",
        "colab": {}
      },
      "cell_type": "code",
      "source": [
        "x = tf.random.normal([4, 784])\n",
        "\n",
        "net = layers.Dense(10)\n",
        "net.build((4, 784))"
      ],
      "execution_count": 0,
      "outputs": []
    },
    {
      "metadata": {
        "id": "WeSZBr3KVifB",
        "colab_type": "code",
        "outputId": "390338bc-ff46-4908-da9d-12768bede20c",
        "colab": {
          "base_uri": "https://localhost:8080/",
          "height": 252
        }
      },
      "cell_type": "code",
      "source": [
        "net.kernel"
      ],
      "execution_count": 0,
      "outputs": [
        {
          "output_type": "execute_result",
          "data": {
            "text/plain": [
              "<tf.Variable 'kernel:0' shape=(784, 10) dtype=float32, numpy=\n",
              "array([[ 0.06972524, -0.00441265, -0.04061479, ...,  0.03950334,\n",
              "        -0.077971  , -0.01086161],\n",
              "       [ 0.00488394,  0.07651331, -0.08168378, ..., -0.06282382,\n",
              "        -0.03743479,  0.08679696],\n",
              "       [-0.04640407, -0.01665675,  0.04548831, ...,  0.04844909,\n",
              "        -0.00345407,  0.06951759],\n",
              "       ...,\n",
              "       [ 0.02807427, -0.0715555 ,  0.00650156, ..., -0.07030544,\n",
              "        -0.08236653, -0.05510021],\n",
              "       [ 0.05131801,  0.02043574, -0.08541578, ..., -0.08261286,\n",
              "        -0.05360834,  0.063302  ],\n",
              "       [-0.06280925, -0.04804197, -0.08084955, ..., -0.02112252,\n",
              "        -0.06687539, -0.04175954]], dtype=float32)>"
            ]
          },
          "metadata": {
            "tags": []
          },
          "execution_count": 54
        }
      ]
    },
    {
      "metadata": {
        "id": "-4ZlWyRIWDMg",
        "colab_type": "code",
        "outputId": "66c4b1cb-5757-4dbf-f23e-67a5557390ba",
        "colab": {
          "base_uri": "https://localhost:8080/",
          "height": 34
        }
      },
      "cell_type": "code",
      "source": [
        "net.bias"
      ],
      "execution_count": 0,
      "outputs": [
        {
          "output_type": "execute_result",
          "data": {
            "text/plain": [
              "<tf.Variable 'bias:0' shape=(10,) dtype=float32, numpy=array([0., 0., 0., 0., 0., 0., 0., 0., 0., 0.], dtype=float32)>"
            ]
          },
          "metadata": {
            "tags": []
          },
          "execution_count": 55
        }
      ]
    },
    {
      "metadata": {
        "id": "N6ooUUSFWuke",
        "colab_type": "code",
        "outputId": "5bd3a30d-920c-4676-ed4c-aa09f9080fcd",
        "colab": {
          "base_uri": "https://localhost:8080/",
          "height": 34
        }
      },
      "cell_type": "code",
      "source": [
        "net(x).shape"
      ],
      "execution_count": 0,
      "outputs": [
        {
          "output_type": "execute_result",
          "data": {
            "text/plain": [
              "TensorShape([4, 10])"
            ]
          },
          "metadata": {
            "tags": []
          },
          "execution_count": 56
        }
      ]
    },
    {
      "metadata": {
        "id": "_Mg1j3N0XK3u",
        "colab_type": "code",
        "colab": {}
      },
      "cell_type": "code",
      "source": [
        ""
      ],
      "execution_count": 0,
      "outputs": []
    }
  ]
}